{
 "cells": [
  {
   "cell_type": "markdown",
   "metadata": {},
   "source": [
    "# Werkcollege-opdrachten Week 1.1"
   ]
  },
  {
   "cell_type": "markdown",
   "metadata": {},
   "source": [
    "## Maak een virtual environment"
   ]
  },
  {
   "cell_type": "markdown",
   "metadata": {},
   "source": [
    "Zorg dat je met behulp van de handleiding *Bouw en gebruik van virtual environments - Handleiding* een virtual environment hebt gemaakt, dat jou en je duopartner garandeert altijd dezelfde versie van geïmporteerde dependencies te gebruiken.<br>\n",
    "Voeg hier vervolgens met *poetry add pandas* de pandas-dependency aan toe.<br>\n",
    "Als je dit allemaal goed hebt gedaan moet de onderstaande code bij jullie allebei succesvol runnen:"
   ]
  },
  {
   "cell_type": "code",
   "execution_count": 1,
   "metadata": {},
   "outputs": [],
   "source": [
    "import pandas as pd"
   ]
  },
  {
   "cell_type": "markdown",
   "metadata": {},
   "source": [
    "Zorg er daarnaast voor dat je...\n",
    "- Het bestand Waarheidstabel.png in dezelfde map als dit notebook hebt staan.\n",
    "- Het bestand Prinstabel.png in dezelfde map als dit notebook hebt staan.\n",
    "- Alle informatie onder het kopje *Basisoperaties* van de cheatsheet *Van Java naar Python - Cheatsheet* (zie Brightspace) bij de hand hebt."
   ]
  },
  {
   "cell_type": "markdown",
   "metadata": {},
   "source": [
    "## 1.1: Output, variabelen en input"
   ]
  },
  {
   "cell_type": "markdown",
   "metadata": {},
   "source": [
    "Geef code waarmee het volgende op het scherm komt te staan:<br>\n",
    "geef me je geld <br>\n",
    "of ik gebruik geweld, <br>\n",
    "toen kwam de controle aangesneld"
   ]
  },
  {
   "cell_type": "code",
   "execution_count": 2,
   "metadata": {},
   "outputs": [
    {
     "name": "stdout",
     "output_type": "stream",
     "text": [
      "geef me je geld \n",
      "of ik gebruik geweld, \n",
      "toen kwam de controle aangesneld\n"
     ]
    }
   ],
   "source": [
    "print('geef me je geld \\nof ik gebruik geweld, \\ntoen kwam de controle aangesneld')"
   ]
  },
  {
   "cell_type": "markdown",
   "metadata": {},
   "source": [
    "Declareer 2 variabelen zodat de volgende tekst geprint wordt:<br>\n",
    "Apenhoofd<br>\n",
    "Paardenstaart"
   ]
  },
  {
   "cell_type": "code",
   "execution_count": 3,
   "metadata": {},
   "outputs": [
    {
     "name": "stdout",
     "output_type": "stream",
     "text": [
      "Apenhoofd\n",
      "Paardenstaart\n"
     ]
    }
   ],
   "source": [
    "aap = 'Apenhoofd'\n",
    "paard = 'Paardenstaart'\n",
    "print(aap+'\\n'+paard)"
   ]
  },
  {
   "cell_type": "markdown",
   "metadata": {},
   "source": [
    "Voeg code toe zodat het programma het volgende doet:<br>\n",
    "1): Op het scherm komt A, B, C, D, ..., F, G te staan<br>\n",
    "2): De gebruiker voert een letter in<br>\n",
    "3): Op het scherm komt te staan:<br>\n",
    "Het is inderdaad:<br>\n",
    "*ingevoerde letter*"
   ]
  },
  {
   "cell_type": "code",
   "execution_count": 4,
   "metadata": {},
   "outputs": [
    {
     "name": "stdout",
     "output_type": "stream",
     "text": [
      "A, B, C, D, ..., F, G\n",
      "Het is inderdaad: \n"
     ]
    }
   ],
   "source": [
    "print('A, B, C, D, ..., F, G')\n",
    "letter= str(input())\n",
    "print('Het is inderdaad: '+letter)\n"
   ]
  },
  {
   "cell_type": "markdown",
   "metadata": {},
   "source": [
    "## 1.2: Stringconcatenatie en Rekenen"
   ]
  },
  {
   "cell_type": "markdown",
   "metadata": {},
   "source": [
    "Schrijf code dat een inkomen inleest en het volgende uitprint:<br>\n",
    "Uw inkomen (*ingelezen inkomen*) is zeer acceptabel."
   ]
  },
  {
   "cell_type": "code",
   "execution_count": 6,
   "metadata": {},
   "outputs": [
    {
     "name": "stdout",
     "output_type": "stream",
     "text": [
      "Uw inkomen 1000 is zeer acceptabel \n"
     ]
    }
   ],
   "source": [
    "inkomen = int(input())\n",
    "print(f'Uw inkomen {inkomen} is zeer acceptabel ')"
   ]
  },
  {
   "cell_type": "markdown",
   "metadata": {},
   "source": [
    "De oppervlakte van een driehoek is 1/2 * hoogte * basis<br>\n",
    "Schrijf code zodat het programma het volgende doet:<br>\n",
    "1): Op het scherm komt Wat is de basis? te staan<br>\n",
    "2): De gebruiker voert een basis in<br>\n",
    "3): Op het scherm komt Wat is de hoogte? te staan<br>\n",
    "4): De gebruiker voert een hoogte in<br>\n",
    "5): Op het scherm komt: De oppervlakte van de driehoek is *berekende oppervlakte* te staan"
   ]
  },
  {
   "cell_type": "code",
   "execution_count": 7,
   "metadata": {},
   "outputs": [
    {
     "name": "stdout",
     "output_type": "stream",
     "text": [
      "Wat is de basis?\n",
      "Wat is de hoogte?\n",
      "De oppervlakte van de driehoek is 204.0\n"
     ]
    }
   ],
   "source": [
    "print('Wat is de basis?')\n",
    "basis = float(input())\n",
    "print('Wat is de hoogte?')\n",
    "hoogte = float(input())\n",
    "\n",
    "print(f'De oppervlakte van de driehoek is {0.5*hoogte*basis}')\n"
   ]
  },
  {
   "cell_type": "markdown",
   "metadata": {},
   "source": [
    "## 1.3: if() en booleans"
   ]
  },
  {
   "cell_type": "markdown",
   "metadata": {},
   "source": [
    "Schrijf code dat het volgende doet:<br>\n",
    "1): De gebruiker voert in hoe oud iemand is<br>\n",
    "2): De gebruiker voert in of de ouders meegekomen zijn (input is J of N)<br><br>\n",
    "\n",
    "Als...\n",
    "- Jonger dan 6, wel ouders: op het scherm staat Je mag het zwembad in\n",
    "- Jonger dan 6, geen ouders: op het scherm staat Je mag het niet zwembad in\n",
    "- Leeftijd vanaf 6, geen ouders: op het scherm staat Je mag het zwembad in als je een diploma hebt\n",
    "- Leeftijd vanaf 6, wel ouders: op het scherm staat Waarom neem je nog je ouders mee?"
   ]
  },
  {
   "cell_type": "code",
   "execution_count": 9,
   "metadata": {},
   "outputs": [
    {
     "name": "stdout",
     "output_type": "stream",
     "text": [
      "Waarom neem je nog je ouders mee?\n"
     ]
    }
   ],
   "source": [
    "leeftijd = int(input('Hoe oud is het kind? '))\n",
    "ouders = input('Zijn ouders meegekomen? (J/N) ').strip().upper()\n",
    "\n",
    "if leeftijd < 6 and ouders == 'N':\n",
    "    print('Je mag niet het zwembad in')\n",
    "elif leeftijd < 6 and ouders == 'J':\n",
    "    print('Je mag het zwembad in')\n",
    "elif ouders == 'N':\n",
    "    print('Je mag het zwembad in als je een diploma hebt')\n",
    "else:\n",
    "    print('Waarom neem je nog je ouders mee?')\n"
   ]
  },
  {
   "cell_type": "markdown",
   "metadata": {},
   "source": [
    "Schrijf code zodat de boolean-variabelen een en twee aangemaakt worden en waarmee de juiste waarde in de boolean-variabele uitkomst komt te staan. In de waarheidstabel hieronder staat wat de waarde van uitkomst is bij de verschillende mogelijke combinaties van een en twee.<br><br>\n",
    "<img src=\"Waarheidstabel.png\">"
   ]
  },
  {
   "cell_type": "code",
   "execution_count": 10,
   "metadata": {},
   "outputs": [
    {
     "name": "stdout",
     "output_type": "stream",
     "text": [
      "Een: True, Twee: False, maakt uitkomst: False\n"
     ]
    }
   ],
   "source": [
    "een = input(\"voer 'waar' of 'onwaar' in voor 'een': \").strip().lower() == 'waar'\n",
    "twee = input(\"voer 'waar' of 'onwaar' in voor 'twee': \").strip().lower() == 'waar'\n",
    "\n",
    "if een and twee :\n",
    "    uitkomst = True\n",
    "elif een and not twee :\n",
    "    uitkomst = False\n",
    "else :\n",
    "    uitkomst = True\n",
    "\n",
    "print(f'Een: {een}, Twee: {twee}, maakt uitkomst: {uitkomst}')"
   ]
  },
  {
   "cell_type": "markdown",
   "metadata": {},
   "source": [
    "## 1.4: Methoden"
   ]
  },
  {
   "cell_type": "markdown",
   "metadata": {},
   "source": [
    "Schrijf een methode wachtwoord die als parameters twee woorden meekrijgt en het volgende controleert:\n",
    "- Als de woorden gelijk zijn, print het programma gelijk.\n",
    "- Als de woorden ongelijk zijn print het programma ongelijk.\n",
    "\n",
    "Vergeet niet dat je de methode niet alleen aan moet maken, maar ook aan moet roepen om output te krijgen."
   ]
  },
  {
   "cell_type": "code",
   "execution_count": 11,
   "metadata": {},
   "outputs": [
    {
     "name": "stdout",
     "output_type": "stream",
     "text": [
      "Ongelijk!\n"
     ]
    }
   ],
   "source": [
    "woord1 = input('Voer een woord in: ').lower()\n",
    "woord2 = input('Voer nogmaals een woord in: ').lower()\n",
    "\n",
    "if woord1 == woord2 :\n",
    "    print('Gelijk!')\n",
    "else :\n",
    "    print('Ongelijk!')"
   ]
  },
  {
   "cell_type": "markdown",
   "metadata": {},
   "source": [
    "Schrijf de methode zoekPrins die als parameter een prinses meekrijgt en vervolgens de bijbehorende prins teruggeeft, volgens de volgende tabel:<br><br>\n",
    "<img src=\"Prinstabel.png\"><br>\n",
    "Als de naam van de prinses niet in de tabel staat wordt het volgende door de methode teruggegeven: naamloos.<br>\n",
    "Roep ten slotte de gemaakte methode ook daadwerkelijk aan met een zelfgekozen prinsessennaam."
   ]
  },
  {
   "cell_type": "code",
   "execution_count": 13,
   "metadata": {},
   "outputs": [
    {
     "name": "stdout",
     "output_type": "stream",
     "text": [
      "Philip\n"
     ]
    }
   ],
   "source": [
    "PrinsessenLijst = {\n",
    "    'Aurora' : 'Philip',\n",
    "    'Ariël' : 'Eric',\n",
    "    'Jasmine' : 'Aladdin',\n",
    "    'Pocahontas' : 'John',\n",
    "    'Belle' : 'Beast',\n",
    "    'Tiana' : 'Naveen',\n",
    "    'Mulan' : 'Shang'\n",
    "}\n",
    "\n",
    "zoek_prines = input(\"Welke prinses zoek je?\")\n",
    "\n",
    "resultaat = PrinsessenLijst.get(zoek_prines,'naamloos')\n",
    "\n",
    "print(resultaat)"
   ]
  },
  {
   "cell_type": "markdown",
   "metadata": {},
   "source": [
    "## 1.5: While"
   ]
  },
  {
   "cell_type": "markdown",
   "metadata": {},
   "source": [
    "Schrijf de inhoud van de methode wachtwoord. Deze heeft geen parameters en laat de gebruiker twee wachtwoorden invoeren, waarna hij bekijkt of deze gelijk zijn. Zolang dat niet het geval is wordt er eerst Fout, probeer het opnieuw! uitgeprint en moet de gebruiker het opnieuw proberen.<br>Als de gebruiker het goed doet, komt er Succes! op het scherm te staan."
   ]
  },
  {
   "cell_type": "code",
   "execution_count": 14,
   "metadata": {},
   "outputs": [
    {
     "name": "stdout",
     "output_type": "stream",
     "text": [
      "Fout, probeer het opnieuw\n",
      "Fout, probeer het opnieuw\n",
      "Fout, probeer het opnieuw\n",
      "Succes!\n"
     ]
    }
   ],
   "source": [
    "ww1 = input(\"voer uw wachtwoord in: \")\n",
    "ww2 = input(\"Herhaal uw wachtwoord: \")\n",
    "\n",
    "while ww1 != ww2 :\n",
    "    print('Fout, probeer het opnieuw')\n",
    "    ww1 = input(\"voer uw wachtwoord in: \")\n",
    "    ww2 = input(\"Herhaal uw wachtwoord: \")\n",
    "\n",
    "print('Succes!')"
   ]
  },
  {
   "cell_type": "markdown",
   "metadata": {},
   "source": [
    "Schrijf de inhoud van de methode tafels. De methode print alle tafels vanaf 1 (dus inclusief de tafel van 1) tot en met de tafel van het meegekregen getal (dus inclusief de tafel van getal).  Zet een witregel tussen alle tafels in. <br>\n",
    "Let op:\n",
    "- Gebruik een while-loop\n",
    "- Gebruik de reeds geschreven methode tafel om een tafel uit te printen"
   ]
  },
  {
   "cell_type": "code",
   "execution_count": 15,
   "metadata": {},
   "outputs": [
    {
     "name": "stdout",
     "output_type": "stream",
     "text": [
      "Tafel van: 1\n",
      "\n",
      "1 x 1 = 1\n",
      "2 x 1 = 2\n",
      "3 x 1 = 3\n",
      "4 x 1 = 4\n",
      "5 x 1 = 5\n",
      "6 x 1 = 6\n",
      "7 x 1 = 7\n",
      "8 x 1 = 8\n",
      "9 x 1 = 9\n",
      "10 x 1 = 10\n",
      "\n",
      "Tafel van: 2\n",
      "\n",
      "1 x 2 = 2\n",
      "2 x 2 = 4\n",
      "3 x 2 = 6\n",
      "4 x 2 = 8\n",
      "5 x 2 = 10\n",
      "6 x 2 = 12\n",
      "7 x 2 = 14\n",
      "8 x 2 = 16\n",
      "9 x 2 = 18\n",
      "10 x 2 = 20\n",
      "\n"
     ]
    }
   ],
   "source": [
    "def tafel(getal: int):\n",
    "    teller: int = 1\n",
    "\n",
    "    while(teller <= 10):\n",
    "        print(f'{teller} x {getal} = {teller * getal}')\n",
    "        teller += 1\n",
    "\n",
    "def tafels(getal: int):\n",
    "    teller = 1\n",
    "    while teller <= getal: \n",
    "        print(f'Tafel van: {teller}\\n')\n",
    "        tafel(teller)\n",
    "        print()\n",
    "        \n",
    "        teller += 1\n",
    "\n",
    "x: int = int(input())\n",
    "tafels(x)"
   ]
  },
  {
   "cell_type": "markdown",
   "metadata": {},
   "source": [
    "## For-loop"
   ]
  },
  {
   "cell_type": "markdown",
   "metadata": {},
   "source": [
    "Vervang de while-loop door een werkende for-loop. De uitkomst van het programma mag daarbij niet veranderen."
   ]
  },
  {
   "cell_type": "code",
   "execution_count": 16,
   "metadata": {},
   "outputs": [
    {
     "name": "stdout",
     "output_type": "stream",
     "text": [
      "huidige getal: 0\n",
      "huidige getal: 1\n",
      "huidige getal: 2\n",
      "huidige getal: 3\n",
      "huidige getal: 4\n",
      "huidige getal: 5\n",
      "huidige getal: 6\n",
      "huidige getal: 7\n",
      "huidige getal: 8\n",
      "huidige getal: 9\n",
      "huidige getal: 10\n"
     ]
    }
   ],
   "source": [
    "def loopje():\n",
    "    aantal = 0\n",
    "\n",
    "    for i in range(11):\n",
    "        print(f\"huidige getal: {aantal}\")\n",
    "        aantal += 1\n",
    "\n",
    "loopje()"
   ]
  },
  {
   "cell_type": "markdown",
   "metadata": {},
   "source": [
    "Schrijf de methode checkEven die achtereenvolgens 12 getallen inleest en afdrukt hoe vaak het ingevoerde getal even was."
   ]
  },
  {
   "cell_type": "code",
   "execution_count": 28,
   "metadata": {},
   "outputs": [
    {
     "name": "stdout",
     "output_type": "stream",
     "text": [
      "er zijn 9 even nummer(s) gevonden.\n"
     ]
    }
   ],
   "source": [
    "def checkEven() :\n",
    "    even_teller = 0\n",
    "\n",
    "    for i in range(12) :\n",
    "        getal = int(input('Voer een geheel getal in: '))\n",
    "        if getal % 2 == 0:\n",
    "            even_teller += 1\n",
    "    print (f'er zijn {even_teller} even aantal nummer(s) gevonden.')       \n",
    "\n",
    "checkEven()"
   ]
  },
  {
   "cell_type": "markdown",
   "metadata": {},
   "source": [
    "## Objectoriëntatie"
   ]
  },
  {
   "cell_type": "markdown",
   "metadata": {},
   "source": [
    "Maak een minisysteem voor een kledingwinkel. Maak verschillende klassen voor verschillende soorten kledingstukken, waarbij sommige klassen geërfd worden van andere klassen.\n",
    "- Maak een klasse Kledingstuk aan, waarin door de constructor een merk, een maat en een prijs geïnitialiseerd worden.\n",
    "- Maak een klasse Broek en een klasse Shirt, beide erven van de klasse Kledingstuk. Voeg aan Broek een broek_type, en aan Shirt een shirt_type toe (d.m.v. constructorgebruik).\n",
    "- Maak een klasse Spijkerbroek die erft van broek en een klasse Poloshirt die erft van shirt. Voeg aan Spijkerbroek een blauwtint toe, en aan Poloshirt een kraagsoort (d.m.v. constructorgebruik).\n",
    "- Implementeer in elke klasse een beschrijf-methode, waarmee alle informatie over het betreffende kledingstuk wordt afgedrukt.\n",
    "- Maak van elke klasse een object aan en roep de beschrijfmethode aan. Controleer nauwkeurig of alles naar behoren werkt."
   ]
  },
  {
   "cell_type": "code",
   "execution_count": 1,
   "metadata": {},
   "outputs": [
    {
     "name": "stdout",
     "output_type": "stream",
     "text": [
      "Merk: Gucci, Maat: XXL, Prijs: €20000\n",
      "Type shirt: longsleeve\n",
      "\n",
      "Merk: zeeman, Maat: S, Prijs: €0.5\n",
      "Type shirt: Polo\n",
      "Kraagsoort: Hoge kraag\n",
      "\n",
      "Merk: Amiri, Maat: XXXXL, Prijs: €10000\n",
      "Type broek: leren broek\n",
      "\n",
      "Merk: Levi's, Maat: 34, Prijs: €500\n",
      "Type broek: spijker\n",
      "Blauwtint: Donkerzwart\n",
      "\n",
      "Merk: Cartier, Maat: M, Prijs: €300000\n"
     ]
    }
   ],
   "source": [
    "class KledingStuk:\n",
    "    def __init__(self,merk,maat,prijs):\n",
    "        self.merk = merk\n",
    "        self.maat = maat\n",
    "        self.prijs = prijs\n",
    "    \n",
    "    def beschrijf(self):\n",
    "        print(f'Merk: {self.merk}, Maat: {self.maat}, Prijs: €{self.prijs}')\n",
    "\n",
    "class Broek(KledingStuk):\n",
    "    def __init__(self, merk, maat, prijs, broek_type):\n",
    "        super().__init__(merk, maat, prijs)\n",
    "        self.broek_type = broek_type\n",
    "\n",
    "    def beschrijf(self):\n",
    "        super().beschrijf()\n",
    "        print(f'Type broek: {self.broek_type}')\n",
    "\n",
    "class Shirt(KledingStuk):\n",
    "    def __init__(self, merk, maat, prijs, shirt_type):\n",
    "        super().__init__(merk, maat, prijs)\n",
    "        self.shirt_type = shirt_type\n",
    "\n",
    "    def beschrijf(self):\n",
    "        super().beschrijf()\n",
    "        print(f'Type shirt: {self.shirt_type}')\n",
    "\n",
    "class Spijkerboek(Broek):\n",
    "    def __init__(self, merk, maat, prijs, broek_type, blauwtint):\n",
    "        super().__init__(merk, maat, prijs, broek_type)\n",
    "        self.blauwtint = blauwtint\n",
    "\n",
    "    def beschrijf(self):\n",
    "        super().beschrijf()\n",
    "        print(f'Blauwtint: {self.blauwtint}\\n')\n",
    "\n",
    "class Poloshirt(Shirt):\n",
    "    def __init__(self, merk, maat, prijs, shirt_type, kraagsoort):\n",
    "        super().__init__(merk, maat, prijs, shirt_type)\n",
    "        self.kraagsoort = kraagsoort\n",
    "\n",
    "    def beschrijf(self):\n",
    "        super().beschrijf()\n",
    "        print(f'Kraagsoort: {self.kraagsoort}\\n')\n",
    "\n",
    "\n",
    "shirt = Shirt('Gucci','XXL',20000,'longsleeve')\n",
    "polo = Poloshirt('zeeman','S',50,'Polo','Hoge kraag')\n",
    "brakka = Broek('Amiri', 'XXXXL',10000,'leren broek')\n",
    "broek = Spijkerboek(\"Levi's\", 34, 500, \"spijker\",\"Donkerzwart\")\n",
    "ring = KledingStuk('Cartier','M',300000)\n",
    "\n",
    "shirt.beschrijf()\n",
    "print()\n",
    "polo.beschrijf()\n",
    "brakka.beschrijf()\n",
    "print()\n",
    "broek.beschrijf()\n",
    "ring.beschrijf()\n",
    "\n"
   ]
  },
  {
   "cell_type": "markdown",
   "metadata": {},
   "source": [
    "Opmerking: in themaweken 2 t/m 8 ga je objectoriëntatie waarschijnlijk veel minder vaak gebruiken dan de andere boven- en ondergenoemde programmeertechnieken.<br>\n",
    "Maar let op: in themaweken 9 en 10 komt objectoriëntatie <b><u>uitvoerig</u></b> aan de orde. Zorg dus dat je deze kennis niet vergeet!"
   ]
  },
  {
   "cell_type": "markdown",
   "metadata": {},
   "source": [
    "## Verzamelingen"
   ]
  },
  {
   "cell_type": "markdown",
   "metadata": {},
   "source": [
    "Kijk nu naar alle info onder het kopje *Verzamelingen* van de cheatsheet *Van Java naar Python - Cheatsheet*."
   ]
  },
  {
   "cell_type": "markdown",
   "metadata": {},
   "source": [
    "Initialiseer een lijst met de naam mijn_lijst met de volgende waarden:<br>\n",
    "Jelle, Marleen, Henk, Fatima, Jelle, Henk"
   ]
  },
  {
   "cell_type": "code",
   "execution_count": 2,
   "metadata": {},
   "outputs": [
    {
     "name": "stdout",
     "output_type": "stream",
     "text": [
      "Marleen\n"
     ]
    }
   ],
   "source": [
    "mijn_lijst = ['Jelle','Marleen','Henk','Fatima','Jelle','Henk']\n",
    "\n",
    "print(mijn_lijst[1])"
   ]
  },
  {
   "cell_type": "markdown",
   "metadata": {},
   "source": [
    "Probeer nu de eerste waarde uit te lijst te veranderen in een naam naar keuze. Lukt dat?"
   ]
  },
  {
   "cell_type": "code",
   "execution_count": 3,
   "metadata": {},
   "outputs": [
    {
     "name": "stdout",
     "output_type": "stream",
     "text": [
      "Sam\n"
     ]
    }
   ],
   "source": [
    "mijn_lijst = ['Jelle','Marleen','Henk','Fatima','Jelle','Henk']\n",
    "mijn_lijst[0] = 'Sam'\n",
    "\n",
    "print(mijn_lijst[0])"
   ]
  },
  {
   "cell_type": "markdown",
   "metadata": {},
   "source": [
    "Maak van bovengenoemde lijst nu een tupel, genaamd: mijn_tupel."
   ]
  },
  {
   "cell_type": "code",
   "execution_count": 2,
   "metadata": {},
   "outputs": [],
   "source": [
    "mijn_tupel = ('Jelle','Marleen','Henk','Fatima','Jelle','Henk')"
   ]
  },
  {
   "cell_type": "markdown",
   "metadata": {},
   "source": [
    "Probeer nu de eerste waarde uit te tupel te veranderen in een naam naar keuze. Lukt dat?"
   ]
  },
  {
   "cell_type": "code",
   "execution_count": null,
   "metadata": {},
   "outputs": [
    {
     "ename": "NameError",
     "evalue": "name 'mijn_tupel' is not defined",
     "output_type": "error",
     "traceback": [
      "\u001b[0;31m---------------------------------------------------------------------------\u001b[0m",
      "\u001b[0;31mNameError\u001b[0m                                 Traceback (most recent call last)",
      "Cell \u001b[0;32mIn[1], line 1\u001b[0m\n\u001b[0;32m----> 1\u001b[0m \u001b[43mmijn_tupel\u001b[49m[\u001b[38;5;241m0\u001b[39m] \u001b[38;5;241m=\u001b[39m \u001b[38;5;124m'\u001b[39m\u001b[38;5;124mJolan\u001b[39m\u001b[38;5;124m'\u001b[39m\n\u001b[1;32m      3\u001b[0m \u001b[38;5;28mprint\u001b[39m(mijn_tupel[\u001b[38;5;241m0\u001b[39m])\n",
      "\u001b[0;31mNameError\u001b[0m: name 'mijn_tupel' is not defined"
     ]
    }
   ],
   "source": [
    "\n",
    "\n",
    "mijn_tupel[0] = 'Jolan'\n",
    "\n",
    "print(mijn_tupel[0])\n",
    "#Dat lukt niet, moet ik een alternatief verzinnen of is dit een soort test?\n",
    "\n"
   ]
  },
  {
   "cell_type": "markdown",
   "metadata": {},
   "source": [
    "Initialiseer een dictionary met de volgende key-value-combinaties:\n",
    "- naam: \"Jelle\"\n",
    "- leeftijd: 28\n",
    "- beroep: \"Docent\"\n",
    "- hobby: \"Volleybal\""
   ]
  },
  {
   "cell_type": "code",
   "execution_count": 7,
   "metadata": {},
   "outputs": [],
   "source": [
    "mijn_dict = {\n",
    "    'naam' : 'Jelle',\n",
    "    'leeftijd' : 28,\n",
    "    'beroep' : 'Docent',\n",
    "    'hobby' : 'Volleybal'\n",
    "\n",
    "}"
   ]
  },
  {
   "cell_type": "markdown",
   "metadata": {},
   "source": [
    "Probeer nu de naam te veranderen naar een naam naar keuze. Lukt dat?"
   ]
  },
  {
   "cell_type": "code",
   "execution_count": 9,
   "metadata": {},
   "outputs": [
    {
     "name": "stdout",
     "output_type": "stream",
     "text": [
      "Sam\n"
     ]
    }
   ],
   "source": [
    "mijn_dict['naam'] = 'Sam'\n",
    "\n",
    "print(mijn_dict['naam'])"
   ]
  }
 ],
 "metadata": {
  "kernelspec": {
   "display_name": ".venv",
   "language": "python",
   "name": "python3"
  },
  "language_info": {
   "codemirror_mode": {
    "name": "ipython",
    "version": 3
   },
   "file_extension": ".py",
   "mimetype": "text/x-python",
   "name": "python",
   "nbconvert_exporter": "python",
   "pygments_lexer": "ipython3",
   "version": "3.13.2"
  }
 },
 "nbformat": 4,
 "nbformat_minor": 2
}
