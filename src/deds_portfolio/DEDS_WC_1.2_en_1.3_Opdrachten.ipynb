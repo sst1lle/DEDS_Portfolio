{
 "cells": [
  {
   "cell_type": "markdown",
   "metadata": {},
   "source": [
    "# Werkcollege-opdrachten Week 1.3"
   ]
  },
  {
   "cell_type": "markdown",
   "metadata": {},
   "source": [
    "## Dependencies importeren"
   ]
  },
  {
   "cell_type": "markdown",
   "metadata": {},
   "source": [
    "Kopieer in het codeblok hieronder van het vorige practicum de import-code voor de dependencies die het vaakst worden gebruikt om data in te lezen. Geef er ook de gebruikelijke aliassen aan.<br>\n",
    "Zet eventuele warnings uit."
   ]
  },
  {
   "cell_type": "code",
   "execution_count": 3,
   "metadata": {},
   "outputs": [],
   "source": [
    "import pandas \n",
    "import sqlite3\n",
    "import warnings\n",
    "warnings.simplefilter('ignore')"
   ]
  },
  {
   "cell_type": "markdown",
   "metadata": {},
   "source": [
    "Zet het bestand go_sales_train.sqlite in een makkelijk te vinden map"
   ]
  },
  {
   "cell_type": "markdown",
   "metadata": {},
   "source": [
    "## Databasetabellen inlezen"
   ]
  },
  {
   "cell_type": "markdown",
   "metadata": {},
   "source": [
    "Kopieer in het codeblok hieronder van het vorige practicum de code om een connectie met het bestand go_sales_train.sqlite te maken."
   ]
  },
  {
   "cell_type": "code",
   "execution_count": 5,
   "metadata": {},
   "outputs": [
    {
     "name": "stdout",
     "output_type": "stream",
     "text": [
      "SQLite3 Connection:  <sqlite3.Connection object at 0x106da07c0>\n"
     ]
    }
   ],
   "source": [
    "\n",
    "conn = sqlite3.connect('project/sql/go_sales_train2.sqlite')\n",
    "print(\"SQLite3 Connection: \",conn)\n",
    "\n"
   ]
  },
  {
   "cell_type": "markdown",
   "metadata": {},
   "source": [
    "Lees van de ingelezen go_sales_train-database te volgende tabellen in met behulp van \"SELECT * FROM *tabel*\".\n",
    "- product\n",
    "- product_type\n",
    "- product_line\n",
    "- sales_staff\n",
    "- sales_branch\n",
    "- retailer_site\n",
    "- country\n",
    "- order_header\n",
    "- order_details\n",
    "- returned_item\n",
    "- return_reason"
   ]
  },
  {
   "cell_type": "code",
   "execution_count": 3,
   "metadata": {},
   "outputs": [
    {
     "name": "stdout",
     "output_type": "stream",
     "text": [
      "Tabel 'product' ingelezen met 115 rijen.\n",
      "Tabel 'product_type' ingelezen met 21 rijen.\n",
      "Tabel 'product_line' ingelezen met 5 rijen.\n",
      "Tabel 'sales_staff' ingelezen met 102 rijen.\n",
      "Tabel 'sales_branch' ingelezen met 28 rijen.\n",
      "Tabel 'retailer_site' ingelezen met 391 rijen.\n",
      "Tabel 'country' ingelezen met 21 rijen.\n",
      "Tabel 'order_header' ingelezen met 4784 rijen.\n",
      "Tabel 'order_details' ingelezen met 37757 rijen.\n",
      "Tabel 'returned_item' ingelezen met 619 rijen.\n",
      "Tabel 'return_reason' ingelezen met 5 rijen.\n"
     ]
    }
   ],
   "source": [
    "tabellen = [\n",
    "    \"product\", \"product_type\", \"product_line\", \"sales_staff\", \n",
    "    \"sales_branch\", \"retailer_site\", \"country\", \"order_header\", \n",
    "    \"order_details\", \"returned_item\", \"return_reason\"\n",
    "]\n",
    "\n",
    "dataframes = {}\n",
    "\n",
    "for tabel in tabellen:\n",
    "    dataframes[tabel] = pandas.read_sql_query(f\"SELECT * FROM {tabel}\", conn)\n",
    "    print(f\"Tabel '{tabel}' ingelezen met {len(dataframes[tabel])} rijen.\")\n",
    "\n"
   ]
  },
  {
   "cell_type": "markdown",
   "metadata": {},
   "source": [
    "Krijg je een \"no such table\" error? Dan heb je misschien met .connect() per ongeluk een leeg  databasebestand (.sqlite) aangemaakt. <u>Let op:</u> lees eventueel de informatie uit het Notebook van werkcollege 1.1b nog eens goed door."
   ]
  },
  {
   "cell_type": "markdown",
   "metadata": {},
   "source": [
    "Als je tijdens onderstaande opdrachten uit het oog verliest welke tabellen er allemaal zijn, kan je deze Pythoncode uitvoeren:"
   ]
  },
  {
   "cell_type": "code",
   "execution_count": 4,
   "metadata": {},
   "outputs": [
    {
     "data": {
      "text/html": [
       "<div>\n",
       "<style scoped>\n",
       "    .dataframe tbody tr th:only-of-type {\n",
       "        vertical-align: middle;\n",
       "    }\n",
       "\n",
       "    .dataframe tbody tr th {\n",
       "        vertical-align: top;\n",
       "    }\n",
       "\n",
       "    .dataframe thead th {\n",
       "        text-align: right;\n",
       "    }\n",
       "</style>\n",
       "<table border=\"1\" class=\"dataframe\">\n",
       "  <thead>\n",
       "    <tr style=\"text-align: right;\">\n",
       "      <th></th>\n",
       "      <th>name</th>\n",
       "    </tr>\n",
       "  </thead>\n",
       "  <tbody>\n",
       "    <tr>\n",
       "      <th>0</th>\n",
       "      <td>country</td>\n",
       "    </tr>\n",
       "    <tr>\n",
       "      <th>1</th>\n",
       "      <td>order_details</td>\n",
       "    </tr>\n",
       "    <tr>\n",
       "      <th>2</th>\n",
       "      <td>order_header</td>\n",
       "    </tr>\n",
       "    <tr>\n",
       "      <th>3</th>\n",
       "      <td>order_method</td>\n",
       "    </tr>\n",
       "    <tr>\n",
       "      <th>4</th>\n",
       "      <td>product</td>\n",
       "    </tr>\n",
       "    <tr>\n",
       "      <th>5</th>\n",
       "      <td>product_line</td>\n",
       "    </tr>\n",
       "    <tr>\n",
       "      <th>6</th>\n",
       "      <td>product_type</td>\n",
       "    </tr>\n",
       "    <tr>\n",
       "      <th>7</th>\n",
       "      <td>retailer_site</td>\n",
       "    </tr>\n",
       "    <tr>\n",
       "      <th>8</th>\n",
       "      <td>return_reason</td>\n",
       "    </tr>\n",
       "    <tr>\n",
       "      <th>9</th>\n",
       "      <td>returned_item</td>\n",
       "    </tr>\n",
       "    <tr>\n",
       "      <th>10</th>\n",
       "      <td>sales_branch</td>\n",
       "    </tr>\n",
       "    <tr>\n",
       "      <th>11</th>\n",
       "      <td>sales_staff</td>\n",
       "    </tr>\n",
       "  </tbody>\n",
       "</table>\n",
       "</div>"
      ],
      "text/plain": [
       "             name\n",
       "0         country\n",
       "1   order_details\n",
       "2    order_header\n",
       "3    order_method\n",
       "4         product\n",
       "5    product_line\n",
       "6    product_type\n",
       "7   retailer_site\n",
       "8   return_reason\n",
       "9   returned_item\n",
       "10   sales_branch\n",
       "11    sales_staff"
      ]
     },
     "execution_count": 4,
     "metadata": {},
     "output_type": "execute_result"
    }
   ],
   "source": [
    "sql_query = \"SELECT name FROM sqlite_master WHERE type='table';\"\n",
    "#Vul dit codeblok verder in\n",
    "pandas.read_sql(sql_query, conn)\n",
    "#Op de puntjes hoort de connectie naar go_sales_train óf go_staff_train óf go_crm_train te staan."
   ]
  },
  {
   "cell_type": "markdown",
   "metadata": {},
   "source": [
    "erachter "
   ]
  },
  {
   "cell_type": "markdown",
   "metadata": {},
   "source": [
    "Let op! Voor alle onderstaande opdrachten mag je <u>alleen Python</u> gebruiken, <u>geen SQL!</u>"
   ]
  },
  {
   "cell_type": "markdown",
   "metadata": {},
   "source": [
    "## Selecties op één tabel zonder functies"
   ]
  },
  {
   "cell_type": "markdown",
   "metadata": {},
   "source": [
    "Geef een overzicht met daarin de producten en hun productiekosten waarvan de productiekosten lager dan 100 dollar en hoger dan 50 dollar ligt. (2 kolommen, 23 rijen)"
   ]
  },
  {
   "cell_type": "code",
   "execution_count": 5,
   "metadata": {},
   "outputs": [
    {
     "name": "stdout",
     "output_type": "stream",
     "text": [
      "                        PRODUCT_NAME  PRODUCTION_COST\n",
      "5          TrailChef Deluxe Cook Set            85.11\n",
      "7             TrailChef Double Flame            75.00\n",
      "16                   Hibernator Lite            60.00\n",
      "17                        Hibernator            86.00\n",
      "19   Hibernator Self - Inflating Mat            78.55\n",
      "22               Hibernator Camp Cot            65.33\n",
      "23      Canyon Mule Climber Backpack            62.50\n",
      "45           Granite Climbing Helmet            52.86\n",
      "47             Husky Harness Extreme            55.00\n",
      "57                    Granite Hammer            57.13\n",
      "68                         Polar Ice            73.33\n",
      "69                      Polar Sports            80.00\n",
      "70                        Polar Wave            60.00\n",
      "71                     Polar Extreme            72.50\n",
      "74                      Edge Extreme            80.00\n",
      "77                         Seeker 35            79.19\n",
      "78                         Seeker 50            92.58\n",
      "79                    Seeker Extreme            94.12\n",
      "82                    Glacier Deluxe            56.25\n",
      "83                       Glacier GPS            78.55\n",
      "109                Blue Steel Putter            60.00\n",
      "110            Blue Steel Max Putter            81.80\n",
      "113              Course Pro Golf Bag            80.00\n"
     ]
    }
   ],
   "source": [
    "filtered_producten = dataframes[\"product\"][['PRODUCT_NAME','PRODUCTION_COST']]\n",
    "filtered_producten = filtered_producten[\n",
    "    (filtered_producten[\"PRODUCTION_COST\"] > 50) & (filtered_producten[\"PRODUCTION_COST\"] < 100)\n",
    "]\n",
    "print(filtered_producten)"
   ]
  },
  {
   "cell_type": "markdown",
   "metadata": {},
   "source": [
    "Geef een overzicht met daarin de producten en hun marge waarvan de marge lager dan 20 % of hoger dan 60 % ligt. (2 kolommen, 7 rijen) "
   ]
  },
  {
   "cell_type": "code",
   "execution_count": 134,
   "metadata": {},
   "outputs": [
    {
     "name": "stdout",
     "output_type": "stream",
     "text": [
      "                    PRODUCT_NAME  MARGIN\n",
      "20                Hibernator Pad    0.17\n",
      "23  Canyon Mule Climber Backpack    0.17\n",
      "85             BugShield Natural    0.67\n",
      "86               BugShield Spray    0.67\n",
      "87         BugShield Lotion Lite    0.70\n",
      "88              BugShield Lotion    0.63\n",
      "89             BugShield Extreme    0.63\n"
     ]
    }
   ],
   "source": [
    "filtered_marges = dataframes[\"product\"][[\"PRODUCT_NAME\",\"MARGIN\"]]\n",
    "filtered_marges = filtered_marges[\n",
    "    (filtered_marges[\"MARGIN\"] > 0.60) | (filtered_marges[\"MARGIN\"] < 0.20)\n",
    "]\n",
    "print(filtered_marges)"
   ]
  },
  {
   "cell_type": "markdown",
   "metadata": {},
   "source": [
    "Geef een overzicht met daarin de landen waar met francs wordt betaald. Sorteer de uitkomst op land.  (1 kolom, 3 rijen)"
   ]
  },
  {
   "cell_type": "code",
   "execution_count": 135,
   "metadata": {},
   "outputs": [
    {
     "name": "stdout",
     "output_type": "stream",
     "text": [
      "        COUNTRY\n",
      "15      Belgium\n",
      "0        France\n",
      "7   Switzerland\n"
     ]
    }
   ],
   "source": [
    "filter_francs = dataframes[\"country\"][\n",
    "    dataframes[\"country\"][\"CURRENCY_NAME\"] == \"francs\"\n",
    "][[\"COUNTRY\"]].sort_values(\"COUNTRY\")\n",
    "\n",
    "print(filter_francs)\n"
   ]
  },
  {
   "cell_type": "markdown",
   "metadata": {},
   "source": [
    "Geef een overzicht met daarin de verschillende introductiedatums waarop producten met meer dan 50% marge worden geïntroduceerd (1 kolom, 7 rijen) "
   ]
  },
  {
   "cell_type": "code",
   "execution_count": 136,
   "metadata": {},
   "outputs": [
    {
     "name": "stdout",
     "output_type": "stream",
     "text": [
      "    INTRODUCTION_DATE\n",
      "66         2000-10-26\n",
      "85         1995-02-15\n",
      "101        2003-12-10\n",
      "103        2003-12-18\n",
      "104        2003-12-27\n",
      "106        2004-01-13\n",
      "110        2003-12-15\n"
     ]
    }
   ],
   "source": [
    "filter_introdatum_marge_meer_dan_vijftig = dataframes[\"product\"][\n",
    "    dataframes[\"product\"][\"MARGIN\"] > 0.50\n",
    "][[\"INTRODUCTION_DATE\"]].drop_duplicates()\n",
    "\n",
    "print(filter_introdatum_marge_meer_dan_vijftig)"
   ]
  },
  {
   "cell_type": "markdown",
   "metadata": {},
   "source": [
    "Geef een overzicht met daarin het eerste adres en de stad van verkoopafdelingen waarvan zowel het tweede adres als de regio bekend is (2 kolommen, 7 rijen)"
   ]
  },
  {
   "cell_type": "code",
   "execution_count": 137,
   "metadata": {},
   "outputs": [
    {
     "name": "stdout",
     "output_type": "stream",
     "text": [
      "                  ADDRESS1        CITY\n",
      "13      500, Place d'Armes    Montréal\n",
      "31        Röntgenstraße 90   Frankfurt\n",
      "59         Grubesallee 141     Hamburg\n",
      "63       2479 Broad Street    Hartford\n",
      "74      10423 Kenwood Road  Cincinnati\n",
      "..                     ...         ...\n",
      "350           Albany House    Brighton\n",
      "351           Bridge Court    Brighton\n",
      "354         Exchange Court    Brighton\n",
      "355          Keyford Court  Nottingham\n",
      "357  Vanwall Business Park     Reading\n",
      "\n",
      "[78 rows x 2 columns]\n"
     ]
    }
   ],
   "source": [
    "filter_verkoopafdeling = dataframes[\"retailer_site\"].loc[\n",
    "    (dataframes[\"retailer_site\"][\"ADDRESS2\"].notnull()) & \n",
    "    (dataframes[\"retailer_site\"][\"REGION\"].notnull()),\n",
    "    [\"ADDRESS1\", \"CITY\"]\n",
    "].drop_duplicates()\n",
    "\n",
    "print(filter_verkoopafdeling)\n",
    "#ik begrijp niet hoe je hier 7 rijen als uitkomst kan hebben, heb ook database gecheckt en er zijn wel meer dan 7 rijen die een address1 en region aanwezig hebben."
   ]
  },
  {
   "cell_type": "markdown",
   "metadata": {},
   "source": [
    "Geef een overzicht met daarin de landen waar met dollars (dollars of new dollar) wordt betaald. Sorteer de uitkomst op land. (1 kolom, 4 rijen) "
   ]
  },
  {
   "cell_type": "code",
   "execution_count": 138,
   "metadata": {},
   "outputs": [
    {
     "name": "stdout",
     "output_type": "stream",
     "text": [
      "          COUNTRY\n",
      "2   United States\n",
      "3          Canada\n",
      "11         Taiwan\n",
      "14      Australia\n"
     ]
    }
   ],
   "source": [
    "filter_landen_dollar = dataframes[\"country\"].loc[\n",
    "    (dataframes[\"country\"][\"CURRENCY_NAME\"] == \"dollars\") | (dataframes[\"country\"][\"CURRENCY_NAME\"] == \"new dollar\"),\n",
    "    [\"COUNTRY\"]\n",
    "]\n",
    "print(filter_landen_dollar)"
   ]
  },
  {
   "cell_type": "markdown",
   "metadata": {},
   "source": [
    "Geef een overzicht met daarin beide adressen en de stad van vestigingen van klanten waarvan de postcode begint met een ‘D’ (van duitsland). Filter op vestigingen die een tweede adres hebben. (3 kolommen, 2 rijen) "
   ]
  },
  {
   "cell_type": "code",
   "execution_count": 139,
   "metadata": {},
   "outputs": [
    {
     "name": "stdout",
     "output_type": "stream",
     "text": [
      "            ADDRESS1       ADDRESS2       CITY\n",
      "31  Röntgenstraße 90  3. Tür rechts  Frankfurt\n",
      "59   Grubesallee 141       4. Stock    Hamburg\n"
     ]
    }
   ],
   "source": [
    "filter_beide_adressen_filliaal = dataframes[\"retailer_site\"].loc[\n",
    "    (dataframes[\"retailer_site\"][\"POSTAL_ZONE\"].str.startswith(\"D\", na=False)) &\n",
    "    (dataframes[\"retailer_site\"][\"ADDRESS2\"].notnull()),\n",
    "    [\"ADDRESS1\",\"ADDRESS2\",\"CITY\"]\n",
    "].sort_values(by=\"ADDRESS2\")\n",
    "\n",
    "print(filter_beide_adressen_filliaal)"
   ]
  },
  {
   "cell_type": "markdown",
   "metadata": {},
   "source": [
    "## Selecties op één tabel met functies"
   ]
  },
  {
   "cell_type": "markdown",
   "metadata": {},
   "source": [
    "Geef het totaal aantal producten dat is teruggebracht (1 waarde) "
   ]
  },
  {
   "cell_type": "code",
   "execution_count": 140,
   "metadata": {},
   "outputs": [
    {
     "name": "stdout",
     "output_type": "stream",
     "text": [
      "11908\n"
     ]
    }
   ],
   "source": [
    "return_count = dataframes[\"returned_item\"][\"RETURN_QUANTITY\"].sum()\n",
    "\n",
    "print(return_count)"
   ]
  },
  {
   "cell_type": "markdown",
   "metadata": {},
   "source": [
    "Geef het aantal regio’s waarin verkoopafdelingen gevestigd zijn. (1 waarde)"
   ]
  },
  {
   "cell_type": "code",
   "execution_count": 141,
   "metadata": {},
   "outputs": [
    {
     "name": "stdout",
     "output_type": "stream",
     "text": [
      "110\n"
     ]
    }
   ],
   "source": [
    "aantal_regios = dataframes[\"retailer_site\"][\"REGION\"].nunique()\n",
    "\n",
    "print(aantal_regios)"
   ]
  },
  {
   "cell_type": "markdown",
   "metadata": {},
   "source": [
    "Maak 3 variabelen:\n",
    "- Een met de laagste\n",
    "- Een met de hoogste\n",
    "- Een met de gemiddelde (afgerond op 2 decimalen)\n",
    "\n",
    "marge van producten (3 kolommen, 1 rij) "
   ]
  },
  {
   "cell_type": "code",
   "execution_count": 258,
   "metadata": {},
   "outputs": [
    {
     "name": "stdout",
     "output_type": "stream",
     "text": [
      "Hoogste winstmarge: 0.7\n",
      "laagste winstmarge: 0.17\n",
      "Gemiddelde winstmarge: 0.4\n"
     ]
    }
   ],
   "source": [
    "hoogste = dataframes[\"product\"][\"MARGIN\"].max()\n",
    "laagste = dataframes[\"product\"][\"MARGIN\"].min()\n",
    "gem = dataframes[\"product\"][\"MARGIN\"].mean()\n",
    "\n",
    "print(f\"Hoogste winstmarge: {hoogste}\")\n",
    "print(f\"laagste winstmarge: {laagste}\")\n",
    "print(f\"Gemiddelde winstmarge: {gem.round(2)}\")"
   ]
  },
  {
   "cell_type": "markdown",
   "metadata": {},
   "source": [
    "Geef het aantal vestigingen van klanten waarvan het 2e adres niet bekend is (1 waarde)"
   ]
  },
  {
   "cell_type": "code",
   "execution_count": 260,
   "metadata": {},
   "outputs": [
    {
     "name": "stdout",
     "output_type": "stream",
     "text": [
      "286\n"
     ]
    }
   ],
   "source": [
    "count_vestiging = dataframes[\"retailer_site\"][dataframes[\"retailer_site\"][\"ADDRESS2\"].isnull()].shape[0]\n",
    "print(count_vestiging)"
   ]
  },
  {
   "cell_type": "markdown",
   "metadata": {},
   "source": [
    "Geef de gemiddelde kostprijs van de verkochte producten waarop korting (unit_sale_price < unit_price) is verleend (1 waarde) "
   ]
  },
  {
   "cell_type": "code",
   "execution_count": 144,
   "metadata": {},
   "outputs": [
    {
     "name": "stdout",
     "output_type": "stream",
     "text": [
      "127.34087927598804\n"
     ]
    }
   ],
   "source": [
    "gem_kostprijs = dataframes[\"order_details\"][\n",
    "    (dataframes)[\"order_details\"][\"UNIT_SALE_PRICE\"] < (dataframes)[\"order_details\"][\"UNIT_PRICE\"]\n",
    "][\"UNIT_COST\"].mean()\n",
    "\n",
    "print(gem_kostprijs)"
   ]
  },
  {
   "cell_type": "markdown",
   "metadata": {},
   "source": [
    "Geef een overzicht met daarin het aantal medewerkers per medewerkersfunctie (2 kolommen, 7 rijen) "
   ]
  },
  {
   "cell_type": "code",
   "execution_count": 145,
   "metadata": {},
   "outputs": [
    {
     "name": "stdout",
     "output_type": "stream",
     "text": [
      "                    POSITION_EN  AANTAL MEDEWERKERS\n",
      "0                Branch Manager                  19\n",
      "1              District Manager                   4\n",
      "2               General Manager                   1\n",
      "3  Level 1 Sales Representative                  13\n",
      "4  Level 2 Sales Representative                  39\n",
      "5  Level 3 Sales Representative                  24\n",
      "6              Regional Manager                   2\n"
     ]
    }
   ],
   "source": [
    "medewerkers_per_functie = dataframes[\"sales_staff\"].groupby(\"POSITION_EN\").size().reset_index(name=\"AANTAL MEDEWERKERS\")\n",
    "\n",
    "print(medewerkers_per_functie)"
   ]
  },
  {
   "cell_type": "markdown",
   "metadata": {},
   "source": [
    "Geef een overzicht met daarin per telefoonnummer het aantal medewerkers dat op dat telefoonnummer bereikbaar is. Toon alleen de telefoonnummer waarop meer dan 4 medewerkers bereikbaar zijn. (2 kolommen, 10 rijen) "
   ]
  },
  {
   "cell_type": "code",
   "execution_count": 146,
   "metadata": {},
   "outputs": [
    {
     "name": "stdout",
     "output_type": "stream",
     "text": [
      "             WORK_PHONE  AANTAL_MEDEWERKERS\n",
      "4     +(44) 121 3505267                   5\n",
      "10  +(61) 03 2982  4242                   5\n",
      "11  +31 (0)20 692 93 94                   5\n",
      "13    +33 1 68 94 52 20                   5\n",
      "18     1 (206) 292-0012                   5\n",
      "19     1 (305) 557-4810                   6\n",
      "20     1 (310) 281-5722                   5\n",
      "21     1 (403) 232-5986                   5\n",
      "22     1 (416) 493-5595                   5\n",
      "23     1 (617) 268-6754                   6\n"
     ]
    }
   ],
   "source": [
    "medewerkers_per_telefoon = dataframes[\"sales_staff\"].groupby(\"WORK_PHONE\").size().reset_index(name=\"AANTAL_MEDEWERKERS\")\n",
    "\n",
    "medewerkers_per_telefoon_filtered = medewerkers_per_telefoon[medewerkers_per_telefoon[\"AANTAL_MEDEWERKERS\"] > 4]\n",
    "\n",
    "print(medewerkers_per_telefoon_filtered)"
   ]
  },
  {
   "cell_type": "markdown",
   "metadata": {},
   "source": [
    "## Selecties op meerdere tabellen zonder functies"
   ]
  },
  {
   "cell_type": "markdown",
   "metadata": {},
   "source": [
    "Geef een overzicht met daarin het eerste adres en de stad van vestigingen van klanten uit ‘Netherlands’ (2 kolommen, 20 rijen) "
   ]
  },
  {
   "cell_type": "code",
   "execution_count": 147,
   "metadata": {},
   "outputs": [
    {
     "name": "stdout",
     "output_type": "stream",
     "text": [
      "                      ADDRESS1          CITY\n",
      "240                   Beets 36         Beets\n",
      "241               Perestraat 1      Deventer\n",
      "242  Laan van Meerdervoort 966      Den Haag\n",
      "243             Kalfjeslaan 47    Amstelveen\n",
      "244               Startbaan 11    Amstelveen\n",
      "245      Noorderspoorsingel 28     Groningen\n",
      "246              Hogehilweg 13     Amsterdam\n",
      "247             Spoorstraat 43    Varsseveld\n",
      "248             Westhavenweg 8     Amsterdam\n",
      "249              Westzeedijk 4        Muiden\n",
      "250            Gooiergracht 91         Laren\n",
      "251            Hoofdstraat 150   Pieterburen\n",
      "252                Olde Diek 2         Laren\n",
      "253     Amsterdamsestraatweg 8      Maarssen\n",
      "254        Krayenhoffstraat 11     Amsterdam\n",
      "255         Overschiestraat 19     Amsterdam\n",
      "256              Havenbuurt 12        Marken\n",
      "257               Duivendaal 1    Wageningen\n",
      "258              Voorstraat 37  Nieuweschans\n",
      "259         Stadhouderslaan 18     Rotterdam\n"
     ]
    }
   ],
   "source": [
    "adres_filliaal = dataframes[\"retailer_site\"].merge(dataframes[\"country\"], on=\"COUNTRY_CODE\")\n",
    "adres_ned_filliaal = adres_filliaal[adres_filliaal[\"COUNTRY\"] == \"Netherlands\"]\n",
    "resultaat = adres_ned_filliaal[[\"ADDRESS1\",\"CITY\"]]\n",
    "print(resultaat)"
   ]
  },
  {
   "cell_type": "markdown",
   "metadata": {},
   "source": [
    "Geef een overzicht met daarin de productnamen die tot het producttype ‘Eyewear’ behoren. (1 kolom, 5 rijen) "
   ]
  },
  {
   "cell_type": "code",
   "execution_count": 148,
   "metadata": {},
   "outputs": [
    {
     "name": "stdout",
     "output_type": "stream",
     "text": [
      "     PRODUCT_NAME\n",
      "67      Polar Sun\n",
      "68      Polar Ice\n",
      "69   Polar Sports\n",
      "70     Polar Wave\n",
      "71  Polar Extreme\n"
     ]
    }
   ],
   "source": [
    "merge_product_type_en_product = dataframes[\"product\"].merge(dataframes[\"product_type\"], on=\"PRODUCT_TYPE_CODE\")\n",
    "eyewear_producten = merge_product_type_en_product[merge_product_type_en_product[\"PRODUCT_TYPE_EN\"] == \"Eyewear\"]\n",
    "eyewear_producten = eyewear_producten[[\"PRODUCT_NAME\"]]\n",
    "\n",
    "print(eyewear_producten)"
   ]
  },
  {
   "cell_type": "markdown",
   "metadata": {},
   "source": [
    "Geef een overzicht met daarin alle unieke eerste adressen van klantvestigingen en de voornaam en achternaam van de verkopers die ‘Branch Manager’ zijn en aan deze vestigingen hebben verkocht (3 kolommen, 1 rij) "
   ]
  },
  {
   "cell_type": "code",
   "execution_count": 149,
   "metadata": {},
   "outputs": [
    {
     "name": "stdout",
     "output_type": "stream",
     "text": [
      "                            ADDRESS1 FIRST_NAME      LAST_NAME\n",
      "0      75, rue du Faubourg St-Honoré      Denis           Pagé\n",
      "5                    Piazza Duomo, 1      Maria      Iacobucci\n",
      "10               Singelgravenplein 4       Kick        Kalkman\n",
      "14                    Schwabentor 35      Frank          Fuchs\n",
      "17                  Leopoldstraße 36      Fritz         Hirsch\n",
      "22               Isafjordsgatan 30 C      Karin      Bergström\n",
      "25      7800, 756 - 6th Avenue. S.W.      Sally          White\n",
      "28                  789 Yonge Street    Georges  Saint-Germain\n",
      "33            1288 Dorchester Avenue       Alex      Rodriguez\n",
      "39                   299 Yale Avenue   Samantha          Floyd\n",
      "44        1288 South Barrington Ave.      Corey         Wright\n",
      "50                    10032 NW 186th      Julie          Olsen\n",
      "55               6c, rue de l'Église      Julie        Béchard\n",
      "59  Prol. Paseo de la Reforma No. 51      Lucía          Reyna\n",
      "66                  2315 Queen's Ave      Alice         Walter\n",
      "73             Avenida Paulista, 333     Bayard          Lopes\n",
      "84                    Victoria House     Walter         Taylor\n",
      "88                    3 Albany Court      Polly         Linton\n",
      "96                 Interleuvenlaan 2      Gracy        Gellens\n"
     ]
    }
   ],
   "source": [
    "merge_sales_branch_met_sales_staff = dataframes[\"sales_branch\"].merge(dataframes[\"sales_staff\"], on=\"SALES_BRANCH_CODE\")\n",
    "overzicht_adres_naam = merge_sales_branch_met_sales_staff[merge_sales_branch_met_sales_staff[\"POSITION_EN\"] == \"Branch Manager\"][[\"ADDRESS1\",\"FIRST_NAME\",\"LAST_NAME\"]].drop_duplicates()\n",
    "\n",
    "print(overzicht_adres_naam)\n"
   ]
  },
  {
   "cell_type": "markdown",
   "metadata": {},
   "source": [
    "Geef een overzicht met daarin van de verkopers hun functie en indien zij iets hebben verkocht de datum waarop de verkoop heeft plaatsgevonden. Laat alleen de verschillende namen van de posities zien van de verkopers die het woord ‘Manager’ in hun positienaam hebben staan. (2 kolommen, 7 rijen) "
   ]
  },
  {
   "cell_type": "code",
   "execution_count": 153,
   "metadata": {},
   "outputs": [
    {
     "name": "stdout",
     "output_type": "stream",
     "text": [
      "         POSITION_EN  ORDER_DATE\n",
      "3185  Branch Manager  2024-09-09\n",
      "3186  Branch Manager  2024-03-13\n",
      "3187  Branch Manager  2024-01-09\n"
     ]
    }
   ],
   "source": [
    "merge_order_header_met_sales_staff = dataframes[\"order_header\"].merge(dataframes[\"sales_staff\"], on=\"SALES_STAFF_CODE\")\n",
    "managers = merge_order_header_met_sales_staff[merge_order_header_met_sales_staff[\"POSITION_EN\"].str.contains(\" Manager\")][[\"POSITION_EN\",\"ORDER_DATE\"]]\n",
    "\n",
    "print(managers)"
   ]
  },
  {
   "cell_type": "markdown",
   "metadata": {},
   "source": [
    "Geef een overzicht met daarin de verschillende namen van producten en bijbehorende namen van producttypen van de producten waarvoor ooit meer dan 750 stuks tegelijk verkocht zijn. (2 kolommen, 9 rijen) "
   ]
  },
  {
   "cell_type": "code",
   "execution_count": 157,
   "metadata": {},
   "outputs": [
    {
     "name": "stdout",
     "output_type": "stream",
     "text": [
      "                PRODUCT_NAME    PRODUCT_TYPE_EN\n",
      "5427                Star Peg              Tents\n",
      "11452              Firefly 2           Lanterns\n",
      "28608        BugShield Spray  Insect Repellents\n",
      "28892  BugShield Lotion Lite  Insect Repellents\n",
      "29430       BugShield Lotion  Insect Repellents\n",
      "29442      BugShield Extreme  Insect Repellents\n",
      "30741         Sun Shelter 15          Sunscreen\n",
      "31164         Sun Shelter 30          Sunscreen\n",
      "31775             Sun Shield          Sunscreen\n"
     ]
    }
   ],
   "source": [
    "merge_order_details_met_product = dataframes[\"product\"].merge(dataframes[\"order_details\"],on=\"PRODUCT_NUMBER\")\n",
    "merged_order_details_product_en_product_name = merge_order_details_met_product.merge(dataframes[\"product_type\"],on=\"PRODUCT_TYPE_CODE\")\n",
    "\n",
    "merged_order_details_product_en_product_name = merged_order_details_product_en_product_name[merged_order_details_product_en_product_name[\"QUANTITY\"] > 750][[\"PRODUCT_NAME\",\"PRODUCT_TYPE_EN\"]].drop_duplicates()\n",
    "\n",
    "print(merged_order_details_product_en_product_name)"
   ]
  },
  {
   "cell_type": "markdown",
   "metadata": {},
   "source": [
    "Geef een overzicht met daarin de productnamen waarvan ooit meer dan 40% korting is verleend. De formule voor korting is: (unit_price - unit_sale_price) / unit_price (1 kolom, 8 rijen) "
   ]
  },
  {
   "cell_type": "code",
   "execution_count": 165,
   "metadata": {},
   "outputs": [
    {
     "name": "stdout",
     "output_type": "stream",
     "text": [
      "                       PRODUCT_NAME\n",
      "27830             BugShield Natural\n",
      "28283               BugShield Spray\n",
      "28694         BugShield Lotion Lite\n",
      "29127              BugShield Lotion\n",
      "29464             BugShield Extreme\n",
      "30562                Sun Shelter 15\n",
      "30929                Sun Shelter 30\n",
      "34441  Hailstorm Titanium Woods Set\n"
     ]
    }
   ],
   "source": [
    "filter_korting = (merge_order_details_met_product[\"UNIT_PRICE\"] - merge_order_details_met_product[\"UNIT_SALE_PRICE\"]) / merge_order_details_met_product[\"UNIT_PRICE\"] > 0.40\n",
    "filter_korting_resultaat = merge_order_details_met_product.loc[filter_korting, [\"PRODUCT_NAME\"]].drop_duplicates()\n",
    "\n",
    "print(filter_korting_resultaat)\n"
   ]
  },
  {
   "cell_type": "markdown",
   "metadata": {},
   "source": [
    "Geef een overzicht met daarin de retourreden van producten waarvan ooit meer dan 90% van de aangeschafte hoeveelheid is teruggebracht (return_quantity/quantity). (1 kolom, 3 rijen) "
   ]
  },
  {
   "cell_type": "code",
   "execution_count": 173,
   "metadata": {},
   "outputs": [
    {
     "name": "stdout",
     "output_type": "stream",
     "text": [
      "    RETURN_DESCRIPTION_EN\n",
      "0   Wrong product ordered\n",
      "4   Wrong product shipped\n",
      "5  Unsatisfactory product\n"
     ]
    }
   ],
   "source": [
    "merge_order_details_met_returned_item = dataframes[\"order_details\"].merge(dataframes[\"returned_item\"],on=\"ORDER_DETAIL_CODE\")\n",
    "\n",
    "merge_met_product = merge_order_details_met_returned_item.merge(\n",
    "    dataframes[\"return_reason\"], on=\"RETURN_REASON_CODE\"\n",
    ")\n",
    "\n",
    "filter_returned_item_meer_dan_90_procent = merge_met_product [ \n",
    "    merge_met_product[\"RETURN_QUANTITY\"] / merge_met_product[\"QUANTITY\"] > 0.90\n",
    "]\n",
    "\n",
    "resultaat90 = filter_returned_item_meer_dan_90_procent[[\"RETURN_DESCRIPTION_EN\"]].drop_duplicates()\n",
    "\n",
    "print(resultaat90)"
   ]
  },
  {
   "cell_type": "markdown",
   "metadata": {},
   "source": [
    "## Selecties op meerdere tabellen met functies"
   ]
  },
  {
   "cell_type": "markdown",
   "metadata": {},
   "source": [
    "Geef een overzicht met daarin per producttype het aantal producten die tot dat producttype behoren. (2 kolommen, 21 rijen) "
   ]
  },
  {
   "cell_type": "code",
   "execution_count": 176,
   "metadata": {},
   "outputs": [
    {
     "name": "stdout",
     "output_type": "stream",
     "text": [
      "            Product Type  Aantal Producten\n",
      "0             Binoculars                 4\n",
      "1   Climbing Accessories                 7\n",
      "2           Cooking Gear                10\n",
      "3                Eyewear                 5\n",
      "4              First Aid                 5\n",
      "5       Golf Accessories                 4\n",
      "6      Insect Repellents                 5\n",
      "7                  Irons                 4\n",
      "8                 Knives                 5\n",
      "9               Lanterns                12\n",
      "10            Navigation                 4\n",
      "11                 Packs                 6\n",
      "12               Putters                 3\n",
      "13                  Rope                 4\n",
      "14                Safety                 4\n",
      "15         Sleeping Bags                 7\n",
      "16             Sunscreen                 5\n",
      "17                 Tents                 6\n",
      "18                 Tools                 6\n",
      "19               Watches                 5\n",
      "20                 Woods                 4\n"
     ]
    }
   ],
   "source": [
    "aantal_producten_per_type = merge_product_type_en_product.groupby(\"PRODUCT_TYPE_EN\")[\"PRODUCT_NUMBER\"].count().reset_index()\n",
    "\n",
    "aantal_producten_per_type.columns = [\"Product Type\", \"Aantal Producten\"]\n",
    "\n",
    "\n",
    "print(aantal_producten_per_type)"
   ]
  },
  {
   "cell_type": "markdown",
   "metadata": {},
   "source": [
    "Geef een overzicht met daarin per land het aantal vestigingen van klanten die zich in dat land bevinden. (2 kolommen, 21 rijen) "
   ]
  },
  {
   "cell_type": "code",
   "execution_count": 179,
   "metadata": {},
   "outputs": [
    {
     "name": "stdout",
     "output_type": "stream",
     "text": [
      "              Land  Aantal vestigingen\n",
      "0        Australia                  10\n",
      "1          Austria                  10\n",
      "2          Belgium                  10\n",
      "3           Brazil                   1\n",
      "4           Canada                  31\n",
      "5            China                  10\n",
      "6          Denmark                   6\n",
      "7          Finland                   5\n",
      "8           France                  29\n",
      "9          Germany                  32\n",
      "10           Italy                  12\n",
      "11           Japan                  25\n",
      "12           Korea                  10\n",
      "13          Mexico                  10\n",
      "14     Netherlands                  20\n",
      "15           Spain                   9\n",
      "16          Sweden                  12\n",
      "17     Switzerland                  13\n",
      "18          Taiwan                  10\n",
      "19  United Kingdom                  25\n",
      "20   United States                 101\n"
     ]
    }
   ],
   "source": [
    "merge_retailer_site_met_country = dataframes[\"retailer_site\"].merge(dataframes[\"country\"], on=\"COUNTRY_CODE\")\n",
    "\n",
    "aantal_vestiging_per_land = merge_retailer_site_met_country.groupby(\"COUNTRY\")[\"RETAILER_SITE_CODE\"].count().reset_index()\n",
    "\n",
    "aantal_vestiging_per_land.columns = [\"Land\",\"Aantal vestigingen\"]\n",
    "\n",
    "print(aantal_vestiging_per_land)\n"
   ]
  },
  {
   "cell_type": "markdown",
   "metadata": {},
   "source": [
    "Geef een overzicht met daarin van de producten behorend tot het producttype ‘Cooking Gear’ per productnaam de totaal verkochte hoeveelheid en de gemiddelde verkoopprijs. Sorteer de uitkomst op totaal verkochte hoeveelheid. (4 kolommen, 10 rijen) "
   ]
  },
  {
   "cell_type": "code",
   "execution_count": 188,
   "metadata": {},
   "outputs": [
    {
     "name": "stdout",
     "output_type": "stream",
     "text": [
      "                PRODUCT_NAME  totaal_verkocht  gemiddeld_verkoop\n",
      "9        TrailChef Water Bag            36738               6.20\n",
      "2              TrailChef Cup            27418               7.16\n",
      "0          TrailChef Canteen            26544              12.21\n",
      "6      TrailChef Kitchen Kit            22206              22.85\n",
      "8         TrailChef Utensils            13776              17.84\n",
      "4     TrailChef Double Flame            12476             137.54\n",
      "1         TrailChef Cook Set            10878              52.99\n",
      "5           TrailChef Kettle             8826              12.42\n",
      "7     TrailChef Single Flame             8504              65.29\n",
      "3  TrailChef Deluxe Cook Set             3110             124.18\n"
     ]
    }
   ],
   "source": [
    "merge_order_details_met_product_met_product_type = merge_order_details_met_product.merge(dataframes[\"product_type\"],on=\"PRODUCT_TYPE_CODE\")\n",
    "\n",
    "cooking_gear = merge_order_details_met_product_met_product_type[merge_order_details_met_product_met_product_type[\"PRODUCT_TYPE_EN\"] == \"Cooking Gear\"]\n",
    "\n",
    "cooking_gear_hvlheid_en_gem_verkoopprijs = cooking_gear.groupby(\"PRODUCT_NAME\").agg(\n",
    "    totaal_verkocht = (\"QUANTITY\",sum),\n",
    "    gemiddeld_verkoop = (\"UNIT_PRICE\",\"mean\")\n",
    ").reset_index().sort_values(\n",
    "    by=\"totaal_verkocht\", ascending=False\n",
    ")\n",
    "\n",
    "cooking_gear_hvlheid_en_gem_verkoopprijs[\"gemiddeld_verkoop\"] = cooking_gear_hvlheid_en_gem_verkoopprijs[\"gemiddeld_verkoop\"].round(2)\n",
    "\n",
    "\n",
    "print(cooking_gear_hvlheid_en_gem_verkoopprijs)\n",
    "\n",
    "\n"
   ]
  },
  {
   "cell_type": "markdown",
   "metadata": {},
   "source": [
    "Geef een overzicht met daarin per land de naam van het land, de naam van de stad waar de verkoopafdeling is gevestigd (noem de kolomnaam in het overzicht ‘verkoper’) en het aantal steden waar zich klanten bevinden in dat land (noem de kolomnaam in het overzicht ‘klanten’) (3 kolommen, 29 rijen) "
   ]
  },
  {
   "cell_type": "code",
   "execution_count": 205,
   "metadata": {},
   "outputs": [
    {
     "name": "stdout",
     "output_type": "stream",
     "text": [
      "           COUNTRY      verkoper  klanten\n",
      "0        Australia     Melbourne        6\n",
      "1          Austria          Wien        9\n",
      "2          Belgium      Zaventem        8\n",
      "3           Brazil     São Paulo        1\n",
      "4           Canada      Winnipeg       16\n",
      "5            China       Beijing        7\n",
      "6          Denmark     København        5\n",
      "7          Finland       Tampere        5\n",
      "8           France         Paris       14\n",
      "9          Germany     Frankfurt       18\n",
      "10           Italy       Bologna        9\n",
      "11           Japan     Osaka-shi        5\n",
      "12           Korea         Pusan        6\n",
      "13          Mexico        Cancún        6\n",
      "14     Netherlands         Beets       15\n",
      "15           Spain     Barcelona        5\n",
      "16          Sweden     Stockholm       10\n",
      "17     Switzerland         Basel        9\n",
      "18          Taiwan  Chungho City        9\n",
      "19  United Kingdom        London        9\n",
      "20   United States      Hartford       62\n"
     ]
    }
   ],
   "source": [
    "overizicht_land_stad_count = merge_retailer_site_met_country.groupby(\"COUNTRY\").agg(\n",
    "    verkoper = (\"CITY\",\"first\"),\n",
    "    klanten = (\"CITY\",\"nunique\")\n",
    ").reset_index()\n",
    "\n",
    "print(overizicht_land_stad_count)\n",
    "\n",
    "#verkoper_df = merge_retailer_site_met_country[[\"COUNTRY\", \"CITY\"]].drop_duplicates()\n",
    "#klanten_count = merge_retailer_site_met_country.groupby(\"COUNTRY\")[\"CITY\"].nunique().reset_index(name=\"klanten\")\n",
    "#overzicht_land_stad_count = verkoper_df.merge(klanten_count, on=\"COUNTRY\", how=\"left\")\n",
    "#overzicht_land_stad_count = overzicht_land_stad_count.rename(columns={\"CITY\": \"verkoper\"})\n",
    "#print(overzicht_land_stad_count)\n"
   ]
  },
  {
   "cell_type": "markdown",
   "metadata": {},
   "source": [
    "## Pythonvertalingen van SUBSELECT en UNION met o.a. for-loops"
   ]
  },
  {
   "cell_type": "markdown",
   "metadata": {},
   "source": [
    "Geef een overzicht met daarin de voornaam en de achternaam van de medewerkers die nog nooit wat hebben verkocht (2 kolommen, 25 rijen) "
   ]
  },
  {
   "cell_type": "code",
   "execution_count": 210,
   "metadata": {},
   "outputs": [
    {
     "name": "stdout",
     "output_type": "stream",
     "text": [
      "   FIRST_NAME      LAST_NAME\n",
      "0       Denis           Pagé\n",
      "1        Else         Mörike\n",
      "2       Frank          Fuchs\n",
      "3       Fritz         Hirsch\n",
      "4        Jörg          Kunze\n",
      "5       Maria      Iacobucci\n",
      "6        Kick        Kalkman\n",
      "7       Karin      Bergström\n",
      "8       Sally          White\n",
      "9       Frank        Bretton\n",
      "10    Georges  Saint-Germain\n",
      "11       Alex      Rodriguez\n",
      "12   Samantha          Floyd\n",
      "13      Julie          Olsen\n",
      "14      Corey         Wright\n",
      "15    Estelle        Johnson\n",
      "16       Greg        Belding\n",
      "17      Julie        Béchard\n",
      "18      Lucía          Reyna\n",
      "19     Kazumi        Uragome\n",
      "20      Alice         Walter\n",
      "21     Walter         Taylor\n",
      "22   Penelope        Tamrine\n",
      "23      Polly         Linton\n",
      "24      Gracy        Gellens\n"
     ]
    }
   ],
   "source": [
    "wel_verkocht = set(dataframes[\"order_header\"][\"SALES_STAFF_CODE\"].unique())\n",
    "niet_verkocht = dataframes[\"sales_staff\"][~dataframes[\"sales_staff\"][\"SALES_STAFF_CODE\"].isin(wel_verkocht)].reset_index()\n",
    "\n",
    "resultaat_niet_verkocht = niet_verkocht[[\"FIRST_NAME\",\"LAST_NAME\"]]\n",
    "\n",
    "print(resultaat_niet_verkocht)\n"
   ]
  },
  {
   "cell_type": "markdown",
   "metadata": {},
   "source": [
    "Geef een overzicht met daarin het aantal producten waarvan de marge lager is dan de gemiddelde marge van alle producten samen. Geef in het overzicht tevens aan wat de gemiddelde marge is van dit aantal producten waarvan de marge lager dan de gemiddelde marge van alle producten samen is. (1 kolom, 2 rijen) "
   ]
  },
  {
   "cell_type": "code",
   "execution_count": 218,
   "metadata": {},
   "outputs": [
    {
     "name": "stdout",
     "output_type": "stream",
     "text": [
      "                  Waarde\n",
      "Aantal Producten   59.00\n",
      "Gemiddelde Marge    0.29\n"
     ]
    }
   ],
   "source": [
    "gem_marge = dataframes[\"product\"][\"MARGIN\"].mean()\n",
    "lager_dan_marge = dataframes[\"product\"][dataframes[\"product\"][\"MARGIN\"] < gem_marge]\n",
    "aantal_producten_lager = lager_dan_marge.shape[0]\n",
    "gem_marge_lager = round(lager_dan_marge[\"MARGIN\"].mean(), 2)\n",
    "\n",
    "overzicht_marges_lager = pandas.DataFrame(\n",
    "    {\"Waarde\" : [aantal_producten_lager,gem_marge_lager]},\n",
    "    index=[\"Aantal Producten\",\"Gemiddelde Marge\"]\n",
    ")\n",
    "print(overzicht_marges_lager)\n",
    "\n"
   ]
  },
  {
   "cell_type": "markdown",
   "metadata": {},
   "source": [
    "Geef een overzicht met daarin de namen van de producten die voor meer dan 500 (verkoopprijs) zijn verkocht maar nooit zijn teruggebracht. (1 kolom, 13 rijen) "
   ]
  },
  {
   "cell_type": "code",
   "execution_count": 232,
   "metadata": {},
   "outputs": [
    {
     "name": "stdout",
     "output_type": "stream",
     "text": [
      "                PRODUCT_NAME\n",
      "0  Hailstorm Steel Woods Set\n"
     ]
    }
   ],
   "source": [
    "\n",
    "\n",
    "merge_nieuw = merge_order_details_met_returned_item.merge(\n",
    "    dataframes[\"product\"],on=\"PRODUCT_NUMBER\"\n",
    ")\n",
    "expensive_sales = merge_order_details_met_product[ merge_order_details_met_product[\"UNIT_SALE_PRICE\"] > 500 ]\n",
    "expensive_products = set(expensive_sales[\"PRODUCT_NAME\"].unique())\n",
    "\n",
    "returned_merged = dataframes[\"returned_item\"].merge(\n",
    "    dataframes[\"order_details\"][[\"ORDER_DETAIL_CODE\", \"PRODUCT_NUMBER\"]],\n",
    "    on=\"ORDER_DETAIL_CODE\", how=\"left\"\n",
    ")\n",
    "returned_merged = returned_merged.merge(\n",
    "    dataframes[\"product\"][[\"PRODUCT_NUMBER\", \"PRODUCT_NAME\"]],\n",
    "    on=\"PRODUCT_NUMBER\", how=\"left\"\n",
    ")\n",
    "returned_products = set(returned_merged[\"PRODUCT_NAME\"].unique())\n",
    "\n",
    "# Stap 4: Bepaal de producten die wel duur verkocht zijn maar nooit zijn teruggebracht\n",
    "never_returned_products = expensive_products - returned_products\n",
    "\n",
    "# Stap 5: Maak een overzicht DataFrame (1 kolom, verwacht 13 rijen)\n",
    "result_df = pandas.DataFrame(list(never_returned_products), columns=[\"PRODUCT_NAME\"])\n",
    "result_df = result_df.sort_values(\"PRODUCT_NAME\")  # Optioneel, voor nettere output\n",
    "\n",
    "print(result_df)"
   ]
  },
  {
   "cell_type": "markdown",
   "metadata": {},
   "source": [
    "Geef een overzicht met daarin per (achternaam van) medewerker of hij/zij manager is of niet, door deze informatie toe te voegen als extra 'Ja/Nee'-kolom.<br>\n",
    "Hint: gebruik een for-loop waarin je o.a. bepaalt of het woord 'Manager' in de functie (position_en) staat. (2 kolommen, 102 rijen)."
   ]
  },
  {
   "cell_type": "code",
   "execution_count": 236,
   "metadata": {},
   "outputs": [
    {
     "name": "stdout",
     "output_type": "stream",
     "text": [
      "     LAST_NAME IS_MANAGER\n",
      "0         Pagé         Ja\n",
      "1       Michel        Nee\n",
      "2     Clermont        Nee\n",
      "3       Jauvin        Nee\n",
      "4    Wiesinger        Nee\n",
      "..         ...        ...\n",
      "97    Laermans        Nee\n",
      "98     De Crée        Nee\n",
      "99     Lattrez        Nee\n",
      "100  Seefelder        Nee\n",
      "101     Grüner        Nee\n",
      "\n",
      "[102 rows x 2 columns]\n"
     ]
    }
   ],
   "source": [
    "sales_staff = dataframes[\"sales_staff\"][[\"LAST_NAME\",\"POSITION_EN\"]].copy()\n",
    "\n",
    "sales_staff[\"IS_MANAGER\"] = [\"Ja\" if \"Manager\" in pos else \"Nee\" for pos in sales_staff[\"POSITION_EN\"]]\n",
    "\n",
    "resultaat_managers = sales_staff[[\"LAST_NAME\", \"IS_MANAGER\"]]\n",
    "\n",
    "print(resultaat_managers)"
   ]
  },
  {
   "cell_type": "markdown",
   "metadata": {},
   "source": [
    "Met de onderstaande code laat je Python het huidige jaar uitrekenen."
   ]
  },
  {
   "cell_type": "code",
   "execution_count": 237,
   "metadata": {},
   "outputs": [
    {
     "data": {
      "text/plain": [
       "2025"
      ]
     },
     "execution_count": 237,
     "metadata": {},
     "output_type": "execute_result"
    }
   ],
   "source": [
    "from datetime import date\n",
    "date.today().year"
   ]
  },
  {
   "cell_type": "markdown",
   "metadata": {},
   "source": [
    "Met de onderstaande code selecteer je op een bepaald jaartal uit een datum."
   ]
  },
  {
   "cell_type": "code",
   "execution_count": 240,
   "metadata": {},
   "outputs": [
    {
     "data": {
      "text/plain": [
       "2013"
      ]
     },
     "execution_count": 240,
     "metadata": {},
     "output_type": "execute_result"
    }
   ],
   "source": [
    "from datetime import datetime\n",
    "\n",
    "date_str = '16-8-2013'\n",
    "date_format = '%d-%m-%Y'\n",
    "date_obj = datetime.strptime(date_str, date_format)\n",
    "\n",
    "date_obj.year"
   ]
  },
  {
   "cell_type": "markdown",
   "metadata": {},
   "source": [
    "Geef met behulp van bovenstaande hulpcode een overzicht met daarin op basis van het aantal jaar dat iemand in dienst is of een medewerker ‘kort in dienst’ (minder dan 25 jaar in dienst) of een ‘lang in dienst’ (groter gelijk dan 12 jaar in dienst) is. Geef daarbij per medewerker in een aparte kolom zowel ‘kort in dienst’ als ‘lang in dienst’ aan. Gebruik (wederom) een for-loop.<br>\n",
    "(2 kolommen, 102 rijen) "
   ]
  },
  {
   "cell_type": "code",
   "execution_count": 255,
   "metadata": {},
   "outputs": [
    {
     "name": "stdout",
     "output_type": "stream",
     "text": [
      "    KORT_IN_DIENST LANG_IN_DIENST\n",
      "0              Nee             Ja\n",
      "1              Nee             Ja\n",
      "2              Nee             Ja\n",
      "3              Nee             Ja\n",
      "4              Nee             Ja\n",
      "..             ...            ...\n",
      "97             Nee             Ja\n",
      "98             Nee             Ja\n",
      "99             Nee             Ja\n",
      "100            Nee             Ja\n",
      "101            Nee             Ja\n",
      "\n",
      "[102 rows x 2 columns]\n"
     ]
    }
   ],
   "source": [
    "sales_staff_jong_of_oud = dataframes[\"sales_staff\"][[\"LAST_NAME\",\"DATE_HIRED\"]].copy()\n",
    "\n",
    "sales_staff_jong_of_oud[\"DATE_HIRED\"] = pandas.to_datetime(sales_staff_jong_of_oud[\"DATE_HIRED\"], format=\"%Y-%m-%d\")\n",
    "\n",
    "current_year = date.today().year\n",
    "\n",
    "sales_staff_jong_of_oud[\"YEARS_IN_SERVICE\"] = current_year - sales_staff_jong_of_oud[\"DATE_HIRED\"].dt.year\n",
    "\n",
    "sales_staff_jong_of_oud[\"KORT_IN_DIENST\"] = [\"Ja\" if years < 25 else \"Nee\" for years in sales_staff_jong_of_oud[\"YEARS_IN_SERVICE\"]]\n",
    "sales_staff_jong_of_oud[\"LANG_IN_DIENST\"] = [\"Ja\" if years >= 12 else \"Nee\" for years in sales_staff_jong_of_oud[\"YEARS_IN_SERVICE\"]]\n",
    "\n",
    "resultaat_dienstjaren = sales_staff_jong_of_oud[[\"KORT_IN_DIENST\", \"LANG_IN_DIENST\"]]\n",
    "\n",
    "print(resultaat_dienstjaren)"
   ]
  },
  {
   "cell_type": "markdown",
   "metadata": {},
   "source": [
    "## Van Jupyter Notebook naar Pythonproject"
   ]
  },
  {
   "cell_type": "markdown",
   "metadata": {},
   "source": [
    "1. Richt de map waarin jullie tot nu toe hebben gewerkt in volgens de mappenstructuur uit de slides.\n",
    "2. Maak van de ontstane mappenstructuur een Pythonproject dat uitvoerbaar is vanuit de terminal. Maak daarin een .py-bestand dat minstens 5 antwoorden uit dit notebook (in de vorm van een DataFrame) exporteert naar Excelbestanden. Alle notebooks mogen als notebook blijven bestaan.\n",
    "3. Zorg ervoor dat dit Pythonproject zijn eigen repo heeft op Github. Let op: je virtual environment moet <b><u>niet</u></b> meegaan naar Github.\n",
    "\n",
    "Je mag tijdens dit proces je uit stap 1 ontstane mappenstructuur aanpassen, zolang je bij het beoordelingsmoment kan verantwoorden wat de motivatie hierachter is. De slides verplichten je dus nergens toe."
   ]
  }
 ],
 "metadata": {
  "kernelspec": {
   "display_name": ".venv",
   "language": "python",
   "name": "python3"
  },
  "language_info": {
   "codemirror_mode": {
    "name": "ipython",
    "version": 3
   },
   "file_extension": ".py",
   "mimetype": "text/x-python",
   "name": "python",
   "nbconvert_exporter": "python",
   "pygments_lexer": "ipython3",
   "version": "3.13.2"
  }
 },
 "nbformat": 4,
 "nbformat_minor": 2
}
