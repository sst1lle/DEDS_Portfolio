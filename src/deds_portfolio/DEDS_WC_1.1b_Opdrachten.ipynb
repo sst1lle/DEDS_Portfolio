{
 "cells": [
  {
   "cell_type": "markdown",
   "metadata": {},
   "source": [
    "# Werkcollege-opdrachten Week 1.2"
   ]
  },
  {
   "cell_type": "markdown",
   "metadata": {},
   "source": [
    "## Voorbereiding"
   ]
  },
  {
   "cell_type": "markdown",
   "metadata": {},
   "source": [
    "Importeer in het codeblok hieronder de packages die worden gebruikt om data in te lezen. Geef er ook de gebruikelijke aliassen aan.<br>\n",
    "N.B.: de 2 reeds geschreven coderegels zorgen ervoor dat eventuele warnings, die code-outputs lelijker maken, uitgezet worden."
   ]
  },
  {
   "cell_type": "code",
   "execution_count": 94,
   "metadata": {},
   "outputs": [],
   "source": [
    "import pandas \n",
    "import sqlite3\n",
    "import warnings\n",
    "warnings.simplefilter('ignore')"
   ]
  },
  {
   "cell_type": "markdown",
   "metadata": {},
   "source": [
    "Zet de volgende bestanden in een makkelijk terug te vinden map:\n",
    "- go_sales_train.sqlite\n",
    "- go_crm_train.sqlite\n",
    "- go_staff_train.sqlite"
   ]
  },
  {
   "cell_type": "markdown",
   "metadata": {},
   "source": [
    "Bestudeer de bovenste 3 bestanden in DB Browser (SQLite), <a href=\"https://sqlitebrowser.org/dl/\">hier</a> te downloaden. Wat valt je op qua datatypen?<br>"
   ]
  },
  {
   "cell_type": "markdown",
   "metadata": {},
   "source": [
    "## Databasetabel inlezen"
   ]
  },
  {
   "cell_type": "markdown",
   "metadata": {},
   "source": [
    "Creëer een databaseconnectie met het bestand go_sales_train.sqlite."
   ]
  },
  {
   "cell_type": "code",
   "execution_count": 95,
   "metadata": {},
   "outputs": [
    {
     "name": "stdout",
     "output_type": "stream",
     "text": [
      "SQLite3 Connection:  <sqlite3.Connection object at 0x11b915d50>\n"
     ]
    }
   ],
   "source": [
    "conn = sqlite3.connect('sql/go_sales_train.sqlite')\n",
    "\n",
    "print(\"SQLite3 Connection: \",conn)"
   ]
  },
  {
   "cell_type": "markdown",
   "metadata": {},
   "source": [
    "<b>Let goed op:</b><br>\n",
    "Als je per ongeluk een verkeerde bestandsnaam ingeeft, maakt Python zélf een leeg databasebestand aan! Er ontstaat dan dus een nieuwe .sqlite, en dat is nadrukkelijk <u>niet de bedoeling.</u>"
   ]
  },
  {
   "cell_type": "markdown",
   "metadata": {},
   "source": [
    "Gebruik de onderstaande sql_query om te achterhalen welke databasetabellen in go_sales_train zitten."
   ]
  },
  {
   "cell_type": "code",
   "execution_count": 96,
   "metadata": {},
   "outputs": [
    {
     "name": "stdout",
     "output_type": "stream",
     "text": [
      "De tabellen uit de database: \n",
      "country\n",
      "order_details\n",
      "order_header\n",
      "order_method\n",
      "product\n",
      "product_line\n",
      "product_type\n",
      "retailer_site\n",
      "return_reason\n",
      "returned_item\n",
      "sales_branch\n",
      "sales_staff\n"
     ]
    }
   ],
   "source": [
    "import os\n",
    "\n",
    "db_path = os.path.abspath(\"sql/go_sales_train.sqlite\")\n",
    "\n",
    "sql_query = \"SELECT name FROM sqlite_master WHERE type='table';\"\n",
    "conn = sqlite3.connect(db_path)\n",
    "\n",
    "#Vul dit codeblok verder in\n",
    "cursor = conn.cursor()\n",
    "cursor.execute(sql_query)\n",
    "\n",
    "tables = cursor.fetchall()\n",
    "\n",
    "\n",
    "print('De tabellen uit de database: ')\n",
    "for table in tables:\n",
    "    print(table[0])\n",
    "\n"
   ]
  },
  {
   "cell_type": "markdown",
   "metadata": {},
   "source": [
    "Krijg je lege output? Dan heb je per ongeluk een leeg  databasebestand (.sqlite) aangemaakt.<br>\n",
    "Lees de informatie onder het kopje <u>Let goed op:</u> hierboven nog eens goed door."
   ]
  },
  {
   "cell_type": "markdown",
   "metadata": {},
   "source": [
    "Gebruik de gecreëerde databaseconnectie om de resultaten van de volgende query in een DataFrame te zetten:<br>\n",
    "*SELECT * FROM sales_staff* "
   ]
  },
  {
   "cell_type": "code",
   "execution_count": 97,
   "metadata": {},
   "outputs": [
    {
     "name": "stdout",
     "output_type": "stream",
     "text": [
      "   SALES_STAFF_CODE FIRST_NAME  LAST_NAME                      POSITION  \\\n",
      "0                 4      Denis       Pagé               General Manager   \n",
      "1                 5  Élizabeth     Michel  Level 3 Sales Representative   \n",
      "2                 6      Émile   Clermont  Level 1 Sales Representative   \n",
      "3                 7    Étienne     Jauvin  Level 2 Sales Representative   \n",
      "4                12    Elsbeth  Wiesinger  Level 2 Sales Representative   \n",
      "\n",
      "          WORK_PHONE  EXTENSION                FAX                   EMAIL  \\\n",
      "0  +33 1 68 94 52 20      326.0  +33 1 68 94 56 60       DPage@grtd123.com   \n",
      "1  +33 1 68 94 52 20      337.0  +33 1 68 94 56 60     EMichel@grtd123.com   \n",
      "2  +33 1 68 94 52 20      379.0  +33 1 68 94 56 60   EClermont@grtd123.com   \n",
      "3  +33 1 68 94 52 20      399.0  +33 1 68 94 56 60     EJauvin@grtd123.com   \n",
      "4  +(49) 40 663 1990     1819.0  +(49) 40 663 4571  EWiesinger@grtd123.com   \n",
      "\n",
      "   DATE_HIRED  SALES_BRANCH_CODE          FULL_NAME  \n",
      "0  1996-11-03                  6         Denis Pagé  \n",
      "1  1995-06-08                  6   Élizabeth Michel  \n",
      "2  1998-04-07                  6     Émile Clermont  \n",
      "3  1997-08-16                  6     Étienne Jauvin  \n",
      "4  1997-02-27                 13  Elsbeth Wiesinger  \n"
     ]
    }
   ],
   "source": [
    "\n",
    "dataframe = pandas.read_sql_query('SELECT * FROM sales_staff',conn)\n",
    "\n",
    "print(dataframe.head())"
   ]
  },
  {
   "cell_type": "markdown",
   "metadata": {},
   "source": [
    "## Datumkolommen"
   ]
  },
  {
   "cell_type": "markdown",
   "metadata": {},
   "source": [
    "Zoals je misschien al hebt gezien in DB Browser, zijn datums als TEXT opgeslagen, en niet als DATE, DATETIME o.i.d. Hier moeten we dus nog even \"typische datumkolommen\" van maken. Dat doen we met de volgende code:"
   ]
  },
  {
   "cell_type": "code",
   "execution_count": 98,
   "metadata": {},
   "outputs": [
    {
     "name": "stdout",
     "output_type": "stream",
     "text": [
      "SALES_STAFF_CODE              int64\n",
      "FIRST_NAME                   object\n",
      "LAST_NAME                    object\n",
      "POSITION                     object\n",
      "WORK_PHONE                   object\n",
      "EXTENSION                   float64\n",
      "FAX                          object\n",
      "EMAIL                        object\n",
      "DATE_HIRED           datetime64[ns]\n",
      "SALES_BRANCH_CODE             int64\n",
      "FULL_NAME                    object\n",
      "dtype: object\n"
     ]
    }
   ],
   "source": [
    "sales_staff = pandas.read_sql('SELECT * FROM sales_staff',conn)\n",
    "sales_staff['DATE_HIRED'] = pandas.to_datetime(sales_staff['DATE_HIRED'])\n",
    "print(sales_staff.dtypes)\n"
   ]
  },
  {
   "cell_type": "markdown",
   "metadata": {},
   "source": [
    "Als we hier het jaar uit willen halen, schrijven we:"
   ]
  },
  {
   "cell_type": "code",
   "execution_count": 99,
   "metadata": {},
   "outputs": [
    {
     "data": {
      "text/plain": [
       "Index([1996, 1995, 1998, 1997, 1997, 1999, 1997, 1998, 1996, 1996,\n",
       "       ...\n",
       "       1999, 2000, 1999, 1999, 1999, 1999, 1998, 1998, 2002, 2002],\n",
       "      dtype='int32', name='DATE_HIRED', length=104)"
      ]
     },
     "execution_count": 99,
     "metadata": {},
     "output_type": "execute_result"
    }
   ],
   "source": [
    "pandas.DatetimeIndex(sales_staff['DATE_HIRED']).year\n"
   ]
  },
  {
   "cell_type": "markdown",
   "metadata": {},
   "source": [
    "Deze zelfde syntax is te gebruiken voor het extraheren van kwartalen, maanden, weken en dagen. Probeer het maar eens!"
   ]
  },
  {
   "cell_type": "markdown",
   "metadata": {},
   "source": [
    "## DataFrames uitsplitsen en opbouwen met Series"
   ]
  },
  {
   "cell_type": "markdown",
   "metadata": {},
   "source": [
    "De volgende 5 kolommen hebben betrekking op de contactdetails van elke medewerker in dit DataFrame:\n",
    "- SALES_STAFF_CODE\n",
    "- WORK_PHONE\n",
    "- EXTENSION\n",
    "- FAX\n",
    "- EMAIL\n",
    "\n",
    "Maak van elk van deze 5 kolommen een serie."
   ]
  },
  {
   "cell_type": "code",
   "execution_count": 100,
   "metadata": {},
   "outputs": [
    {
     "name": "stdout",
     "output_type": "stream",
     "text": [
      "0        4\n",
      "1        5\n",
      "2        6\n",
      "3        7\n",
      "4       12\n",
      "      ... \n",
      "99     122\n",
      "100    123\n",
      "101    124\n",
      "102    420\n",
      "103    420\n",
      "Name: SALES_STAFF_CODE, Length: 104, dtype: int64\n"
     ]
    }
   ],
   "source": [
    "sales_staff_code = sales_staff['SALES_STAFF_CODE']\n",
    "work_phone = sales_staff['WORK_PHONE']\n",
    "extension = sales_staff['EXTENSION']\n",
    "fax = sales_staff['FAX']\n",
    "email= sales_staff['EMAIL']\n",
    "\n",
    "print(sales_staff_code)\n"
   ]
  },
  {
   "cell_type": "markdown",
   "metadata": {},
   "source": [
    "Zet allevijf gecreëerde series als kolommen naast elkaar in een DataFrame (*contact_details*). Gebruik pd.concat(...)<br>\n",
    "Hulpvraag: welke waarde geef je aan de axis-parameter?"
   ]
  },
  {
   "cell_type": "code",
   "execution_count": 101,
   "metadata": {},
   "outputs": [
    {
     "name": "stdout",
     "output_type": "stream",
     "text": [
      "     SALES_STAFF_CODE         WORK_PHONE  EXTENSION                FAX  \\\n",
      "0                   4  +33 1 68 94 52 20      326.0  +33 1 68 94 56 60   \n",
      "1                   5  +33 1 68 94 52 20      337.0  +33 1 68 94 56 60   \n",
      "2                   6  +33 1 68 94 52 20      379.0  +33 1 68 94 56 60   \n",
      "3                   7  +33 1 68 94 52 20      399.0  +33 1 68 94 56 60   \n",
      "4                  12  +(49) 40 663 1990     1819.0  +(49) 40 663 4571   \n",
      "..                ...                ...        ...                ...   \n",
      "99                122    +32 16 20.73.21     1634.0    +32 16 20.73.32   \n",
      "100               123  +(43) 13 79 56 32      326.0  +(43) 13 79 56 33   \n",
      "101               124  +(43) 13 79 56 32      349.0  +(43) 13 79 56 33   \n",
      "102               420          316123456     1993.0          316123456   \n",
      "103               420          316123456     1993.0          316123456   \n",
      "\n",
      "                      EMAIL  \n",
      "0         DPage@grtd123.com  \n",
      "1       EMichel@grtd123.com  \n",
      "2     EClermont@grtd123.com  \n",
      "3       EJauvin@grtd123.com  \n",
      "4    EWiesinger@grtd123.com  \n",
      "..                      ...  \n",
      "99     YLattrez@grtd123.com  \n",
      "100  WSeefelder@grtd123.com  \n",
      "101     SGruner@grtd123.com  \n",
      "102   samstille2712Yahoo.nl  \n",
      "103   samstille2712Yahoo.nl  \n",
      "\n",
      "[104 rows x 5 columns]\n"
     ]
    }
   ],
   "source": [
    "contact_details = pandas.concat([sales_staff_code,work_phone,extension,fax,email],axis=1)\n",
    "\n",
    "print(contact_details)"
   ]
  },
  {
   "cell_type": "markdown",
   "metadata": {},
   "source": [
    "## Series en DataFrames maken vanuit lists en dictionaries"
   ]
  },
  {
   "cell_type": "markdown",
   "metadata": {},
   "source": [
    "Met .head(*getal*) kan je de bovenste *getal* rijen van een tabel selecteren.<br>\n",
    "Selecteer op deze manier de bovenste 5 rijen van *contact_details*.<br>\n",
    "Sla dit resultaat op in een nieuw DataFrame."
   ]
  },
  {
   "cell_type": "code",
   "execution_count": 102,
   "metadata": {},
   "outputs": [
    {
     "name": "stdout",
     "output_type": "stream",
     "text": [
      "   SALES_STAFF_CODE         WORK_PHONE  EXTENSION                FAX  \\\n",
      "0                 4  +33 1 68 94 52 20      326.0  +33 1 68 94 56 60   \n",
      "1                 5  +33 1 68 94 52 20      337.0  +33 1 68 94 56 60   \n",
      "2                 6  +33 1 68 94 52 20      379.0  +33 1 68 94 56 60   \n",
      "3                 7  +33 1 68 94 52 20      399.0  +33 1 68 94 56 60   \n",
      "4                12  +(49) 40 663 1990     1819.0  +(49) 40 663 4571   \n",
      "\n",
      "                    EMAIL  \n",
      "0       DPage@grtd123.com  \n",
      "1     EMichel@grtd123.com  \n",
      "2   EClermont@grtd123.com  \n",
      "3     EJauvin@grtd123.com  \n",
      "4  EWiesinger@grtd123.com  \n"
     ]
    }
   ],
   "source": [
    "contact_details_nieuw = contact_details.head(5)\n",
    "\n",
    "print(contact_details_nieuw)"
   ]
  },
  {
   "cell_type": "markdown",
   "metadata": {},
   "source": [
    "Aan deze 10 rijen met contactdetails willen we 3 kolommen toevoegen: 'FIRST_LANGUAGE', 'SECOND_LANGUAGE' & 'THIRD_LANGUAGE'.<br>\n",
    "Iedereens 'First Language' is Engels, afgekort 'EN'. Maak een lijst waarin 5x 'EN' staat.<br>\n",
    "Converteer deze lijst vervolgens naar een serie en voeg deze horizontaal samen met het resultaat van de vorige opdracht.<br>\n",
    "Vergeet niet een passende naam te geven aan de nieuw ontstane kolom."
   ]
  },
  {
   "cell_type": "code",
   "execution_count": 103,
   "metadata": {},
   "outputs": [
    {
     "name": "stdout",
     "output_type": "stream",
     "text": [
      "   SALES_STAFF_CODE         WORK_PHONE  EXTENSION                FAX  \\\n",
      "0                 4  +33 1 68 94 52 20      326.0  +33 1 68 94 56 60   \n",
      "1                 5  +33 1 68 94 52 20      337.0  +33 1 68 94 56 60   \n",
      "2                 6  +33 1 68 94 52 20      379.0  +33 1 68 94 56 60   \n",
      "3                 7  +33 1 68 94 52 20      399.0  +33 1 68 94 56 60   \n",
      "4                12  +(49) 40 663 1990     1819.0  +(49) 40 663 4571   \n",
      "\n",
      "                    EMAIL FIRST_LANGUAGE  \n",
      "0       DPage@grtd123.com             EN  \n",
      "1     EMichel@grtd123.com             EN  \n",
      "2   EClermont@grtd123.com             EN  \n",
      "3     EJauvin@grtd123.com             EN  \n",
      "4  EWiesinger@grtd123.com             EN  \n"
     ]
    }
   ],
   "source": [
    "first_language = ['EN','EN','EN','EN','EN']\n",
    "first_language_df = pandas.DataFrame({'FIRST_LANGUAGE' : first_language})\n",
    "\n",
    "contact_details_nieuw= pandas.concat([sales_staff_code,work_phone,extension,fax,email,first_language_df],axis=1)\n",
    "\n",
    "print(contact_details_nieuw.head(5))\n"
   ]
  },
  {
   "cell_type": "markdown",
   "metadata": {},
   "source": [
    "Maak nu de tweede kolom ('SECOND_LANGUAGE'). Maak daarvoor een dictionary, met daarin...\n",
    "- Als keys: alle indexen uit het resultaat van het vorige codeblok.\n",
    "- Als values: bij de eerste 3 elementen 'FR' (Frankrijk), bij de laatste 2 'DE' (Duitsland).\n",
    "\n",
    "Maak vervolgens ook hier weer een serie van en voeg ook deze weer horizontaal samen met het rsultaat van de vorige opdracht.<br>\n",
    "Vergeet niet een passende naam te geven aan de nieuw ontstane kolom."
   ]
  },
  {
   "cell_type": "code",
   "execution_count": 104,
   "metadata": {},
   "outputs": [
    {
     "name": "stdout",
     "output_type": "stream",
     "text": [
      "   SALES_STAFF_CODE         WORK_PHONE  EXTENSION                FAX  \\\n",
      "0                 4  +33 1 68 94 52 20      326.0  +33 1 68 94 56 60   \n",
      "1                 5  +33 1 68 94 52 20      337.0  +33 1 68 94 56 60   \n",
      "2                 6  +33 1 68 94 52 20      379.0  +33 1 68 94 56 60   \n",
      "3                 7  +33 1 68 94 52 20      399.0  +33 1 68 94 56 60   \n",
      "4                12  +(49) 40 663 1990     1819.0  +(49) 40 663 4571   \n",
      "\n",
      "                    EMAIL FIRST_LANGUAGE SECOND_LANGUAGE  \n",
      "0       DPage@grtd123.com             EN              FR  \n",
      "1     EMichel@grtd123.com             EN              FR  \n",
      "2   EClermont@grtd123.com             EN              FR  \n",
      "3     EJauvin@grtd123.com             EN              DE  \n",
      "4  EWiesinger@grtd123.com             EN              DE  \n"
     ]
    }
   ],
   "source": [
    "second_languages = {\n",
    "    0: 'FR',\n",
    "    1: 'FR',\n",
    "    2: 'FR',\n",
    "    3: 'DE',\n",
    "    4: 'DE'\n",
    "}\n",
    "second_languages_df = pandas.DataFrame.from_dict(second_languages, orient='index',columns=[\"SECOND_LANGUAGE\"])\n",
    "\n",
    "contact_details_nieuw= pandas.concat([sales_staff_code,work_phone,extension,fax,email,first_language_df,second_languages_df],axis=1)\n",
    "print(contact_details_nieuw.head(5))\n",
    "\n"
   ]
  },
  {
   "cell_type": "markdown",
   "metadata": {},
   "source": [
    "Maak ten slotte de derde kolom ('THIRD_LANGUAGE') door een dictionary te maken met daarin...\n",
    "- Als key: de naam van de nieuwe kolom. Zie je het verschil qua keys met de vorige opdracht?\n",
    "- Als waarde: een lijst met daarin 'NL', 'NL', 'JPN', 'JPN', 'KOR'.\n",
    "\n",
    "Converteer deze dictionary nu naar een DataFrame en voeg deze horizontaal samen met het resultaat van de vorige opdracht.<br>\n",
    "Waarom hoef je hierna de nieuw ontstane kolom geen passende naam meer te geven?"
   ]
  },
  {
   "cell_type": "code",
   "execution_count": 105,
   "metadata": {},
   "outputs": [
    {
     "name": "stdout",
     "output_type": "stream",
     "text": [
      "   SALES_STAFF_CODE         WORK_PHONE  EXTENSION                FAX  \\\n",
      "0                 4  +33 1 68 94 52 20      326.0  +33 1 68 94 56 60   \n",
      "1                 5  +33 1 68 94 52 20      337.0  +33 1 68 94 56 60   \n",
      "2                 6  +33 1 68 94 52 20      379.0  +33 1 68 94 56 60   \n",
      "3                 7  +33 1 68 94 52 20      399.0  +33 1 68 94 56 60   \n",
      "4                12  +(49) 40 663 1990     1819.0  +(49) 40 663 4571   \n",
      "\n",
      "                    EMAIL FIRST_LANGUAGE SECOND_LANGUAGE THIRD_LANGUAGE  \n",
      "0       DPage@grtd123.com             EN              FR             NL  \n",
      "1     EMichel@grtd123.com             EN              FR             NL  \n",
      "2   EClermont@grtd123.com             EN              FR            JPN  \n",
      "3     EJauvin@grtd123.com             EN              DE            JPN  \n",
      "4  EWiesinger@grtd123.com             EN              DE            KOR  \n"
     ]
    }
   ],
   "source": [
    "third_language = {\n",
    "    'THIRD_LANGUAGE': ['NL','NL','JPN','JPN','KOR']\n",
    "    \n",
    "}\n",
    "third_language_df = pandas.DataFrame(third_language)\n",
    "\n",
    "contact_details_nieuw= pandas.concat([sales_staff_code,work_phone,extension,fax,email,first_language_df,second_languages_df,third_language_df],axis=1)\n",
    "print(contact_details_nieuw.head(5))\n",
    "\n",
    "#Ik hoef de nieuw ontstande kolom geen naam meer te geven omdat de de key van de dict, de naam wordt denk ik\n"
   ]
  },
  {
   "cell_type": "markdown",
   "metadata": {},
   "source": [
    "## Data toevoegen"
   ]
  },
  {
   "cell_type": "markdown",
   "metadata": {},
   "source": [
    "### Rijen"
   ]
  },
  {
   "cell_type": "markdown",
   "metadata": {},
   "source": [
    "Gebruik de originele databasetabel *sales_staff*.<br>\n",
    "Voeg een extra rij toe met eigen invulling. Zorg ervoor dat de index netjes doorloopt.<br>\n",
    "Hulpvraag: welke waarde geef je nu aan axis?"
   ]
  },
  {
   "cell_type": "code",
   "execution_count": 106,
   "metadata": {},
   "outputs": [
    {
     "ename": "OperationalError",
     "evalue": "table sales_staff has no column named POSITION_EN",
     "output_type": "error",
     "traceback": [
      "\u001b[0;31m---------------------------------------------------------------------------\u001b[0m",
      "\u001b[0;31mOperationalError\u001b[0m                          Traceback (most recent call last)",
      "Cell \u001b[0;32mIn[106], line 3\u001b[0m\n\u001b[1;32m      1\u001b[0m nieuwe_rij \u001b[38;5;241m=\u001b[39m (\u001b[38;5;241m420\u001b[39m,\u001b[38;5;124m'\u001b[39m\u001b[38;5;124mSam\u001b[39m\u001b[38;5;124m'\u001b[39m,\u001b[38;5;124m'\u001b[39m\u001b[38;5;124mStille\u001b[39m\u001b[38;5;124m'\u001b[39m,\u001b[38;5;124m'\u001b[39m\u001b[38;5;124mCEO\u001b[39m\u001b[38;5;124m'\u001b[39m,\u001b[38;5;241m316123456\u001b[39m,\u001b[38;5;241m1992\u001b[39m, \u001b[38;5;241m316123456\u001b[39m,\u001b[38;5;124m'\u001b[39m\u001b[38;5;124msamstille2712Yahoo.nl\u001b[39m\u001b[38;5;124m'\u001b[39m,\u001b[38;5;124m'\u001b[39m\u001b[38;5;124m2002-12-27\u001b[39m\u001b[38;5;124m'\u001b[39m,\u001b[38;5;241m1\u001b[39m)\n\u001b[0;32m----> 3\u001b[0m \u001b[43mcursor\u001b[49m\u001b[38;5;241;43m.\u001b[39;49m\u001b[43mexecute\u001b[49m\u001b[43m(\u001b[49m\u001b[38;5;124;43m'\u001b[39;49m\u001b[38;5;124;43mINSERT INTO sales_staff (SALES_STAFF_CODE, FIRST_NAME, LAST_NAME, POSITION_EN, WORK_PHONE, EXTENSION, FAX, EMAIL, DATE_HIRED, SALES_BRANCH_CODE) VALUES (?,?,?,?,?,?,?,?,?,?)\u001b[39;49m\u001b[38;5;124;43m'\u001b[39;49m\u001b[43m,\u001b[49m\u001b[43mnieuwe_rij\u001b[49m\u001b[43m)\u001b[49m\n\u001b[1;32m      4\u001b[0m conn\u001b[38;5;241m.\u001b[39mcommit()\n\u001b[1;32m      6\u001b[0m cursor\u001b[38;5;241m.\u001b[39mexecute(\u001b[38;5;124m'\u001b[39m\u001b[38;5;124mSELECT * FROM sales_staff WHERE SALES_STAFF_CODE = ?\u001b[39m\u001b[38;5;124m'\u001b[39m,(\u001b[38;5;241m420\u001b[39m,))\n",
      "\u001b[0;31mOperationalError\u001b[0m: table sales_staff has no column named POSITION_EN"
     ]
    }
   ],
   "source": [
    "\n",
    "nieuwe_rij = (420,'Sam','Stille','CEO',316123456,1992, 316123456,'samstille2712Yahoo.nl','2002-12-27',1)\n",
    "\n",
    "cursor.execute('INSERT INTO sales_staff (SALES_STAFF_CODE, FIRST_NAME, LAST_NAME, POSITION_EN, WORK_PHONE, EXTENSION, FAX, EMAIL, DATE_HIRED, SALES_BRANCH_CODE) VALUES (?,?,?,?,?,?,?,?,?,?)',nieuwe_rij)\n",
    "conn.commit()\n",
    "\n",
    "cursor.execute('SELECT * FROM sales_staff WHERE SALES_STAFF_CODE = ?',(420,))\n",
    "\n",
    "rij= cursor.fetchone()\n",
    "\n",
    "print(rij)\n",
    "\n"
   ]
  },
  {
   "cell_type": "markdown",
   "metadata": {},
   "source": [
    "### Kolommen"
   ]
  },
  {
   "cell_type": "markdown",
   "metadata": {},
   "source": [
    "Voeg een kolom *FULL_NAME* toe die de waarden van *FIRST_NAME* en *LAST_NAME* achter elkaar zet, gescheiden door een spatie."
   ]
  },
  {
   "cell_type": "code",
   "execution_count": 53,
   "metadata": {},
   "outputs": [],
   "source": [
    "#cursor.execute(\"ALTER TABLE sales_staff ADD COLUMN FULL_NAME TEXT \")\n",
    "conn.commit()\n",
    "cursor.execute(\"UPDATE sales_staff SET FULL_NAME = FIRST_NAME || ' ' || LAST_NAME WHERE FIRST_NAME IS NOT NULL AND LAST_NAME IS NOT NULL\")\n",
    "conn.commit()"
   ]
  },
  {
   "cell_type": "markdown",
   "metadata": {},
   "source": [
    "## Data wijzigen"
   ]
  },
  {
   "cell_type": "markdown",
   "metadata": {},
   "source": [
    "### Datatypen"
   ]
  },
  {
   "cell_type": "markdown",
   "metadata": {},
   "source": [
    "Door het attribuut .dtypes van een DataFrame op te vragen krijg je een serie die per kolom het datatype weergeeft. Doe dit bij de originele databasetabel *sales_staff*"
   ]
  },
  {
   "cell_type": "code",
   "execution_count": 54,
   "metadata": {},
   "outputs": [
    {
     "name": "stdout",
     "output_type": "stream",
     "text": [
      "SALES_STAFF_CODE              int64\n",
      "FIRST_NAME                   object\n",
      "LAST_NAME                    object\n",
      "POSITION_EN                  object\n",
      "WORK_PHONE                   object\n",
      "EXTENSION                   float64\n",
      "FAX                          object\n",
      "EMAIL                        object\n",
      "DATE_HIRED           datetime64[ns]\n",
      "SALES_BRANCH_CODE             int64\n",
      "FULL_NAME                    object\n",
      "dtype: object\n"
     ]
    }
   ],
   "source": [
    "print(sales_staff.dtypes)"
   ]
  },
  {
   "cell_type": "markdown",
   "metadata": {},
   "source": [
    "Hier valt op dat elke kolom het datatype 'object' heeft: Python leest dus alles als string. Wiskundige operaties zijn hierdoor niet mogelijk.<br>\n",
    "We kunnen proberen om kolommen met getallen, bijvoorbeeld de 'extension', te converteren naar een int. Zie onderstaande code."
   ]
  },
  {
   "cell_type": "code",
   "execution_count": null,
   "metadata": {},
   "outputs": [
    {
     "ename": "IntCastingNaNError",
     "evalue": "Cannot convert non-finite values (NA or inf) to integer",
     "output_type": "error",
     "traceback": [
      "\u001b[0;31m---------------------------------------------------------------------------\u001b[0m",
      "\u001b[0;31mIntCastingNaNError\u001b[0m                        Traceback (most recent call last)",
      "Cell \u001b[0;32mIn[55], line 1\u001b[0m\n\u001b[0;32m----> 1\u001b[0m sales_staff[\u001b[38;5;124m'\u001b[39m\u001b[38;5;124mEXTENSION\u001b[39m\u001b[38;5;124m'\u001b[39m] \u001b[38;5;241m=\u001b[39m \u001b[43msales_staff\u001b[49m\u001b[43m[\u001b[49m\u001b[38;5;124;43m'\u001b[39;49m\u001b[38;5;124;43mEXTENSION\u001b[39;49m\u001b[38;5;124;43m'\u001b[39;49m\u001b[43m]\u001b[49m\u001b[38;5;241;43m.\u001b[39;49m\u001b[43mastype\u001b[49m\u001b[43m(\u001b[49m\u001b[38;5;28;43mint\u001b[39;49m\u001b[43m)\u001b[49m\n\u001b[1;32m      2\u001b[0m sales_staff\u001b[38;5;241m.\u001b[39mdtypes\n",
      "File \u001b[0;32m~/Documents/GitHub/DEDS_Portfolio/.venv/lib/python3.13/site-packages/pandas/core/generic.py:6643\u001b[0m, in \u001b[0;36mNDFrame.astype\u001b[0;34m(self, dtype, copy, errors)\u001b[0m\n\u001b[1;32m   6637\u001b[0m     results \u001b[38;5;241m=\u001b[39m [\n\u001b[1;32m   6638\u001b[0m         ser\u001b[38;5;241m.\u001b[39mastype(dtype, copy\u001b[38;5;241m=\u001b[39mcopy, errors\u001b[38;5;241m=\u001b[39merrors) \u001b[38;5;28;01mfor\u001b[39;00m _, ser \u001b[38;5;129;01min\u001b[39;00m \u001b[38;5;28mself\u001b[39m\u001b[38;5;241m.\u001b[39mitems()\n\u001b[1;32m   6639\u001b[0m     ]\n\u001b[1;32m   6641\u001b[0m \u001b[38;5;28;01melse\u001b[39;00m:\n\u001b[1;32m   6642\u001b[0m     \u001b[38;5;66;03m# else, only a single dtype is given\u001b[39;00m\n\u001b[0;32m-> 6643\u001b[0m     new_data \u001b[38;5;241m=\u001b[39m \u001b[38;5;28;43mself\u001b[39;49m\u001b[38;5;241;43m.\u001b[39;49m\u001b[43m_mgr\u001b[49m\u001b[38;5;241;43m.\u001b[39;49m\u001b[43mastype\u001b[49m\u001b[43m(\u001b[49m\u001b[43mdtype\u001b[49m\u001b[38;5;241;43m=\u001b[39;49m\u001b[43mdtype\u001b[49m\u001b[43m,\u001b[49m\u001b[43m \u001b[49m\u001b[43mcopy\u001b[49m\u001b[38;5;241;43m=\u001b[39;49m\u001b[43mcopy\u001b[49m\u001b[43m,\u001b[49m\u001b[43m \u001b[49m\u001b[43merrors\u001b[49m\u001b[38;5;241;43m=\u001b[39;49m\u001b[43merrors\u001b[49m\u001b[43m)\u001b[49m\n\u001b[1;32m   6644\u001b[0m     res \u001b[38;5;241m=\u001b[39m \u001b[38;5;28mself\u001b[39m\u001b[38;5;241m.\u001b[39m_constructor_from_mgr(new_data, axes\u001b[38;5;241m=\u001b[39mnew_data\u001b[38;5;241m.\u001b[39maxes)\n\u001b[1;32m   6645\u001b[0m     \u001b[38;5;28;01mreturn\u001b[39;00m res\u001b[38;5;241m.\u001b[39m__finalize__(\u001b[38;5;28mself\u001b[39m, method\u001b[38;5;241m=\u001b[39m\u001b[38;5;124m\"\u001b[39m\u001b[38;5;124mastype\u001b[39m\u001b[38;5;124m\"\u001b[39m)\n",
      "File \u001b[0;32m~/Documents/GitHub/DEDS_Portfolio/.venv/lib/python3.13/site-packages/pandas/core/internals/managers.py:430\u001b[0m, in \u001b[0;36mBaseBlockManager.astype\u001b[0;34m(self, dtype, copy, errors)\u001b[0m\n\u001b[1;32m    427\u001b[0m \u001b[38;5;28;01melif\u001b[39;00m using_copy_on_write():\n\u001b[1;32m    428\u001b[0m     copy \u001b[38;5;241m=\u001b[39m \u001b[38;5;28;01mFalse\u001b[39;00m\n\u001b[0;32m--> 430\u001b[0m \u001b[38;5;28;01mreturn\u001b[39;00m \u001b[38;5;28;43mself\u001b[39;49m\u001b[38;5;241;43m.\u001b[39;49m\u001b[43mapply\u001b[49m\u001b[43m(\u001b[49m\n\u001b[1;32m    431\u001b[0m \u001b[43m    \u001b[49m\u001b[38;5;124;43m\"\u001b[39;49m\u001b[38;5;124;43mastype\u001b[39;49m\u001b[38;5;124;43m\"\u001b[39;49m\u001b[43m,\u001b[49m\n\u001b[1;32m    432\u001b[0m \u001b[43m    \u001b[49m\u001b[43mdtype\u001b[49m\u001b[38;5;241;43m=\u001b[39;49m\u001b[43mdtype\u001b[49m\u001b[43m,\u001b[49m\n\u001b[1;32m    433\u001b[0m \u001b[43m    \u001b[49m\u001b[43mcopy\u001b[49m\u001b[38;5;241;43m=\u001b[39;49m\u001b[43mcopy\u001b[49m\u001b[43m,\u001b[49m\n\u001b[1;32m    434\u001b[0m \u001b[43m    \u001b[49m\u001b[43merrors\u001b[49m\u001b[38;5;241;43m=\u001b[39;49m\u001b[43merrors\u001b[49m\u001b[43m,\u001b[49m\n\u001b[1;32m    435\u001b[0m \u001b[43m    \u001b[49m\u001b[43musing_cow\u001b[49m\u001b[38;5;241;43m=\u001b[39;49m\u001b[43musing_copy_on_write\u001b[49m\u001b[43m(\u001b[49m\u001b[43m)\u001b[49m\u001b[43m,\u001b[49m\n\u001b[1;32m    436\u001b[0m \u001b[43m\u001b[49m\u001b[43m)\u001b[49m\n",
      "File \u001b[0;32m~/Documents/GitHub/DEDS_Portfolio/.venv/lib/python3.13/site-packages/pandas/core/internals/managers.py:363\u001b[0m, in \u001b[0;36mBaseBlockManager.apply\u001b[0;34m(self, f, align_keys, **kwargs)\u001b[0m\n\u001b[1;32m    361\u001b[0m         applied \u001b[38;5;241m=\u001b[39m b\u001b[38;5;241m.\u001b[39mapply(f, \u001b[38;5;241m*\u001b[39m\u001b[38;5;241m*\u001b[39mkwargs)\n\u001b[1;32m    362\u001b[0m     \u001b[38;5;28;01melse\u001b[39;00m:\n\u001b[0;32m--> 363\u001b[0m         applied \u001b[38;5;241m=\u001b[39m \u001b[38;5;28;43mgetattr\u001b[39;49m\u001b[43m(\u001b[49m\u001b[43mb\u001b[49m\u001b[43m,\u001b[49m\u001b[43m \u001b[49m\u001b[43mf\u001b[49m\u001b[43m)\u001b[49m\u001b[43m(\u001b[49m\u001b[38;5;241;43m*\u001b[39;49m\u001b[38;5;241;43m*\u001b[39;49m\u001b[43mkwargs\u001b[49m\u001b[43m)\u001b[49m\n\u001b[1;32m    364\u001b[0m     result_blocks \u001b[38;5;241m=\u001b[39m extend_blocks(applied, result_blocks)\n\u001b[1;32m    366\u001b[0m out \u001b[38;5;241m=\u001b[39m \u001b[38;5;28mtype\u001b[39m(\u001b[38;5;28mself\u001b[39m)\u001b[38;5;241m.\u001b[39mfrom_blocks(result_blocks, \u001b[38;5;28mself\u001b[39m\u001b[38;5;241m.\u001b[39maxes)\n",
      "File \u001b[0;32m~/Documents/GitHub/DEDS_Portfolio/.venv/lib/python3.13/site-packages/pandas/core/internals/blocks.py:758\u001b[0m, in \u001b[0;36mBlock.astype\u001b[0;34m(self, dtype, copy, errors, using_cow, squeeze)\u001b[0m\n\u001b[1;32m    755\u001b[0m         \u001b[38;5;28;01mraise\u001b[39;00m \u001b[38;5;167;01mValueError\u001b[39;00m(\u001b[38;5;124m\"\u001b[39m\u001b[38;5;124mCan not squeeze with more than one column.\u001b[39m\u001b[38;5;124m\"\u001b[39m)\n\u001b[1;32m    756\u001b[0m     values \u001b[38;5;241m=\u001b[39m values[\u001b[38;5;241m0\u001b[39m, :]  \u001b[38;5;66;03m# type: ignore[call-overload]\u001b[39;00m\n\u001b[0;32m--> 758\u001b[0m new_values \u001b[38;5;241m=\u001b[39m \u001b[43mastype_array_safe\u001b[49m\u001b[43m(\u001b[49m\u001b[43mvalues\u001b[49m\u001b[43m,\u001b[49m\u001b[43m \u001b[49m\u001b[43mdtype\u001b[49m\u001b[43m,\u001b[49m\u001b[43m \u001b[49m\u001b[43mcopy\u001b[49m\u001b[38;5;241;43m=\u001b[39;49m\u001b[43mcopy\u001b[49m\u001b[43m,\u001b[49m\u001b[43m \u001b[49m\u001b[43merrors\u001b[49m\u001b[38;5;241;43m=\u001b[39;49m\u001b[43merrors\u001b[49m\u001b[43m)\u001b[49m\n\u001b[1;32m    760\u001b[0m new_values \u001b[38;5;241m=\u001b[39m maybe_coerce_values(new_values)\n\u001b[1;32m    762\u001b[0m refs \u001b[38;5;241m=\u001b[39m \u001b[38;5;28;01mNone\u001b[39;00m\n",
      "File \u001b[0;32m~/Documents/GitHub/DEDS_Portfolio/.venv/lib/python3.13/site-packages/pandas/core/dtypes/astype.py:237\u001b[0m, in \u001b[0;36mastype_array_safe\u001b[0;34m(values, dtype, copy, errors)\u001b[0m\n\u001b[1;32m    234\u001b[0m     dtype \u001b[38;5;241m=\u001b[39m dtype\u001b[38;5;241m.\u001b[39mnumpy_dtype\n\u001b[1;32m    236\u001b[0m \u001b[38;5;28;01mtry\u001b[39;00m:\n\u001b[0;32m--> 237\u001b[0m     new_values \u001b[38;5;241m=\u001b[39m \u001b[43mastype_array\u001b[49m\u001b[43m(\u001b[49m\u001b[43mvalues\u001b[49m\u001b[43m,\u001b[49m\u001b[43m \u001b[49m\u001b[43mdtype\u001b[49m\u001b[43m,\u001b[49m\u001b[43m \u001b[49m\u001b[43mcopy\u001b[49m\u001b[38;5;241;43m=\u001b[39;49m\u001b[43mcopy\u001b[49m\u001b[43m)\u001b[49m\n\u001b[1;32m    238\u001b[0m \u001b[38;5;28;01mexcept\u001b[39;00m (\u001b[38;5;167;01mValueError\u001b[39;00m, \u001b[38;5;167;01mTypeError\u001b[39;00m):\n\u001b[1;32m    239\u001b[0m     \u001b[38;5;66;03m# e.g. _astype_nansafe can fail on object-dtype of strings\u001b[39;00m\n\u001b[1;32m    240\u001b[0m     \u001b[38;5;66;03m#  trying to convert to float\u001b[39;00m\n\u001b[1;32m    241\u001b[0m     \u001b[38;5;28;01mif\u001b[39;00m errors \u001b[38;5;241m==\u001b[39m \u001b[38;5;124m\"\u001b[39m\u001b[38;5;124mignore\u001b[39m\u001b[38;5;124m\"\u001b[39m:\n",
      "File \u001b[0;32m~/Documents/GitHub/DEDS_Portfolio/.venv/lib/python3.13/site-packages/pandas/core/dtypes/astype.py:182\u001b[0m, in \u001b[0;36mastype_array\u001b[0;34m(values, dtype, copy)\u001b[0m\n\u001b[1;32m    179\u001b[0m     values \u001b[38;5;241m=\u001b[39m values\u001b[38;5;241m.\u001b[39mastype(dtype, copy\u001b[38;5;241m=\u001b[39mcopy)\n\u001b[1;32m    181\u001b[0m \u001b[38;5;28;01melse\u001b[39;00m:\n\u001b[0;32m--> 182\u001b[0m     values \u001b[38;5;241m=\u001b[39m \u001b[43m_astype_nansafe\u001b[49m\u001b[43m(\u001b[49m\u001b[43mvalues\u001b[49m\u001b[43m,\u001b[49m\u001b[43m \u001b[49m\u001b[43mdtype\u001b[49m\u001b[43m,\u001b[49m\u001b[43m \u001b[49m\u001b[43mcopy\u001b[49m\u001b[38;5;241;43m=\u001b[39;49m\u001b[43mcopy\u001b[49m\u001b[43m)\u001b[49m\n\u001b[1;32m    184\u001b[0m \u001b[38;5;66;03m# in pandas we don't store numpy str dtypes, so convert to object\u001b[39;00m\n\u001b[1;32m    185\u001b[0m \u001b[38;5;28;01mif\u001b[39;00m \u001b[38;5;28misinstance\u001b[39m(dtype, np\u001b[38;5;241m.\u001b[39mdtype) \u001b[38;5;129;01mand\u001b[39;00m \u001b[38;5;28missubclass\u001b[39m(values\u001b[38;5;241m.\u001b[39mdtype\u001b[38;5;241m.\u001b[39mtype, \u001b[38;5;28mstr\u001b[39m):\n",
      "File \u001b[0;32m~/Documents/GitHub/DEDS_Portfolio/.venv/lib/python3.13/site-packages/pandas/core/dtypes/astype.py:101\u001b[0m, in \u001b[0;36m_astype_nansafe\u001b[0;34m(arr, dtype, copy, skipna)\u001b[0m\n\u001b[1;32m     96\u001b[0m     \u001b[38;5;28;01mreturn\u001b[39;00m lib\u001b[38;5;241m.\u001b[39mensure_string_array(\n\u001b[1;32m     97\u001b[0m         arr, skipna\u001b[38;5;241m=\u001b[39mskipna, convert_na_value\u001b[38;5;241m=\u001b[39m\u001b[38;5;28;01mFalse\u001b[39;00m\n\u001b[1;32m     98\u001b[0m     )\u001b[38;5;241m.\u001b[39mreshape(shape)\n\u001b[1;32m    100\u001b[0m \u001b[38;5;28;01melif\u001b[39;00m np\u001b[38;5;241m.\u001b[39missubdtype(arr\u001b[38;5;241m.\u001b[39mdtype, np\u001b[38;5;241m.\u001b[39mfloating) \u001b[38;5;129;01mand\u001b[39;00m dtype\u001b[38;5;241m.\u001b[39mkind \u001b[38;5;129;01min\u001b[39;00m \u001b[38;5;124m\"\u001b[39m\u001b[38;5;124miu\u001b[39m\u001b[38;5;124m\"\u001b[39m:\n\u001b[0;32m--> 101\u001b[0m     \u001b[38;5;28;01mreturn\u001b[39;00m \u001b[43m_astype_float_to_int_nansafe\u001b[49m\u001b[43m(\u001b[49m\u001b[43marr\u001b[49m\u001b[43m,\u001b[49m\u001b[43m \u001b[49m\u001b[43mdtype\u001b[49m\u001b[43m,\u001b[49m\u001b[43m \u001b[49m\u001b[43mcopy\u001b[49m\u001b[43m)\u001b[49m\n\u001b[1;32m    103\u001b[0m \u001b[38;5;28;01melif\u001b[39;00m arr\u001b[38;5;241m.\u001b[39mdtype \u001b[38;5;241m==\u001b[39m \u001b[38;5;28mobject\u001b[39m:\n\u001b[1;32m    104\u001b[0m     \u001b[38;5;66;03m# if we have a datetime/timedelta array of objects\u001b[39;00m\n\u001b[1;32m    105\u001b[0m     \u001b[38;5;66;03m# then coerce to datetime64[ns] and use DatetimeArray.astype\u001b[39;00m\n\u001b[1;32m    107\u001b[0m     \u001b[38;5;28;01mif\u001b[39;00m lib\u001b[38;5;241m.\u001b[39mis_np_dtype(dtype, \u001b[38;5;124m\"\u001b[39m\u001b[38;5;124mM\u001b[39m\u001b[38;5;124m\"\u001b[39m):\n",
      "File \u001b[0;32m~/Documents/GitHub/DEDS_Portfolio/.venv/lib/python3.13/site-packages/pandas/core/dtypes/astype.py:145\u001b[0m, in \u001b[0;36m_astype_float_to_int_nansafe\u001b[0;34m(values, dtype, copy)\u001b[0m\n\u001b[1;32m    141\u001b[0m \u001b[38;5;250m\u001b[39m\u001b[38;5;124;03m\"\"\"\u001b[39;00m\n\u001b[1;32m    142\u001b[0m \u001b[38;5;124;03mastype with a check preventing converting NaN to an meaningless integer value.\u001b[39;00m\n\u001b[1;32m    143\u001b[0m \u001b[38;5;124;03m\"\"\"\u001b[39;00m\n\u001b[1;32m    144\u001b[0m \u001b[38;5;28;01mif\u001b[39;00m \u001b[38;5;129;01mnot\u001b[39;00m np\u001b[38;5;241m.\u001b[39misfinite(values)\u001b[38;5;241m.\u001b[39mall():\n\u001b[0;32m--> 145\u001b[0m     \u001b[38;5;28;01mraise\u001b[39;00m IntCastingNaNError(\n\u001b[1;32m    146\u001b[0m         \u001b[38;5;124m\"\u001b[39m\u001b[38;5;124mCannot convert non-finite values (NA or inf) to integer\u001b[39m\u001b[38;5;124m\"\u001b[39m\n\u001b[1;32m    147\u001b[0m     )\n\u001b[1;32m    148\u001b[0m \u001b[38;5;28;01mif\u001b[39;00m dtype\u001b[38;5;241m.\u001b[39mkind \u001b[38;5;241m==\u001b[39m \u001b[38;5;124m\"\u001b[39m\u001b[38;5;124mu\u001b[39m\u001b[38;5;124m\"\u001b[39m:\n\u001b[1;32m    149\u001b[0m     \u001b[38;5;66;03m# GH#45151\u001b[39;00m\n\u001b[1;32m    150\u001b[0m     \u001b[38;5;28;01mif\u001b[39;00m \u001b[38;5;129;01mnot\u001b[39;00m (values \u001b[38;5;241m>\u001b[39m\u001b[38;5;241m=\u001b[39m \u001b[38;5;241m0\u001b[39m)\u001b[38;5;241m.\u001b[39mall():\n",
      "\u001b[0;31mIntCastingNaNError\u001b[0m: Cannot convert non-finite values (NA or inf) to integer"
     ]
    }
   ],
   "source": [
    "sales_staff['EXTENSION'] = sales_staff['EXTENSION'].astype(int)\n",
    "sales_staff.dtypes"
   ]
  },
  {
   "cell_type": "markdown",
   "metadata": {},
   "source": [
    "Dit lukt echter niet, omdat er in de kolom 'EXTENSION' lege waarden zitten die niet geconverteerd kunnen worden naar een int.<br>\n",
    "Wél kan je deze naar een float converteren, zie onderstaande code:"
   ]
  },
  {
   "cell_type": "code",
   "execution_count": 107,
   "metadata": {},
   "outputs": [
    {
     "data": {
      "text/plain": [
       "SALES_STAFF_CODE              int64\n",
       "FIRST_NAME                   object\n",
       "LAST_NAME                    object\n",
       "POSITION                     object\n",
       "WORK_PHONE                   object\n",
       "EXTENSION                   float64\n",
       "FAX                          object\n",
       "EMAIL                        object\n",
       "DATE_HIRED           datetime64[ns]\n",
       "SALES_BRANCH_CODE             int64\n",
       "FULL_NAME                    object\n",
       "dtype: object"
      ]
     },
     "execution_count": 107,
     "metadata": {},
     "output_type": "execute_result"
    }
   ],
   "source": [
    "sales_staff['EXTENSION'] = sales_staff['EXTENSION'].astype(float)\n",
    "sales_staff.dtypes"
   ]
  },
  {
   "cell_type": "markdown",
   "metadata": {},
   "source": [
    "Als we in de rij van 'EXTENSION' kijken zien we dat de conversie van het datatype nu is gelukt.<br>\n",
    "Dit is <b>randvoorwaardelijk</b> voor het uitvoeren van wiskundige operaties.<br>"
   ]
  },
  {
   "cell_type": "markdown",
   "metadata": {},
   "source": [
    "### Rijen"
   ]
  },
  {
   "cell_type": "markdown",
   "metadata": {},
   "source": [
    "Zorg er nu voor dat bij alle extensions 1 wordt opgeteld."
   ]
  },
  {
   "cell_type": "code",
   "execution_count": 108,
   "metadata": {},
   "outputs": [],
   "source": [
    "cursor.execute(\"UPDATE sales_staff SET EXTENSION = EXTENSION + 1\")\n",
    "\n",
    "conn.commit()"
   ]
  },
  {
   "cell_type": "markdown",
   "metadata": {},
   "source": [
    "Elke 'Branch Manager' wordt nu 'General Manager'. Schrijf code zodat deze wijziging doorgevoerd wordt in het DataFrame."
   ]
  },
  {
   "cell_type": "code",
   "execution_count": 109,
   "metadata": {},
   "outputs": [
    {
     "ename": "OperationalError",
     "evalue": "no such column: POSITION_EN",
     "output_type": "error",
     "traceback": [
      "\u001b[0;31m---------------------------------------------------------------------------\u001b[0m",
      "\u001b[0;31mOperationalError\u001b[0m                          Traceback (most recent call last)",
      "Cell \u001b[0;32mIn[109], line 1\u001b[0m\n\u001b[0;32m----> 1\u001b[0m \u001b[43mcursor\u001b[49m\u001b[38;5;241;43m.\u001b[39;49m\u001b[43mexecute\u001b[49m\u001b[43m(\u001b[49m\u001b[38;5;124;43m\"\u001b[39;49m\u001b[38;5;124;43mUPDATE sales_staff SET POSITION_EN = \u001b[39;49m\u001b[38;5;124;43m'\u001b[39;49m\u001b[38;5;124;43mGeneral Manager\u001b[39;49m\u001b[38;5;124;43m'\u001b[39;49m\u001b[38;5;124;43m WHERE POSITION_EN = \u001b[39;49m\u001b[38;5;124;43m'\u001b[39;49m\u001b[38;5;124;43mBranch Manager\u001b[39;49m\u001b[38;5;124;43m'\u001b[39;49m\u001b[38;5;124;43m \u001b[39;49m\u001b[38;5;124;43m\"\u001b[39;49m\u001b[43m)\u001b[49m\n\u001b[1;32m      3\u001b[0m conn\u001b[38;5;241m.\u001b[39mcommit()\n",
      "\u001b[0;31mOperationalError\u001b[0m: no such column: POSITION_EN"
     ]
    }
   ],
   "source": [
    "cursor.execute(\"UPDATE sales_staff SET POSITION_EN = 'General Manager' WHERE POSITION_EN = 'Branch Manager' \")\n",
    "\n",
    "conn.commit()"
   ]
  },
  {
   "cell_type": "markdown",
   "metadata": {},
   "source": [
    "### Kolommen"
   ]
  },
  {
   "cell_type": "markdown",
   "metadata": {},
   "source": [
    "Verander de kolomnaam 'POSITION_EN' naar 'POSITION'."
   ]
  },
  {
   "cell_type": "code",
   "execution_count": 110,
   "metadata": {},
   "outputs": [
    {
     "ename": "OperationalError",
     "evalue": "no such column: \"POSITION_EN\"",
     "output_type": "error",
     "traceback": [
      "\u001b[0;31m---------------------------------------------------------------------------\u001b[0m",
      "\u001b[0;31mOperationalError\u001b[0m                          Traceback (most recent call last)",
      "Cell \u001b[0;32mIn[110], line 1\u001b[0m\n\u001b[0;32m----> 1\u001b[0m \u001b[43mcursor\u001b[49m\u001b[38;5;241;43m.\u001b[39;49m\u001b[43mexecute\u001b[49m\u001b[43m(\u001b[49m\u001b[38;5;124;43m\"\u001b[39;49m\u001b[38;5;124;43mALTER TABLE sales_staff RENAME COLUMN POSITION_EN TO POSITION\u001b[39;49m\u001b[38;5;124;43m\"\u001b[39;49m\u001b[43m)\u001b[49m\n\u001b[1;32m      2\u001b[0m conn\u001b[38;5;241m.\u001b[39mcommit()\n",
      "\u001b[0;31mOperationalError\u001b[0m: no such column: \"POSITION_EN\""
     ]
    }
   ],
   "source": [
    "cursor.execute(\"ALTER TABLE sales_staff RENAME COLUMN POSITION_EN TO POSITION\")\n",
    "conn.commit()"
   ]
  },
  {
   "cell_type": "markdown",
   "metadata": {},
   "source": [
    "## Data verwijderen"
   ]
  },
  {
   "cell_type": "markdown",
   "metadata": {},
   "source": [
    "### Rijen"
   ]
  },
  {
   "cell_type": "markdown",
   "metadata": {},
   "source": [
    "De medewerkers op indexen 99, 100 en 101 hebben helaas ontslag genomen.<br>\n",
    "Verwijder de bijbehorende rijen uit het DataFrame. Gebruik slechts één keer de .drop()-methode."
   ]
  },
  {
   "cell_type": "code",
   "execution_count": 111,
   "metadata": {},
   "outputs": [
    {
     "name": "stdout",
     "output_type": "stream",
     "text": [
      "RangeIndex(start=0, stop=104, step=1)\n"
     ]
    }
   ],
   "source": [
    "#sales_staff = sales_staff.drop([99,100,101])\n",
    "\n",
    "conn.commit()\n",
    "\n",
    "print(sales_staff.index)\n"
   ]
  },
  {
   "cell_type": "markdown",
   "metadata": {},
   "source": [
    "### Kolommen"
   ]
  },
  {
   "cell_type": "markdown",
   "metadata": {},
   "source": [
    "Faxen zijn inmiddels ouderwets: niemand gebruikt zijn/haar faxnummer nog.<br>\n",
    "Verwijder de bijbehorende kolom uit het DataFrame."
   ]
  },
  {
   "cell_type": "code",
   "execution_count": 112,
   "metadata": {},
   "outputs": [
    {
     "name": "stdout",
     "output_type": "stream",
     "text": [
      "     SALES_STAFF_CODE FIRST_NAME  LAST_NAME                      POSITION  \\\n",
      "0                   4      Denis       Pagé               General Manager   \n",
      "1                   5  Élizabeth     Michel  Level 3 Sales Representative   \n",
      "2                   6      Émile   Clermont  Level 1 Sales Representative   \n",
      "3                   7    Étienne     Jauvin  Level 2 Sales Representative   \n",
      "4                  12    Elsbeth  Wiesinger  Level 2 Sales Representative   \n",
      "..                ...        ...        ...                           ...   \n",
      "99                122     Yvette    Lattrez  Level 3 Sales Representative   \n",
      "100               123      Willi  Seefelder  Level 2 Sales Representative   \n",
      "101               124     Sabine     Grüner  Level 3 Sales Representative   \n",
      "102               420        Sam     Stille                           CEO   \n",
      "103               420        Sam     Stille                           CEO   \n",
      "\n",
      "            WORK_PHONE  EXTENSION                FAX                   EMAIL  \\\n",
      "0    +33 1 68 94 52 20      326.0  +33 1 68 94 56 60       DPage@grtd123.com   \n",
      "1    +33 1 68 94 52 20      337.0  +33 1 68 94 56 60     EMichel@grtd123.com   \n",
      "2    +33 1 68 94 52 20      379.0  +33 1 68 94 56 60   EClermont@grtd123.com   \n",
      "3    +33 1 68 94 52 20      399.0  +33 1 68 94 56 60     EJauvin@grtd123.com   \n",
      "4    +(49) 40 663 1990     1819.0  +(49) 40 663 4571  EWiesinger@grtd123.com   \n",
      "..                 ...        ...                ...                     ...   \n",
      "99     +32 16 20.73.21     1634.0    +32 16 20.73.32    YLattrez@grtd123.com   \n",
      "100  +(43) 13 79 56 32      326.0  +(43) 13 79 56 33  WSeefelder@grtd123.com   \n",
      "101  +(43) 13 79 56 32      349.0  +(43) 13 79 56 33     SGruner@grtd123.com   \n",
      "102          316123456     1993.0          316123456   samstille2712Yahoo.nl   \n",
      "103          316123456     1993.0          316123456   samstille2712Yahoo.nl   \n",
      "\n",
      "    DATE_HIRED  SALES_BRANCH_CODE          FULL_NAME  \n",
      "0   1996-11-03                  6         Denis Pagé  \n",
      "1   1995-06-08                  6   Élizabeth Michel  \n",
      "2   1998-04-07                  6     Émile Clermont  \n",
      "3   1997-08-16                  6     Étienne Jauvin  \n",
      "4   1997-02-27                 13  Elsbeth Wiesinger  \n",
      "..         ...                ...                ...  \n",
      "99  1999-12-09                 38     Yvette Lattrez  \n",
      "100 1998-10-28                 39    Willi Seefelder  \n",
      "101 1998-02-18                 39      Sabine Grüner  \n",
      "102 2002-12-27                  1         Sam Stille  \n",
      "103 2002-12-27                  1         Sam Stille  \n",
      "\n",
      "[104 rows x 11 columns]\n"
     ]
    }
   ],
   "source": [
    "#sales_staff = sales_staff.drop('FAX',axis=1)\n",
    "\n",
    "print(sales_staff)"
   ]
  }
 ],
 "metadata": {
  "kernelspec": {
   "display_name": ".venv",
   "language": "python",
   "name": "python3"
  },
  "language_info": {
   "codemirror_mode": {
    "name": "ipython",
    "version": 3
   },
   "file_extension": ".py",
   "mimetype": "text/x-python",
   "name": "python",
   "nbconvert_exporter": "python",
   "pygments_lexer": "ipython3",
   "version": "3.13.2"
  }
 },
 "nbformat": 4,
 "nbformat_minor": 2
}
