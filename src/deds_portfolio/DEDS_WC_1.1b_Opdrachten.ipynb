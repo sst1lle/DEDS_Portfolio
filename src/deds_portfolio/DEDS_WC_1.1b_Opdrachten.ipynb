{
 "cells": [
  {
   "cell_type": "markdown",
   "metadata": {},
   "source": [
    "# Werkcollege-opdrachten Week 1.2"
   ]
  },
  {
   "cell_type": "markdown",
   "metadata": {},
   "source": [
    "## Voorbereiding"
   ]
  },
  {
   "cell_type": "markdown",
   "metadata": {},
   "source": [
    "Importeer in het codeblok hieronder de packages die worden gebruikt om data in te lezen. Geef er ook de gebruikelijke aliassen aan.<br>\n",
    "N.B.: de 2 reeds geschreven coderegels zorgen ervoor dat eventuele warnings, die code-outputs lelijker maken, uitgezet worden."
   ]
  },
  {
   "cell_type": "code",
   "execution_count": 96,
   "metadata": {},
   "outputs": [],
   "source": [
    "import pandas \n",
    "import sqlite3\n",
    "import warnings\n",
    "warnings.simplefilter('ignore')"
   ]
  },
  {
   "cell_type": "markdown",
   "metadata": {},
   "source": [
    "Zet de volgende bestanden in een makkelijk terug te vinden map:\n",
    "- go_sales_train.sqlite\n",
    "- go_crm_train.sqlite\n",
    "- go_staff_train.sqlite"
   ]
  },
  {
   "cell_type": "markdown",
   "metadata": {},
   "source": [
    "Bestudeer de bovenste 3 bestanden in DB Browser (SQLite), <a href=\"https://sqlitebrowser.org/dl/\">hier</a> te downloaden. Wat valt je op qua datatypen?<br>"
   ]
  },
  {
   "cell_type": "markdown",
   "metadata": {},
   "source": [
    "## Databasetabel inlezen"
   ]
  },
  {
   "cell_type": "markdown",
   "metadata": {},
   "source": [
    "Creëer een databaseconnectie met het bestand go_sales_train.sqlite."
   ]
  },
  {
   "cell_type": "code",
   "execution_count": 97,
   "metadata": {},
   "outputs": [
    {
     "name": "stdout",
     "output_type": "stream",
     "text": [
      "SQLite3 Connection:  <sqlite3.Connection object at 0x14b4e3d30>\n"
     ]
    }
   ],
   "source": [
    "conn = sqlite3.connect('sql/go_sales_train.sqlite')\n",
    "\n",
    "print(\"SQLite3 Connection: \",conn)"
   ]
  },
  {
   "cell_type": "markdown",
   "metadata": {},
   "source": [
    "<b>Let goed op:</b><br>\n",
    "Als je per ongeluk een verkeerde bestandsnaam ingeeft, maakt Python zélf een leeg databasebestand aan! Er ontstaat dan dus een nieuwe .sqlite, en dat is nadrukkelijk <u>niet de bedoeling.</u>"
   ]
  },
  {
   "cell_type": "markdown",
   "metadata": {},
   "source": [
    "Gebruik de onderstaande sql_query om te achterhalen welke databasetabellen in go_sales_train zitten."
   ]
  },
  {
   "cell_type": "code",
   "execution_count": 98,
   "metadata": {},
   "outputs": [
    {
     "name": "stdout",
     "output_type": "stream",
     "text": [
      "De tabellen uit de database: \n",
      "country\n",
      "order_details\n",
      "order_header\n",
      "order_method\n",
      "product\n",
      "product_line\n",
      "product_type\n",
      "retailer_site\n",
      "return_reason\n",
      "returned_item\n",
      "sales_branch\n",
      "sales_staff\n"
     ]
    }
   ],
   "source": [
    "import os\n",
    "\n",
    "db_path = os.path.abspath(\"sql/go_sales_train.sqlite\")\n",
    "\n",
    "sql_query = \"SELECT name FROM sqlite_master WHERE type='table';\"\n",
    "conn = sqlite3.connect(db_path)\n",
    "\n",
    "#Vul dit codeblok verder in\n",
    "cursor = conn.cursor()\n",
    "cursor.execute(sql_query)\n",
    "\n",
    "tables = cursor.fetchall()\n",
    "\n",
    "\n",
    "print('De tabellen uit de database: ')\n",
    "for table in tables:\n",
    "    print(table[0])\n",
    "\n"
   ]
  },
  {
   "cell_type": "markdown",
   "metadata": {},
   "source": [
    "Krijg je lege output? Dan heb je per ongeluk een leeg  databasebestand (.sqlite) aangemaakt.<br>\n",
    "Lees de informatie onder het kopje <u>Let goed op:</u> hierboven nog eens goed door."
   ]
  },
  {
   "cell_type": "markdown",
   "metadata": {},
   "source": [
    "Gebruik de gecreëerde databaseconnectie om de resultaten van de volgende query in een DataFrame te zetten:<br>\n",
    "*SELECT * FROM sales_staff* "
   ]
  },
  {
   "cell_type": "code",
   "execution_count": 99,
   "metadata": {},
   "outputs": [
    {
     "name": "stdout",
     "output_type": "stream",
     "text": [
      "   SALES_STAFF_CODE FIRST_NAME  LAST_NAME                   POSITION_EN  \\\n",
      "0                 4      Denis       Pagé                Branch Manager   \n",
      "1                 5  Élizabeth     Michel  Level 3 Sales Representative   \n",
      "2                 6      Émile   Clermont  Level 1 Sales Representative   \n",
      "3                 7    Étienne     Jauvin  Level 2 Sales Representative   \n",
      "4                12    Elsbeth  Wiesinger  Level 2 Sales Representative   \n",
      "\n",
      "          WORK_PHONE  EXTENSION                FAX                   EMAIL  \\\n",
      "0  +33 1 68 94 52 20      325.0  +33 1 68 94 56 60       DPage@grtd123.com   \n",
      "1  +33 1 68 94 52 20      336.0  +33 1 68 94 56 60     EMichel@grtd123.com   \n",
      "2  +33 1 68 94 52 20      378.0  +33 1 68 94 56 60   EClermont@grtd123.com   \n",
      "3  +33 1 68 94 52 20      398.0  +33 1 68 94 56 60     EJauvin@grtd123.com   \n",
      "4  +(49) 40 663 1990     1818.0  +(49) 40 663 4571  EWiesinger@grtd123.com   \n",
      "\n",
      "   DATE_HIRED  SALES_BRANCH_CODE  \n",
      "0  1996-11-03                  6  \n",
      "1  1995-06-08                  6  \n",
      "2  1998-04-07                  6  \n",
      "3  1997-08-16                  6  \n",
      "4  1997-02-27                 13  \n"
     ]
    }
   ],
   "source": [
    "\n",
    "dataframe = pandas.read_sql_query('SELECT * FROM sales_staff',conn)\n",
    "\n",
    "print(dataframe.head())"
   ]
  },
  {
   "cell_type": "markdown",
   "metadata": {},
   "source": [
    "## Datumkolommen"
   ]
  },
  {
   "cell_type": "markdown",
   "metadata": {},
   "source": [
    "Zoals je misschien al hebt gezien in DB Browser, zijn datums als TEXT opgeslagen, en niet als DATE, DATETIME o.i.d. Hier moeten we dus nog even \"typische datumkolommen\" van maken. Dat doen we met de volgende code:"
   ]
  },
  {
   "cell_type": "code",
   "execution_count": 100,
   "metadata": {},
   "outputs": [
    {
     "name": "stdout",
     "output_type": "stream",
     "text": [
      "SALES_STAFF_CODE              int64\n",
      "FIRST_NAME                   object\n",
      "LAST_NAME                    object\n",
      "POSITION_EN                  object\n",
      "WORK_PHONE                   object\n",
      "EXTENSION                   float64\n",
      "FAX                          object\n",
      "EMAIL                        object\n",
      "DATE_HIRED           datetime64[ns]\n",
      "SALES_BRANCH_CODE             int64\n",
      "dtype: object\n"
     ]
    }
   ],
   "source": [
    "sales_staff = pandas.read_sql('SELECT * FROM sales_staff',conn)\n",
    "sales_staff['DATE_HIRED'] = pandas.to_datetime(sales_staff['DATE_HIRED'])\n",
    "print(sales_staff.dtypes)\n"
   ]
  },
  {
   "cell_type": "markdown",
   "metadata": {},
   "source": [
    "Als we hier het jaar uit willen halen, schrijven we:"
   ]
  },
  {
   "cell_type": "code",
   "execution_count": 101,
   "metadata": {},
   "outputs": [
    {
     "data": {
      "text/plain": [
       "Index([1996, 1995, 1998, 1997, 1997, 1999, 1997, 1998, 1996, 1996,\n",
       "       ...\n",
       "       1998, 2000, 1999, 2000, 1999, 1999, 1999, 1999, 1998, 1998],\n",
       "      dtype='int32', name='DATE_HIRED', length=102)"
      ]
     },
     "execution_count": 101,
     "metadata": {},
     "output_type": "execute_result"
    }
   ],
   "source": [
    "pandas.DatetimeIndex(sales_staff['DATE_HIRED']).year\n"
   ]
  },
  {
   "cell_type": "markdown",
   "metadata": {},
   "source": [
    "Deze zelfde syntax is te gebruiken voor het extraheren van kwartalen, maanden, weken en dagen. Probeer het maar eens!"
   ]
  },
  {
   "cell_type": "markdown",
   "metadata": {},
   "source": [
    "## DataFrames uitsplitsen en opbouwen met Series"
   ]
  },
  {
   "cell_type": "markdown",
   "metadata": {},
   "source": [
    "De volgende 5 kolommen hebben betrekking op de contactdetails van elke medewerker in dit DataFrame:\n",
    "- SALES_STAFF_CODE\n",
    "- WORK_PHONE\n",
    "- EXTENSION\n",
    "- FAX\n",
    "- EMAIL\n",
    "\n",
    "Maak van elk van deze 5 kolommen een serie."
   ]
  },
  {
   "cell_type": "code",
   "execution_count": 102,
   "metadata": {},
   "outputs": [
    {
     "name": "stdout",
     "output_type": "stream",
     "text": [
      "0        4\n",
      "1        5\n",
      "2        6\n",
      "3        7\n",
      "4       12\n",
      "      ... \n",
      "97     120\n",
      "98     121\n",
      "99     122\n",
      "100    123\n",
      "101    124\n",
      "Name: SALES_STAFF_CODE, Length: 102, dtype: int64\n"
     ]
    }
   ],
   "source": [
    "sales_staff_code = sales_staff['SALES_STAFF_CODE']\n",
    "work_phone = sales_staff['WORK_PHONE']\n",
    "extension = sales_staff['EXTENSION']\n",
    "fax = sales_staff['FAX']\n",
    "email= sales_staff['EMAIL']\n",
    "\n",
    "print(sales_staff_code)\n"
   ]
  },
  {
   "cell_type": "markdown",
   "metadata": {},
   "source": [
    "Zet allevijf gecreëerde series als kolommen naast elkaar in een DataFrame (*contact_details*). Gebruik pd.concat(...)<br>\n",
    "Hulpvraag: welke waarde geef je aan de axis-parameter?"
   ]
  },
  {
   "cell_type": "code",
   "execution_count": 103,
   "metadata": {},
   "outputs": [
    {
     "name": "stdout",
     "output_type": "stream",
     "text": [
      "     SALES_STAFF_CODE         WORK_PHONE  EXTENSION                FAX  \\\n",
      "0                   4  +33 1 68 94 52 20      325.0  +33 1 68 94 56 60   \n",
      "1                   5  +33 1 68 94 52 20      336.0  +33 1 68 94 56 60   \n",
      "2                   6  +33 1 68 94 52 20      378.0  +33 1 68 94 56 60   \n",
      "3                   7  +33 1 68 94 52 20      398.0  +33 1 68 94 56 60   \n",
      "4                  12  +(49) 40 663 1990     1818.0  +(49) 40 663 4571   \n",
      "..                ...                ...        ...                ...   \n",
      "97                120    +32 16 20.73.21     1340.0    +32 16 20.73.32   \n",
      "98                121    +32 16 20.73.21     1642.0    +32 16 20.73.32   \n",
      "99                122    +32 16 20.73.21     1633.0    +32 16 20.73.32   \n",
      "100               123  +(43) 13 79 56 32      325.0  +(43) 13 79 56 33   \n",
      "101               124  +(43) 13 79 56 32      348.0  +(43) 13 79 56 33   \n",
      "\n",
      "                      EMAIL  \n",
      "0         DPage@grtd123.com  \n",
      "1       EMichel@grtd123.com  \n",
      "2     EClermont@grtd123.com  \n",
      "3       EJauvin@grtd123.com  \n",
      "4    EWiesinger@grtd123.com  \n",
      "..                      ...  \n",
      "97    GLaermans@grtd123.com  \n",
      "98      FDecree@grtd123.com  \n",
      "99     YLattrez@grtd123.com  \n",
      "100  WSeefelder@grtd123.com  \n",
      "101     SGruner@grtd123.com  \n",
      "\n",
      "[102 rows x 5 columns]\n"
     ]
    }
   ],
   "source": [
    "contact_details = pandas.concat([sales_staff_code,work_phone,extension,fax,email],axis=1)\n",
    "\n",
    "print(contact_details)"
   ]
  },
  {
   "cell_type": "markdown",
   "metadata": {},
   "source": [
    "## Series en DataFrames maken vanuit lists en dictionaries"
   ]
  },
  {
   "cell_type": "markdown",
   "metadata": {},
   "source": [
    "Met .head(*getal*) kan je de bovenste *getal* rijen van een tabel selecteren.<br>\n",
    "Selecteer op deze manier de bovenste 5 rijen van *contact_details*.<br>\n",
    "Sla dit resultaat op in een nieuw DataFrame."
   ]
  },
  {
   "cell_type": "code",
   "execution_count": 104,
   "metadata": {},
   "outputs": [
    {
     "name": "stdout",
     "output_type": "stream",
     "text": [
      "   SALES_STAFF_CODE         WORK_PHONE  EXTENSION                FAX  \\\n",
      "0                 4  +33 1 68 94 52 20      325.0  +33 1 68 94 56 60   \n",
      "1                 5  +33 1 68 94 52 20      336.0  +33 1 68 94 56 60   \n",
      "2                 6  +33 1 68 94 52 20      378.0  +33 1 68 94 56 60   \n",
      "3                 7  +33 1 68 94 52 20      398.0  +33 1 68 94 56 60   \n",
      "4                12  +(49) 40 663 1990     1818.0  +(49) 40 663 4571   \n",
      "\n",
      "                    EMAIL  \n",
      "0       DPage@grtd123.com  \n",
      "1     EMichel@grtd123.com  \n",
      "2   EClermont@grtd123.com  \n",
      "3     EJauvin@grtd123.com  \n",
      "4  EWiesinger@grtd123.com  \n"
     ]
    }
   ],
   "source": [
    "contact_details_nieuw = contact_details.head(5)\n",
    "\n",
    "print(contact_details_nieuw)"
   ]
  },
  {
   "cell_type": "markdown",
   "metadata": {},
   "source": [
    "Aan deze 10 rijen met contactdetails willen we 3 kolommen toevoegen: 'FIRST_LANGUAGE', 'SECOND_LANGUAGE' & 'THIRD_LANGUAGE'.<br>\n",
    "Iedereens 'First Language' is Engels, afgekort 'EN'. Maak een lijst waarin 5x 'EN' staat.<br>\n",
    "Converteer deze lijst vervolgens naar een serie en voeg deze horizontaal samen met het resultaat van de vorige opdracht.<br>\n",
    "Vergeet niet een passende naam te geven aan de nieuw ontstane kolom."
   ]
  },
  {
   "cell_type": "code",
   "execution_count": 105,
   "metadata": {},
   "outputs": [
    {
     "name": "stdout",
     "output_type": "stream",
     "text": [
      "   SALES_STAFF_CODE         WORK_PHONE  EXTENSION                FAX  \\\n",
      "0                 4  +33 1 68 94 52 20      325.0  +33 1 68 94 56 60   \n",
      "1                 5  +33 1 68 94 52 20      336.0  +33 1 68 94 56 60   \n",
      "2                 6  +33 1 68 94 52 20      378.0  +33 1 68 94 56 60   \n",
      "3                 7  +33 1 68 94 52 20      398.0  +33 1 68 94 56 60   \n",
      "4                12  +(49) 40 663 1990     1818.0  +(49) 40 663 4571   \n",
      "\n",
      "                    EMAIL FIRST_LANGUAGE  \n",
      "0       DPage@grtd123.com             EN  \n",
      "1     EMichel@grtd123.com             EN  \n",
      "2   EClermont@grtd123.com             EN  \n",
      "3     EJauvin@grtd123.com             EN  \n",
      "4  EWiesinger@grtd123.com             EN  \n"
     ]
    }
   ],
   "source": [
    "first_language = ['EN','EN','EN','EN','EN']\n",
    "first_language_df = pandas.DataFrame({'FIRST_LANGUAGE' : first_language})\n",
    "\n",
    "contact_details_nieuw= pandas.concat([sales_staff_code,work_phone,extension,fax,email,first_language_df],axis=1)\n",
    "\n",
    "print(contact_details_nieuw.head(5))\n"
   ]
  },
  {
   "cell_type": "markdown",
   "metadata": {},
   "source": [
    "Maak nu de tweede kolom ('SECOND_LANGUAGE'). Maak daarvoor een dictionary, met daarin...\n",
    "- Als keys: alle indexen uit het resultaat van het vorige codeblok.\n",
    "- Als values: bij de eerste 3 elementen 'FR' (Frankrijk), bij de laatste 2 'DE' (Duitsland).\n",
    "\n",
    "Maak vervolgens ook hier weer een serie van en voeg ook deze weer horizontaal samen met het rsultaat van de vorige opdracht.<br>\n",
    "Vergeet niet een passende naam te geven aan de nieuw ontstane kolom."
   ]
  },
  {
   "cell_type": "code",
   "execution_count": 106,
   "metadata": {},
   "outputs": [
    {
     "name": "stdout",
     "output_type": "stream",
     "text": [
      "   SALES_STAFF_CODE         WORK_PHONE  EXTENSION                FAX  \\\n",
      "0                 4  +33 1 68 94 52 20      325.0  +33 1 68 94 56 60   \n",
      "1                 5  +33 1 68 94 52 20      336.0  +33 1 68 94 56 60   \n",
      "2                 6  +33 1 68 94 52 20      378.0  +33 1 68 94 56 60   \n",
      "3                 7  +33 1 68 94 52 20      398.0  +33 1 68 94 56 60   \n",
      "4                12  +(49) 40 663 1990     1818.0  +(49) 40 663 4571   \n",
      "\n",
      "                    EMAIL FIRST_LANGUAGE SECOND_LANGUAGE  \n",
      "0       DPage@grtd123.com             EN              FR  \n",
      "1     EMichel@grtd123.com             EN              FR  \n",
      "2   EClermont@grtd123.com             EN              FR  \n",
      "3     EJauvin@grtd123.com             EN              DE  \n",
      "4  EWiesinger@grtd123.com             EN              DE  \n"
     ]
    }
   ],
   "source": [
    "second_languages = {\n",
    "    0: 'FR',\n",
    "    1: 'FR',\n",
    "    2: 'FR',\n",
    "    3: 'DE',\n",
    "    4: 'DE'\n",
    "}\n",
    "second_languages_df = pandas.DataFrame.from_dict(second_languages, orient='index',columns=[\"SECOND_LANGUAGE\"])\n",
    "\n",
    "contact_details_nieuw= pandas.concat([sales_staff_code,work_phone,extension,fax,email,first_language_df,second_languages_df],axis=1)\n",
    "print(contact_details_nieuw.head(5))\n",
    "\n"
   ]
  },
  {
   "cell_type": "markdown",
   "metadata": {},
   "source": [
    "Maak ten slotte de derde kolom ('THIRD_LANGUAGE') door een dictionary te maken met daarin...\n",
    "- Als key: de naam van de nieuwe kolom. Zie je het verschil qua keys met de vorige opdracht?\n",
    "- Als waarde: een lijst met daarin 'NL', 'NL', 'JPN', 'JPN', 'KOR'.\n",
    "\n",
    "Converteer deze dictionary nu naar een DataFrame en voeg deze horizontaal samen met het resultaat van de vorige opdracht.<br>\n",
    "Waarom hoef je hierna de nieuw ontstane kolom geen passende naam meer te geven?"
   ]
  },
  {
   "cell_type": "code",
   "execution_count": 107,
   "metadata": {},
   "outputs": [
    {
     "name": "stdout",
     "output_type": "stream",
     "text": [
      "   SALES_STAFF_CODE         WORK_PHONE  EXTENSION                FAX  \\\n",
      "0                 4  +33 1 68 94 52 20      325.0  +33 1 68 94 56 60   \n",
      "1                 5  +33 1 68 94 52 20      336.0  +33 1 68 94 56 60   \n",
      "2                 6  +33 1 68 94 52 20      378.0  +33 1 68 94 56 60   \n",
      "3                 7  +33 1 68 94 52 20      398.0  +33 1 68 94 56 60   \n",
      "4                12  +(49) 40 663 1990     1818.0  +(49) 40 663 4571   \n",
      "\n",
      "                    EMAIL FIRST_LANGUAGE SECOND_LANGUAGE THIRD_LANGUAGE  \n",
      "0       DPage@grtd123.com             EN              FR             NL  \n",
      "1     EMichel@grtd123.com             EN              FR             NL  \n",
      "2   EClermont@grtd123.com             EN              FR            JPN  \n",
      "3     EJauvin@grtd123.com             EN              DE            JPN  \n",
      "4  EWiesinger@grtd123.com             EN              DE            KOR  \n"
     ]
    }
   ],
   "source": [
    "third_language = {\n",
    "    'THIRD_LANGUAGE': ['NL','NL','JPN','JPN','KOR']\n",
    "    \n",
    "}\n",
    "third_language_df = pandas.DataFrame(third_language)\n",
    "\n",
    "contact_details_nieuw= pandas.concat([sales_staff_code,work_phone,extension,fax,email,first_language_df,second_languages_df,third_language_df],axis=1)\n",
    "print(contact_details_nieuw.head(5))\n",
    "\n",
    "#Ik hoef de nieuw ontstande kolom geen naam meer te geven omdat de de key van de dict, de naam wordt denk ik\n"
   ]
  },
  {
   "cell_type": "markdown",
   "metadata": {},
   "source": [
    "## Data toevoegen"
   ]
  },
  {
   "cell_type": "markdown",
   "metadata": {},
   "source": [
    "### Rijen"
   ]
  },
  {
   "cell_type": "markdown",
   "metadata": {},
   "source": [
    "Gebruik de originele databasetabel *sales_staff*.<br>\n",
    "Voeg een extra rij toe met eigen invulling. Zorg ervoor dat de index netjes doorloopt.<br>\n",
    "Hulpvraag: welke waarde geef je nu aan axis?"
   ]
  },
  {
   "cell_type": "code",
   "execution_count": 109,
   "metadata": {},
   "outputs": [
    {
     "ename": "OperationalError",
     "evalue": "database is locked",
     "output_type": "error",
     "traceback": [
      "\u001b[0;31m---------------------------------------------------------------------------\u001b[0m",
      "\u001b[0;31mOperationalError\u001b[0m                          Traceback (most recent call last)",
      "Cell \u001b[0;32mIn[109], line 3\u001b[0m\n\u001b[1;32m      1\u001b[0m nieuwe_rij \u001b[38;5;241m=\u001b[39m (\u001b[38;5;241m420\u001b[39m,\u001b[38;5;124m'\u001b[39m\u001b[38;5;124mSam\u001b[39m\u001b[38;5;124m'\u001b[39m,\u001b[38;5;124m'\u001b[39m\u001b[38;5;124mStille\u001b[39m\u001b[38;5;124m'\u001b[39m,\u001b[38;5;124m'\u001b[39m\u001b[38;5;124mCEO\u001b[39m\u001b[38;5;124m'\u001b[39m,\u001b[38;5;241m316123456\u001b[39m,\u001b[38;5;241m1992\u001b[39m, \u001b[38;5;241m316123456\u001b[39m,\u001b[38;5;124m'\u001b[39m\u001b[38;5;124msamstille2712Yahoo.nl\u001b[39m\u001b[38;5;124m'\u001b[39m,\u001b[38;5;241m2002\u001b[39m\u001b[38;5;241m-\u001b[39m\u001b[38;5;241m12\u001b[39m\u001b[38;5;241m-\u001b[39m\u001b[38;5;241m27\u001b[39m,\u001b[38;5;241m1\u001b[39m)\n\u001b[0;32m----> 3\u001b[0m \u001b[43mcursor\u001b[49m\u001b[38;5;241;43m.\u001b[39;49m\u001b[43mexecute\u001b[49m\u001b[43m(\u001b[49m\u001b[38;5;124;43m'\u001b[39;49m\u001b[38;5;124;43mINSERT INTO sales_staff (SALES_STAFF_CODE, FIRST_NAME, LAST_NAME, POSITION_EN, WORK_PHONE, EXTENSION, FAX, EMAIL, DATE_HIRED, SALES_BRANCH_CODE) VALUES (?,?,?,?,?,?,?,?,?,?)\u001b[39;49m\u001b[38;5;124;43m'\u001b[39;49m\u001b[43m,\u001b[49m\u001b[43mnieuwe_rij\u001b[49m\u001b[43m)\u001b[49m\n",
      "\u001b[0;31mOperationalError\u001b[0m: database is locked"
     ]
    }
   ],
   "source": [
    "\n",
    "nieuwe_rij = (420,'Sam','Stille','CEO',316123456,1992, 316123456,'samstille2712Yahoo.nl',2002-12-27,1)\n",
    "\n",
    "cursor.execute('INSERT INTO sales_staff (SALES_STAFF_CODE, FIRST_NAME, LAST_NAME, POSITION_EN, WORK_PHONE, EXTENSION, FAX, EMAIL, DATE_HIRED, SALES_BRANCH_CODE) VALUES (?,?,?,?,?,?,?,?,?,?)',nieuwe_rij)\n",
    "\n"
   ]
  },
  {
   "cell_type": "markdown",
   "metadata": {},
   "source": [
    "### Kolommen"
   ]
  },
  {
   "cell_type": "markdown",
   "metadata": {},
   "source": [
    "Voeg een kolom *FULL_NAME* toe die de waarden van *FIRST_NAME* en *LAST_NAME* achter elkaar zet, gescheiden door een spatie."
   ]
  },
  {
   "cell_type": "code",
   "execution_count": null,
   "metadata": {},
   "outputs": [],
   "source": []
  },
  {
   "cell_type": "markdown",
   "metadata": {},
   "source": [
    "## Data wijzigen"
   ]
  },
  {
   "cell_type": "markdown",
   "metadata": {},
   "source": [
    "### Datatypen"
   ]
  },
  {
   "cell_type": "markdown",
   "metadata": {},
   "source": [
    "Door het attribuut .dtypes van een DataFrame op te vragen krijg je een serie die per kolom het datatype weergeeft. Doe dit bij de originele databasetabel *sales_staff*"
   ]
  },
  {
   "cell_type": "code",
   "execution_count": null,
   "metadata": {},
   "outputs": [],
   "source": []
  },
  {
   "cell_type": "markdown",
   "metadata": {},
   "source": [
    "Hier valt op dat elke kolom het datatype 'object' heeft: Python leest dus alles als string. Wiskundige operaties zijn hierdoor niet mogelijk.<br>\n",
    "We kunnen proberen om kolommen met getallen, bijvoorbeeld de 'extension', te converteren naar een int. Zie onderstaande code."
   ]
  },
  {
   "cell_type": "code",
   "execution_count": 3,
   "metadata": {},
   "outputs": [
    {
     "ename": "NameError",
     "evalue": "name 'sales_staff' is not defined",
     "output_type": "error",
     "traceback": [
      "\u001b[1;31m---------------------------------------------------------------------------\u001b[0m",
      "\u001b[1;31mNameError\u001b[0m                                 Traceback (most recent call last)",
      "Cell \u001b[1;32mIn[3], line 1\u001b[0m\n\u001b[1;32m----> 1\u001b[0m sales_staff[\u001b[38;5;124m'\u001b[39m\u001b[38;5;124mEXTENSION\u001b[39m\u001b[38;5;124m'\u001b[39m] \u001b[38;5;241m=\u001b[39m \u001b[43msales_staff\u001b[49m[\u001b[38;5;124m'\u001b[39m\u001b[38;5;124mEXTENSION\u001b[39m\u001b[38;5;124m'\u001b[39m]\u001b[38;5;241m.\u001b[39mastype(\u001b[38;5;28mint\u001b[39m)\n\u001b[0;32m      2\u001b[0m sales_staff\u001b[38;5;241m.\u001b[39mdtypes\n",
      "\u001b[1;31mNameError\u001b[0m: name 'sales_staff' is not defined"
     ]
    }
   ],
   "source": [
    "sales_staff['EXTENSION'] = sales_staff['EXTENSION'].astype(int)\n",
    "sales_staff.dtypes"
   ]
  },
  {
   "cell_type": "markdown",
   "metadata": {},
   "source": [
    "Dit lukt echter niet, omdat er in de kolom 'EXTENSION' lege waarden zitten die niet geconverteerd kunnen worden naar een int.<br>\n",
    "Wél kan je deze naar een float converteren, zie onderstaande code:"
   ]
  },
  {
   "cell_type": "code",
   "execution_count": null,
   "metadata": {},
   "outputs": [],
   "source": [
    "sales_staff['EXTENSION'] = sales_staff['EXTENSION'].astype(float)\n",
    "sales_staff.dtypes"
   ]
  },
  {
   "cell_type": "markdown",
   "metadata": {},
   "source": [
    "Als we in de rij van 'EXTENSION' kijken zien we dat de conversie van het datatype nu is gelukt.<br>\n",
    "Dit is <b>randvoorwaardelijk</b> voor het uitvoeren van wiskundige operaties.<br>"
   ]
  },
  {
   "cell_type": "markdown",
   "metadata": {},
   "source": [
    "### Rijen"
   ]
  },
  {
   "cell_type": "markdown",
   "metadata": {},
   "source": [
    "Zorg er nu voor dat bij alle extensions 1 wordt opgeteld."
   ]
  },
  {
   "cell_type": "code",
   "execution_count": null,
   "metadata": {},
   "outputs": [],
   "source": []
  },
  {
   "cell_type": "markdown",
   "metadata": {},
   "source": [
    "Elke 'Branch Manager' wordt nu 'General Manager'. Schrijf code zodat deze wijziging doorgevoerd wordt in het DataFrame."
   ]
  },
  {
   "cell_type": "code",
   "execution_count": null,
   "metadata": {},
   "outputs": [],
   "source": []
  },
  {
   "cell_type": "markdown",
   "metadata": {},
   "source": [
    "### Kolommen"
   ]
  },
  {
   "cell_type": "markdown",
   "metadata": {},
   "source": [
    "Verander de kolomnaam 'POSITION_EN' naar 'POSITION'."
   ]
  },
  {
   "cell_type": "code",
   "execution_count": null,
   "metadata": {},
   "outputs": [],
   "source": []
  },
  {
   "cell_type": "markdown",
   "metadata": {},
   "source": [
    "## Data verwijderen"
   ]
  },
  {
   "cell_type": "markdown",
   "metadata": {},
   "source": [
    "### Rijen"
   ]
  },
  {
   "cell_type": "markdown",
   "metadata": {},
   "source": [
    "De medewerkers op indexen 99, 100 en 101 hebben helaas ontslag genomen.<br>\n",
    "Verwijder de bijbehorende rijen uit het DataFrame. Gebruik slechts één keer de .drop()-methode."
   ]
  },
  {
   "cell_type": "code",
   "execution_count": null,
   "metadata": {},
   "outputs": [],
   "source": []
  },
  {
   "cell_type": "markdown",
   "metadata": {},
   "source": [
    "### Kolommen"
   ]
  },
  {
   "cell_type": "markdown",
   "metadata": {},
   "source": [
    "Faxen zijn inmiddels ouderwets: niemand gebruikt zijn/haar faxnummer nog.<br>\n",
    "Verwijder de bijbehorende kolom uit het DataFrame."
   ]
  },
  {
   "cell_type": "code",
   "execution_count": null,
   "metadata": {},
   "outputs": [],
   "source": []
  }
 ],
 "metadata": {
  "kernelspec": {
   "display_name": ".venv",
   "language": "python",
   "name": "python3"
  },
  "language_info": {
   "codemirror_mode": {
    "name": "ipython",
    "version": 3
   },
   "file_extension": ".py",
   "mimetype": "text/x-python",
   "name": "python",
   "nbconvert_exporter": "python",
   "pygments_lexer": "ipython3",
   "version": "3.13.2"
  }
 },
 "nbformat": 4,
 "nbformat_minor": 2
}
