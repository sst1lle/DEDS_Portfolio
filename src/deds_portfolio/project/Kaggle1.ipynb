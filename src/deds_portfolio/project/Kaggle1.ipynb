{
 "cells": [
  {
   "cell_type": "markdown",
   "metadata": {},
   "source": [
    "<h3> Kaggle-opdracht"
   ]
  },
  {
   "cell_type": "markdown",
   "metadata": {},
   "source": [
    "<h4> ik heb gekozen voor de dataset 'student_habits_performance'. Deze dataset leek mij interessant omdat de AI in deze set zal voorspellen wat voor gedrag en patronen in leven invloed heeft op je presaties op school ."
   ]
  },
  {
   "cell_type": "markdown",
   "metadata": {},
   "source": [
    "<h2> model 1 lineair regressiemodel"
   ]
  },
  {
   "cell_type": "markdown",
   "metadata": {},
   "source": [
    "<h3> type probleem: we willen eindexamencijfers voorspellen op basis van relevante data, dit is dus een regressieprobleem"
   ]
  },
  {
   "cell_type": "code",
   "execution_count": 1,
   "metadata": {},
   "outputs": [],
   "source": [
    "import pandas as pd\n",
    "from sklearn.model_selection import train_test_split\n",
    "from sklearn import linear_model\n",
    "from sklearn.linear_model import LinearRegression\n",
    "from sklearn.metrics import mean_squared_error, mean_absolute_error\n",
    "import matplotlib.pyplot as plt\n",
    "from sklearn.discriminant_analysis import StandardScaler\n",
    "from sklearn.metrics import root_mean_squared_error\n",
    "from sklearn.metrics import r2_score"
   ]
  },
  {
   "cell_type": "markdown",
   "metadata": {},
   "source": [
    "<h4>inlezen csv file"
   ]
  },
  {
   "cell_type": "code",
   "execution_count": 2,
   "metadata": {},
   "outputs": [],
   "source": [
    "df = pd.read_csv('data/raw/student_habits_performance.csv')"
   ]
  },
  {
   "cell_type": "markdown",
   "metadata": {},
   "source": [
    "<h3> relevante data selecteren\n",
    "\n",
    "<h5>deze data heb ik gekozen  omdat het mij interessant leek hoe deze attributen aansluiten op je study performance.<BR>\n",
    "zoals je hieronder kan zien zijn dit best wel wat factoren maar wel goede indicatoren om te zien of het nou echt impact maakt over hoe je kwalitatief gezien  leeft, dus hoeveelheid slaap, kwaliteit van dieet, percentage aanwezigheid(school) etc. <br><br> best wel interessant dus(of deze factoren nou echt uitmaken of niet)<br><br>waar het model uiteindelijk zijn reultaten op gaat baseren is exam score"
   ]
  },
  {
   "cell_type": "code",
   "execution_count": 3,
   "metadata": {},
   "outputs": [],
   "source": [
    "features = [\n",
    "    \"study_hours_per_day\",\n",
    "    \"sleep_hours\",\n",
    "    \"attendance_percentage\",\n",
    "    \"social_media_hours\",\n",
    "    \"netflix_hours\",\n",
    "    \"diet_quality\",\n",
    "    \"exercise_frequency\",\n",
    "    \"mental_health_rating\",\n",
    "    \"gender\",\n",
    "    \"part_time_job\",\n",
    "    \"parental_education_level\",\n",
    "    \"internet_quality\"\n",
    "]\n",
    "\n",
    "target = \"exam_score\""
   ]
  },
  {
   "cell_type": "markdown",
   "metadata": {},
   "source": [
    "<h4> relevante data uit df overhouden"
   ]
  },
  {
   "cell_type": "code",
   "execution_count": 4,
   "metadata": {},
   "outputs": [
    {
     "data": {
      "text/html": [
       "<div>\n",
       "<style scoped>\n",
       "    .dataframe tbody tr th:only-of-type {\n",
       "        vertical-align: middle;\n",
       "    }\n",
       "\n",
       "    .dataframe tbody tr th {\n",
       "        vertical-align: top;\n",
       "    }\n",
       "\n",
       "    .dataframe thead th {\n",
       "        text-align: right;\n",
       "    }\n",
       "</style>\n",
       "<table border=\"1\" class=\"dataframe\">\n",
       "  <thead>\n",
       "    <tr style=\"text-align: right;\">\n",
       "      <th></th>\n",
       "      <th>study_hours_per_day</th>\n",
       "      <th>sleep_hours</th>\n",
       "      <th>attendance_percentage</th>\n",
       "      <th>social_media_hours</th>\n",
       "      <th>netflix_hours</th>\n",
       "      <th>diet_quality</th>\n",
       "      <th>exercise_frequency</th>\n",
       "      <th>mental_health_rating</th>\n",
       "      <th>gender</th>\n",
       "      <th>part_time_job</th>\n",
       "      <th>parental_education_level</th>\n",
       "      <th>internet_quality</th>\n",
       "      <th>exam_score</th>\n",
       "    </tr>\n",
       "  </thead>\n",
       "  <tbody>\n",
       "    <tr>\n",
       "      <th>0</th>\n",
       "      <td>0.0</td>\n",
       "      <td>8.0</td>\n",
       "      <td>85.0</td>\n",
       "      <td>1.2</td>\n",
       "      <td>1.1</td>\n",
       "      <td>Fair</td>\n",
       "      <td>6</td>\n",
       "      <td>8</td>\n",
       "      <td>Female</td>\n",
       "      <td>No</td>\n",
       "      <td>Master</td>\n",
       "      <td>Average</td>\n",
       "      <td>56.2</td>\n",
       "    </tr>\n",
       "    <tr>\n",
       "      <th>1</th>\n",
       "      <td>6.9</td>\n",
       "      <td>4.6</td>\n",
       "      <td>97.3</td>\n",
       "      <td>2.8</td>\n",
       "      <td>2.3</td>\n",
       "      <td>Good</td>\n",
       "      <td>6</td>\n",
       "      <td>8</td>\n",
       "      <td>Female</td>\n",
       "      <td>No</td>\n",
       "      <td>High School</td>\n",
       "      <td>Average</td>\n",
       "      <td>100.0</td>\n",
       "    </tr>\n",
       "    <tr>\n",
       "      <th>2</th>\n",
       "      <td>1.4</td>\n",
       "      <td>8.0</td>\n",
       "      <td>94.8</td>\n",
       "      <td>3.1</td>\n",
       "      <td>1.3</td>\n",
       "      <td>Poor</td>\n",
       "      <td>1</td>\n",
       "      <td>1</td>\n",
       "      <td>Male</td>\n",
       "      <td>No</td>\n",
       "      <td>High School</td>\n",
       "      <td>Poor</td>\n",
       "      <td>34.3</td>\n",
       "    </tr>\n",
       "    <tr>\n",
       "      <th>3</th>\n",
       "      <td>1.0</td>\n",
       "      <td>9.2</td>\n",
       "      <td>71.0</td>\n",
       "      <td>3.9</td>\n",
       "      <td>1.0</td>\n",
       "      <td>Poor</td>\n",
       "      <td>4</td>\n",
       "      <td>1</td>\n",
       "      <td>Female</td>\n",
       "      <td>No</td>\n",
       "      <td>Master</td>\n",
       "      <td>Good</td>\n",
       "      <td>26.8</td>\n",
       "    </tr>\n",
       "    <tr>\n",
       "      <th>4</th>\n",
       "      <td>5.0</td>\n",
       "      <td>4.9</td>\n",
       "      <td>90.9</td>\n",
       "      <td>4.4</td>\n",
       "      <td>0.5</td>\n",
       "      <td>Fair</td>\n",
       "      <td>3</td>\n",
       "      <td>1</td>\n",
       "      <td>Female</td>\n",
       "      <td>No</td>\n",
       "      <td>Master</td>\n",
       "      <td>Good</td>\n",
       "      <td>66.4</td>\n",
       "    </tr>\n",
       "  </tbody>\n",
       "</table>\n",
       "</div>"
      ],
      "text/plain": [
       "   study_hours_per_day  sleep_hours  attendance_percentage  \\\n",
       "0                  0.0          8.0                   85.0   \n",
       "1                  6.9          4.6                   97.3   \n",
       "2                  1.4          8.0                   94.8   \n",
       "3                  1.0          9.2                   71.0   \n",
       "4                  5.0          4.9                   90.9   \n",
       "\n",
       "   social_media_hours  netflix_hours diet_quality  exercise_frequency  \\\n",
       "0                 1.2            1.1         Fair                   6   \n",
       "1                 2.8            2.3         Good                   6   \n",
       "2                 3.1            1.3         Poor                   1   \n",
       "3                 3.9            1.0         Poor                   4   \n",
       "4                 4.4            0.5         Fair                   3   \n",
       "\n",
       "   mental_health_rating  gender part_time_job parental_education_level  \\\n",
       "0                     8  Female            No                   Master   \n",
       "1                     8  Female            No              High School   \n",
       "2                     1    Male            No              High School   \n",
       "3                     1  Female            No                   Master   \n",
       "4                     1  Female            No                   Master   \n",
       "\n",
       "  internet_quality  exam_score  \n",
       "0          Average        56.2  \n",
       "1          Average       100.0  \n",
       "2             Poor        34.3  \n",
       "3             Good        26.8  \n",
       "4             Good        66.4  "
      ]
     },
     "execution_count": 4,
     "metadata": {},
     "output_type": "execute_result"
    }
   ],
   "source": [
    "df_model = df[features + [target]].copy()\n",
    "df_model.head()"
   ]
  },
  {
   "cell_type": "markdown",
   "metadata": {},
   "source": [
    "<h4> check missende waardes"
   ]
  },
  {
   "cell_type": "code",
   "execution_count": 5,
   "metadata": {},
   "outputs": [
    {
     "data": {
      "text/plain": [
       "student_id                        0\n",
       "age                               0\n",
       "gender                            0\n",
       "study_hours_per_day               0\n",
       "social_media_hours                0\n",
       "netflix_hours                     0\n",
       "part_time_job                     0\n",
       "attendance_percentage             0\n",
       "sleep_hours                       0\n",
       "diet_quality                      0\n",
       "exercise_frequency                0\n",
       "parental_education_level         91\n",
       "internet_quality                  0\n",
       "mental_health_rating              0\n",
       "extracurricular_participation     0\n",
       "exam_score                        0\n",
       "dtype: int64"
      ]
     },
     "execution_count": 5,
     "metadata": {},
     "output_type": "execute_result"
    }
   ],
   "source": [
    "df.isnull().sum()"
   ]
  },
  {
   "cell_type": "markdown",
   "metadata": {},
   "source": [
    "<h4> drop ze"
   ]
  },
  {
   "cell_type": "code",
   "execution_count": 6,
   "metadata": {},
   "outputs": [],
   "source": [
    "df_model.dropna(inplace=True)"
   ]
  },
  {
   "cell_type": "markdown",
   "metadata": {},
   "source": [
    "<h4> one hot encoding toepassen, dummies halen waar nodig"
   ]
  },
  {
   "cell_type": "code",
   "execution_count": 7,
   "metadata": {},
   "outputs": [
    {
     "data": {
      "text/html": [
       "<div>\n",
       "<style scoped>\n",
       "    .dataframe tbody tr th:only-of-type {\n",
       "        vertical-align: middle;\n",
       "    }\n",
       "\n",
       "    .dataframe tbody tr th {\n",
       "        vertical-align: top;\n",
       "    }\n",
       "\n",
       "    .dataframe thead th {\n",
       "        text-align: right;\n",
       "    }\n",
       "</style>\n",
       "<table border=\"1\" class=\"dataframe\">\n",
       "  <thead>\n",
       "    <tr style=\"text-align: right;\">\n",
       "      <th></th>\n",
       "      <th>study_hours_per_day</th>\n",
       "      <th>sleep_hours</th>\n",
       "      <th>attendance_percentage</th>\n",
       "      <th>social_media_hours</th>\n",
       "      <th>netflix_hours</th>\n",
       "      <th>exercise_frequency</th>\n",
       "      <th>mental_health_rating</th>\n",
       "      <th>exam_score</th>\n",
       "      <th>gender_Male</th>\n",
       "      <th>gender_Other</th>\n",
       "      <th>part_time_job_Yes</th>\n",
       "      <th>parental_education_level_High School</th>\n",
       "      <th>parental_education_level_Master</th>\n",
       "      <th>internet_quality_Good</th>\n",
       "      <th>internet_quality_Poor</th>\n",
       "      <th>diet_quality_Good</th>\n",
       "      <th>diet_quality_Poor</th>\n",
       "    </tr>\n",
       "  </thead>\n",
       "  <tbody>\n",
       "    <tr>\n",
       "      <th>0</th>\n",
       "      <td>0.0</td>\n",
       "      <td>8.0</td>\n",
       "      <td>85.0</td>\n",
       "      <td>1.2</td>\n",
       "      <td>1.1</td>\n",
       "      <td>6</td>\n",
       "      <td>8</td>\n",
       "      <td>56.2</td>\n",
       "      <td>False</td>\n",
       "      <td>False</td>\n",
       "      <td>False</td>\n",
       "      <td>False</td>\n",
       "      <td>True</td>\n",
       "      <td>False</td>\n",
       "      <td>False</td>\n",
       "      <td>False</td>\n",
       "      <td>False</td>\n",
       "    </tr>\n",
       "    <tr>\n",
       "      <th>1</th>\n",
       "      <td>6.9</td>\n",
       "      <td>4.6</td>\n",
       "      <td>97.3</td>\n",
       "      <td>2.8</td>\n",
       "      <td>2.3</td>\n",
       "      <td>6</td>\n",
       "      <td>8</td>\n",
       "      <td>100.0</td>\n",
       "      <td>False</td>\n",
       "      <td>False</td>\n",
       "      <td>False</td>\n",
       "      <td>True</td>\n",
       "      <td>False</td>\n",
       "      <td>False</td>\n",
       "      <td>False</td>\n",
       "      <td>True</td>\n",
       "      <td>False</td>\n",
       "    </tr>\n",
       "    <tr>\n",
       "      <th>2</th>\n",
       "      <td>1.4</td>\n",
       "      <td>8.0</td>\n",
       "      <td>94.8</td>\n",
       "      <td>3.1</td>\n",
       "      <td>1.3</td>\n",
       "      <td>1</td>\n",
       "      <td>1</td>\n",
       "      <td>34.3</td>\n",
       "      <td>True</td>\n",
       "      <td>False</td>\n",
       "      <td>False</td>\n",
       "      <td>True</td>\n",
       "      <td>False</td>\n",
       "      <td>False</td>\n",
       "      <td>True</td>\n",
       "      <td>False</td>\n",
       "      <td>True</td>\n",
       "    </tr>\n",
       "    <tr>\n",
       "      <th>3</th>\n",
       "      <td>1.0</td>\n",
       "      <td>9.2</td>\n",
       "      <td>71.0</td>\n",
       "      <td>3.9</td>\n",
       "      <td>1.0</td>\n",
       "      <td>4</td>\n",
       "      <td>1</td>\n",
       "      <td>26.8</td>\n",
       "      <td>False</td>\n",
       "      <td>False</td>\n",
       "      <td>False</td>\n",
       "      <td>False</td>\n",
       "      <td>True</td>\n",
       "      <td>True</td>\n",
       "      <td>False</td>\n",
       "      <td>False</td>\n",
       "      <td>True</td>\n",
       "    </tr>\n",
       "    <tr>\n",
       "      <th>4</th>\n",
       "      <td>5.0</td>\n",
       "      <td>4.9</td>\n",
       "      <td>90.9</td>\n",
       "      <td>4.4</td>\n",
       "      <td>0.5</td>\n",
       "      <td>3</td>\n",
       "      <td>1</td>\n",
       "      <td>66.4</td>\n",
       "      <td>False</td>\n",
       "      <td>False</td>\n",
       "      <td>False</td>\n",
       "      <td>False</td>\n",
       "      <td>True</td>\n",
       "      <td>True</td>\n",
       "      <td>False</td>\n",
       "      <td>False</td>\n",
       "      <td>False</td>\n",
       "    </tr>\n",
       "  </tbody>\n",
       "</table>\n",
       "</div>"
      ],
      "text/plain": [
       "   study_hours_per_day  sleep_hours  attendance_percentage  \\\n",
       "0                  0.0          8.0                   85.0   \n",
       "1                  6.9          4.6                   97.3   \n",
       "2                  1.4          8.0                   94.8   \n",
       "3                  1.0          9.2                   71.0   \n",
       "4                  5.0          4.9                   90.9   \n",
       "\n",
       "   social_media_hours  netflix_hours  exercise_frequency  \\\n",
       "0                 1.2            1.1                   6   \n",
       "1                 2.8            2.3                   6   \n",
       "2                 3.1            1.3                   1   \n",
       "3                 3.9            1.0                   4   \n",
       "4                 4.4            0.5                   3   \n",
       "\n",
       "   mental_health_rating  exam_score  gender_Male  gender_Other  \\\n",
       "0                     8        56.2        False         False   \n",
       "1                     8       100.0        False         False   \n",
       "2                     1        34.3         True         False   \n",
       "3                     1        26.8        False         False   \n",
       "4                     1        66.4        False         False   \n",
       "\n",
       "   part_time_job_Yes  parental_education_level_High School  \\\n",
       "0              False                                 False   \n",
       "1              False                                  True   \n",
       "2              False                                  True   \n",
       "3              False                                 False   \n",
       "4              False                                 False   \n",
       "\n",
       "   parental_education_level_Master  internet_quality_Good  \\\n",
       "0                             True                  False   \n",
       "1                            False                  False   \n",
       "2                            False                  False   \n",
       "3                             True                   True   \n",
       "4                             True                   True   \n",
       "\n",
       "   internet_quality_Poor  diet_quality_Good  diet_quality_Poor  \n",
       "0                  False              False              False  \n",
       "1                  False               True              False  \n",
       "2                   True              False               True  \n",
       "3                  False              False               True  \n",
       "4                  False              False              False  "
      ]
     },
     "execution_count": 7,
     "metadata": {},
     "output_type": "execute_result"
    }
   ],
   "source": [
    "df_model = pd.get_dummies(df_model, columns=[\n",
    "    \"gender\", \"part_time_job\", \"parental_education_level\", \"internet_quality\",\"diet_quality\"\n",
    "], drop_first=True)\n",
    "\n",
    "df_model.head()"
   ]
  },
  {
   "cell_type": "markdown",
   "metadata": {},
   "source": [
    "<H4> data opdelen in features en target"
   ]
  },
  {
   "cell_type": "code",
   "execution_count": 8,
   "metadata": {},
   "outputs": [],
   "source": [
    "X = df_model.drop(target, axis=1)\n",
    "y = df_model[target]"
   ]
  },
  {
   "cell_type": "markdown",
   "metadata": {},
   "source": [
    "<h4> opdelen testset / trainingsset"
   ]
  },
  {
   "cell_type": "code",
   "execution_count": 9,
   "metadata": {},
   "outputs": [],
   "source": [
    "X_train, X_test, y_train, y_test = train_test_split(\n",
    "    X,\n",
    "    y,\n",
    "    test_size = 0.2,\n",
    "    random_state = 42\n",
    ")"
   ]
  },
  {
   "cell_type": "markdown",
   "metadata": {},
   "source": [
    "<h4> schalen van numerieke features"
   ]
  },
  {
   "cell_type": "code",
   "execution_count": 10,
   "metadata": {},
   "outputs": [],
   "source": [
    "scaler = StandardScaler()\n",
    "X_train_scaled = scaler.fit_transform(X_train)\n",
    "X_test_scaled = scaler.transform(X_test)"
   ]
  },
  {
   "cell_type": "markdown",
   "metadata": {},
   "source": [
    "<h4> model bouwen en trainen`"
   ]
  },
  {
   "cell_type": "code",
   "execution_count": 11,
   "metadata": {},
   "outputs": [
    {
     "data": {
      "text/plain": [
       "array([ 61.38274024,  50.83640239,  70.82960044,  71.105123  ,\n",
       "        87.76246549,  64.18845959,  78.47808247,  94.02685735,\n",
       "        66.70222774,  68.16350551,  57.05431021,  77.1321543 ,\n",
       "        57.67833661,  49.61841774,  76.72201278,  77.21667462,\n",
       "        49.43704681,  90.31140428,  84.53370071,  64.33833308,\n",
       "        73.86699719,  97.8774415 ,  53.98841923,  67.56282444,\n",
       "        82.21724246,  63.60605112, 105.0211118 ,  77.444725  ,\n",
       "        60.2406473 , 103.67203946,  60.36340477,  81.18414112,\n",
       "        54.5799137 ,  64.39791602,  61.38623515,  64.64197237,\n",
       "        98.61351066,  56.64397182,  60.56568847,  74.98190358,\n",
       "        60.47475648,  84.38116578,  68.92338007,  69.93816359,\n",
       "        88.05945833,  71.27914455,  48.4366741 , 100.66102225,\n",
       "        78.96835821,  79.55998751,  64.00068941,  47.8804586 ,\n",
       "        64.92321725,  73.49721879,  69.33930949, 103.98908827,\n",
       "        68.47387437,  59.02994824,  80.56749962,  57.75760213,\n",
       "        74.82828853,  71.45776789,  51.01343259,  83.16758468,\n",
       "        65.48370785,  80.84099401,  63.8215482 ,  64.73066382,\n",
       "        44.35164509,  70.40866947,  58.88461019,  60.19023676,\n",
       "        56.12264454,  78.41221428,  68.58253944,  59.64975819,\n",
       "        59.67324267, 112.05430116,  27.12410857,  77.62814101,\n",
       "        84.39771449,  88.20574202,  73.74655798,  67.29829765,\n",
       "       101.72556553, 101.49623847,  73.29498466,  71.60646206,\n",
       "        60.46123927,  61.06023747,  95.37100503,  87.82513776,\n",
       "        85.67639278,  49.03446393,  63.20483012,  53.92997373,\n",
       "        89.8343033 ,  73.92059694,  94.79581689,  73.84365897,\n",
       "        43.39277728,  52.6954966 ,  75.0904941 ,  60.1042559 ,\n",
       "        61.1167963 ,  69.14791353,  75.86098652,  76.08117965,\n",
       "        89.77484573,  69.16281806,  94.47614685,  64.37355275,\n",
       "        51.37486738, 106.20491454,  68.337429  ,  49.91900734,\n",
       "        75.94113887,  74.0651405 ,  85.41653176,  55.51202645,\n",
       "        74.24029747, 121.81690609,  85.18600313,  64.0575961 ,\n",
       "        57.2668662 ,  61.97837171,  52.2863441 ,  60.29877282,\n",
       "        70.11311616,  97.11087206,  43.70657271,  70.11263373,\n",
       "        42.90857385,  78.31073891,  87.17127   ,  83.80929205,\n",
       "        60.57542126,  73.5273741 ,  64.11405913,  54.87740475,\n",
       "        75.57869868,  60.20890511,  72.70586365,  49.52043144,\n",
       "        67.58636307,  64.10919615,  49.43605712,  72.33265608,\n",
       "        42.72144196,  31.16290931,  83.56822022,  74.37002897,\n",
       "        51.95260501,  68.94573071,  69.84676874,  46.35381682,\n",
       "        82.61875892,  86.36144566,  56.28202384,  90.64370192,\n",
       "        75.04903241,  81.47140606,  77.25636722,  67.6305763 ,\n",
       "        87.33855398,  52.1246175 ,  92.30582491,  63.84786813,\n",
       "       107.78374373,  76.78052754,  81.57258657,  70.17521858,\n",
       "        73.10870383,  88.91685056,  77.28746476,  67.54359821,\n",
       "        57.63367542,  63.33006111,  53.77464784,  84.33429263,\n",
       "        91.4671936 ,  60.14878185])"
      ]
     },
     "execution_count": 11,
     "metadata": {},
     "output_type": "execute_result"
    }
   ],
   "source": [
    "model = LinearRegression()\n",
    "model.fit(X_train_scaled, y_train)\n",
    "\n",
    "# voorspellingen\n",
    "y_pred = model.predict(X_test_scaled)\n",
    "y_pred"
   ]
  },
  {
   "cell_type": "markdown",
   "metadata": {},
   "source": [
    "<h4> kijken naar mean squared error, mean absolute error en r2"
   ]
  },
  {
   "cell_type": "code",
   "execution_count": 12,
   "metadata": {},
   "outputs": [
    {
     "name": "stdout",
     "output_type": "stream",
     "text": [
      "Mean Absolute Error (MAE): 4.2309921362681076\n",
      "Root Mean Squared Error (RMSE): 5.454143875275258\n",
      "R-squared (R²): 0.890405069317918\n"
     ]
    }
   ],
   "source": [
    "mae = mean_absolute_error(y_test, y_pred)\n",
    "rmse = root_mean_squared_error(y_test, y_pred)\n",
    "r2 = r2_score(y_test, y_pred)\n",
    "\n",
    "# Resultaten printen\n",
    "print(\"Mean Absolute Error (MAE):\", mae)\n",
    "print(\"Root Mean Squared Error (RMSE):\", rmse)\n",
    "print(\"R-squared (R²):\", r2)"
   ]
  },
  {
   "cell_type": "markdown",
   "metadata": {},
   "source": [
    "<h4> visuele voorspelling maken."
   ]
  },
  {
   "cell_type": "code",
   "execution_count": 13,
   "metadata": {},
   "outputs": [
    {
     "data": {
      "image/png": "[encoded data removed]",
      "text/plain": [
       "<Figure size 640x480 with 1 Axes>"
      ]
     },
     "metadata": {},
     "output_type": "display_data"
    }
   ],
   "source": [
    "plt.scatter(y_test, y_pred, alpha=0.7)\n",
    "plt.xlabel(\"Werkelijke exam_score\")\n",
    "plt.ylabel(\"Voorspelde exam_score\")\n",
    "plt.title(\"Voorspelde vs Werkelijke Scores\")\n",
    "plt.plot([0, 100], [0, 100], color='red', linestyle='--')\n",
    "plt.grid(True)\n",
    "plt.show()"
   ]
  },
  {
   "cell_type": "markdown",
   "metadata": {},
   "source": [
    "<h3> Evaluatie <br>\n",
    "\n",
    "<h5>Het lineaire regressiemodel is getraind om de exam_score van studenten te voorspellen op basis van meerdere kenmerken, zoals study_hours_per_day, attendance_percentage, sleep_hours, en mental_health_rating. Het model behaalde een relatief hoge nauwkeurigheid, wat erop wijst dat deze variabelen sterke voorspellers zijn van de uiteindelijke examencijfers.<br><br>\n",
    "\n",
    "De prestaties zijn geëvalueerd met behulp van de R²-score en de Mean Squared Error (MSE). De R²-score laat zien hoeveel variantie in de examencijfers door het model wordt verklaard. Deze score was erg hoog, wat betekent dat het model een goede fit is voor de data."
   ]
  },
  {
   "cell_type": "markdown",
   "metadata": {},
   "source": [
    "<h2> Model 2 Random forest model"
   ]
  },
  {
   "cell_type": "markdown",
   "metadata": {},
   "source": [
    "<h3> type probleem: classificatie, omdat ik de eindexamencijfers ga groeperen in klassen, is dit een classificatieprobleem"
   ]
  },
  {
   "cell_type": "code",
   "execution_count": 14,
   "metadata": {},
   "outputs": [],
   "source": [
    "from sklearn.ensemble import RandomForestClassifier\n",
    "from sklearn.preprocessing import LabelEncoder\n",
    "from sklearn.metrics import classification_report, confusion_matrix\n",
    "import seaborn as sns\n",
    "import matplotlib.pyplot as plt"
   ]
  },
  {
   "cell_type": "markdown",
   "metadata": {},
   "source": [
    "<h4> inladen data"
   ]
  },
  {
   "cell_type": "code",
   "execution_count": 15,
   "metadata": {},
   "outputs": [],
   "source": [
    "df = pd.read_csv(\"data/raw/student_habits_performance.csv\")\n",
    "df = df.drop(columns=[\"student_id\"])"
   ]
  },
  {
   "cell_type": "markdown",
   "metadata": {},
   "source": [
    "<h4> cijfers indelen in categorieen en relevante data selecteren"
   ]
  },
  {
   "cell_type": "code",
   "execution_count": 16,
   "metadata": {},
   "outputs": [
    {
     "data": {
      "text/plain": [
       "<bound method NDFrame.head of      study_hours_per_day  sleep_hours  attendance_percentage  \\\n",
       "0                    0.0          8.0                   85.0   \n",
       "1                    6.9          4.6                   97.3   \n",
       "2                    1.4          8.0                   94.8   \n",
       "3                    1.0          9.2                   71.0   \n",
       "4                    5.0          4.9                   90.9   \n",
       "..                   ...          ...                    ...   \n",
       "995                  2.6          7.5                   77.0   \n",
       "996                  2.9          6.8                   86.0   \n",
       "997                  3.0          6.5                   61.9   \n",
       "998                  5.4          7.6                  100.0   \n",
       "999                  4.3          7.1                   89.4   \n",
       "\n",
       "     social_media_hours  netflix_hours diet_quality  exercise_frequency  \\\n",
       "0                   1.2            1.1         Fair                   6   \n",
       "1                   2.8            2.3         Good                   6   \n",
       "2                   3.1            1.3         Poor                   1   \n",
       "3                   3.9            1.0         Poor                   4   \n",
       "4                   4.4            0.5         Fair                   3   \n",
       "..                  ...            ...          ...                 ...   \n",
       "995                 0.5            1.6         Fair                   2   \n",
       "996                 1.0            2.4         Poor                   1   \n",
       "997                 2.6            1.3         Good                   5   \n",
       "998                 4.1            1.1         Fair                   0   \n",
       "999                 2.9            1.9         Good                   2   \n",
       "\n",
       "     mental_health_rating  gender part_time_job parental_education_level  \\\n",
       "0                       8  Female            No                   Master   \n",
       "1                       8  Female            No              High School   \n",
       "2                       1    Male            No              High School   \n",
       "3                       1  Female            No                   Master   \n",
       "4                       1  Female            No                   Master   \n",
       "..                    ...     ...           ...                      ...   \n",
       "995                     6  Female            No              High School   \n",
       "996                     6  Female           Yes              High School   \n",
       "997                     9    Male            No                 Bachelor   \n",
       "998                     1    Male           Yes                 Bachelor   \n",
       "999                     8  Female            No                 Bachelor   \n",
       "\n",
       "    internet_quality  exam_score score_category  \n",
       "0            Average        56.2      gemiddeld  \n",
       "1            Average       100.0           hoog  \n",
       "2               Poor        34.3           laag  \n",
       "3               Good        26.8           laag  \n",
       "4               Good        66.4      gemiddeld  \n",
       "..               ...         ...            ...  \n",
       "995             Good        76.1           hoog  \n",
       "996          Average        65.9      gemiddeld  \n",
       "997             Good        64.4      gemiddeld  \n",
       "998          Average        69.7      gemiddeld  \n",
       "999          Average        74.9      gemiddeld  \n",
       "\n",
       "[1000 rows x 14 columns]>"
      ]
     },
     "execution_count": 16,
     "metadata": {},
     "output_type": "execute_result"
    }
   ],
   "source": [
    "df['score_category'] = pd.cut(df['exam_score'],\n",
    "                              bins=[0, 50, 75, 100],\n",
    "                              labels=['laag', 'gemiddeld', 'hoog'])\n",
    "\n",
    "features = [\n",
    "    \"study_hours_per_day\",\n",
    "    \"sleep_hours\",\n",
    "    \"attendance_percentage\",\n",
    "    \"social_media_hours\",\n",
    "    \"netflix_hours\",\n",
    "    \"diet_quality\",\n",
    "    \"exercise_frequency\",\n",
    "    \"mental_health_rating\",\n",
    "    \"gender\",\n",
    "    \"part_time_job\",\n",
    "    \"parental_education_level\",\n",
    "    \"internet_quality\"\n",
    "]\n",
    "\n",
    "df = df[features + ['exam_score', 'score_category']]\n",
    "\n",
    "df.head"
   ]
  },
  {
   "cell_type": "markdown",
   "metadata": {},
   "source": [
    "<h4> dummies toepassen waar nodig"
   ]
  },
  {
   "cell_type": "code",
   "execution_count": 17,
   "metadata": {},
   "outputs": [],
   "source": [
    "categorical_cols = [col for col in df.select_dtypes(include='object').columns if col != 'score_category']\n",
    "df_encoded = pd.get_dummies(df, columns=categorical_cols, drop_first=True)"
   ]
  },
  {
   "cell_type": "markdown",
   "metadata": {},
   "source": [
    "<h4> categorieen encoderen zodat begrijpelijk is voor AI. hoog-gemiddeld-laag -> (2-1-0)  "
   ]
  },
  {
   "cell_type": "code",
   "execution_count": 18,
   "metadata": {},
   "outputs": [],
   "source": [
    "label_encoder = LabelEncoder()\n",
    "df_encoded['score_category'] = label_encoder.fit_transform(df['score_category'])"
   ]
  },
  {
   "cell_type": "markdown",
   "metadata": {},
   "source": [
    "<h4> opdelen in features en target"
   ]
  },
  {
   "cell_type": "code",
   "execution_count": 19,
   "metadata": {},
   "outputs": [],
   "source": [
    "X = df_encoded.drop(columns=[\"exam_score\", \"score_category\"])\n",
    "y = df_encoded[\"score_category\"]"
   ]
  },
  {
   "cell_type": "markdown",
   "metadata": {},
   "source": [
    "<h4> splitsen testset en trainset"
   ]
  },
  {
   "cell_type": "code",
   "execution_count": 20,
   "metadata": {},
   "outputs": [],
   "source": [
    "X_train, X_test, y_train, y_test = train_test_split(X, y, test_size=0.2, random_state=42)"
   ]
  },
  {
   "cell_type": "markdown",
   "metadata": {},
   "source": [
    "<h4> model bouwen en trainen"
   ]
  },
  {
   "cell_type": "code",
   "execution_count": 21,
   "metadata": {},
   "outputs": [
    {
     "data": {
      "text/plain": [
       "array([0, 0, 1, 0, 0, 0, 0, 0, 2, 0, 2, 1, 0, 0, 2, 0, 0, 0, 0, 0, 0, 0,\n",
       "       0, 1, 0, 0, 0, 0, 0, 0, 0, 1, 0, 1, 0, 0, 0, 0, 0, 1, 0, 1, 0, 0,\n",
       "       1, 1, 0, 1, 0, 0, 0, 2, 0, 0, 2, 0, 0, 0, 0, 2, 1, 0, 1, 2, 0, 2,\n",
       "       0, 1, 0, 1, 0, 0, 0, 0, 1, 0, 1, 1, 1, 0, 0, 0, 1, 0, 0, 0, 1, 1,\n",
       "       0, 2, 1, 0, 0, 0, 0, 1, 1, 1, 1, 1, 0, 0, 0, 0, 0, 0, 0, 0, 0, 1,\n",
       "       0, 1, 1, 1, 1, 1, 1, 2, 1, 1, 2, 1, 1, 0, 0, 0, 0, 0, 1, 1, 1, 1,\n",
       "       2, 0, 0, 1, 1, 0, 0, 1, 1, 1, 1, 1, 0, 0, 1, 1, 0, 0, 2, 0, 1, 1,\n",
       "       0, 1, 1, 0, 0, 2, 1, 0, 1, 0, 0, 0, 1, 0, 2, 1, 1, 0, 1, 0, 0, 0,\n",
       "       0, 1, 1, 0, 0, 1, 0, 0, 0, 0, 1, 0, 0, 1, 0, 1, 2, 0, 2, 2, 0, 0,\n",
       "       1, 1])"
      ]
     },
     "execution_count": 21,
     "metadata": {},
     "output_type": "execute_result"
    }
   ],
   "source": [
    "classifier = RandomForestClassifier(n_estimators=100, random_state=42, class_weight='balanced')\n",
    "classifier.fit(X_train, y_train)\n",
    "\n",
    "y_pred = classifier.predict(X_test)\n",
    "y_pred"
   ]
  },
  {
   "cell_type": "markdown",
   "metadata": {},
   "source": [
    "<h4>classificatierapport genereren"
   ]
  },
  {
   "cell_type": "code",
   "execution_count": 26,
   "metadata": {},
   "outputs": [
    {
     "name": "stdout",
     "output_type": "stream",
     "text": [
      "              precision    recall  f1-score   support\n",
      "\n",
      "           0       0.79      0.87      0.83       102\n",
      "           1       0.84      0.83      0.83        70\n",
      "           2       0.89      0.57      0.70        28\n",
      "\n",
      "    accuracy                           0.81       200\n",
      "   macro avg       0.84      0.76      0.79       200\n",
      "weighted avg       0.82      0.81      0.81       200\n",
      "\n",
      "Precision: Hoeveel van de voorspelde getallen zijn correct?\n",
      "Recall: Hoeveel van de werkelijke waarden zijn correct voorspeld?\n",
      "F1-score: Een gewogen gemiddelde van precisie en recall.\n"
     ]
    }
   ],
   "source": [
    "report = classification_report(y_test, y_pred)\n",
    "print(report)\n",
    "print(\"Precision: Hoeveel van de voorspelde getallen zijn correct?\")\n",
    "print(\"Recall: Hoeveel van de werkelijke waarden zijn correct voorspeld?\")\n",
    "print(\"F1-score: Een gewogen gemiddelde van precisie en recall.\")"
   ]
  },
  {
   "cell_type": "markdown",
   "metadata": {},
   "source": [
    "<h4> Confusiematrix visualiseren"
   ]
  },
  {
   "cell_type": "code",
   "execution_count": 22,
   "metadata": {},
   "outputs": [
    {
     "data": {
      "image/png": "[encoded data removed]",
      "text/plain": [
       "<Figure size 640x480 with 2 Axes>"
      ]
     },
     "metadata": {},
     "output_type": "display_data"
    }
   ],
   "source": [
    "cm = confusion_matrix(y_test, y_pred)\n",
    "sns.heatmap(cm, annot=True, cmap='Blues', fmt='d',\n",
    "            xticklabels=label_encoder.classes_,\n",
    "            yticklabels=label_encoder.classes_)\n",
    "plt.xlabel('Voorspeld')\n",
    "plt.ylabel('Werkelijk')\n",
    "plt.title(\"Confusiematrix\")\n",
    "plt.show()\n"
   ]
  },
  {
   "cell_type": "markdown",
   "metadata": {},
   "source": [
    "<h4> belangrijkheid van features visualiseren"
   ]
  },
  {
   "cell_type": "code",
   "execution_count": 23,
   "metadata": {},
   "outputs": [
    {
     "data": {
      "image/png": "[encoded data removed]",
      "text/plain": [
       "<Figure size 1000x600 with 1 Axes>"
      ]
     },
     "metadata": {},
     "output_type": "display_data"
    }
   ],
   "source": [
    "importances = classifier.feature_importances_\n",
    "feature_names = X.columns\n",
    "\n",
    "# DataFrame maken voor overzicht\n",
    "importance_df = pd.DataFrame({\n",
    "    'Feature': feature_names,\n",
    "    'Importance': importances\n",
    "}).sort_values(by='Importance', ascending=False)\n",
    "\n",
    "# Visualiseren\n",
    "plt.figure(figsize=(10, 6))\n",
    "sns.barplot(x='Importance', y='Feature', data=importance_df)\n",
    "plt.title('Belangrijkheid van features volgens Random Forest')\n",
    "plt.tight_layout()\n",
    "plt.show()\n"
   ]
  },
  {
   "cell_type": "markdown",
   "metadata": {},
   "source": [
    "<h3>Evaluatie classificatieprobleem"
   ]
  },
  {
   "cell_type": "markdown",
   "metadata": {},
   "source": [
    "<h5>Het classificatiemodel (Random Forest) presteert redelijk goed met een accuracy van 79%. <br>De categorieën \"gemiddeld\" en \"hoog\" worden vaak correct voorspeld, maar \"laag\" blijft lastig – die wordt vaak verward met \"gemiddeld\".<br> Door class_weight='balanced' toe te passen is dat iets verbeterd. Vooral studietijd, mentale gezondheid en social media-gebruik blijken belangrijke factoren. <br>Al met al een bruikbaar model om studenten grofweg in te delen op basis van gewoontes.\n",
    "\n"
   ]
  },
  {
   "cell_type": "markdown",
   "metadata": {},
   "source": [
    "<h2> vergelijking probleemdoelstelling, classificatie VS. regressie (voor deze dataset)"
   ]
  },
  {
   "cell_type": "markdown",
   "metadata": {},
   "source": [
    "<h5> Bij deze dataset kun je eigenlijk twee kanten op: of je voorspelt de exacte examencijfers (regressie), of je deelt studenten in categorieën zoals “laag”, “gemiddeld” of “hoog” (classificatie).<br>\n",
    "\n",
    "Voor de regressie heb ik lineaire regressie gebruikt. Dat model probeert een rechte lijn te vinden die de relatie tussen de gewoontes (zoals studietijd, slaap, enz.) en het uiteindelijke cijfer zo goed mogelijk benadert. De prestaties waren sterk: een R² van ~0.89 betekent dat het model de scores behoorlijk goed kan inschatten.\n",
    "\n",
    "Voor classificatie heb ik een Random Forest gebruikt. Dat is een ensemble van decision trees die samen bepalen in welke categorie een student valt. Dat werkte ook prima (accuracy van 79%), maar je merkt dat het model moeite heeft met het correct herkennen van de laagste categorie.\n",
    "\n",
    "Kort gezegd: regressie geeft je meer detail (een concreet cijfer), maar classificatie is handiger als je studenten wilt groeperen of beleid per categorie wilt maken. Beide aanpakken zijn bruikbaar, afhankelijk van het doel."
   ]
  },
  {
   "cell_type": "markdown",
   "metadata": {},
   "source": [
    "<h3> Reflectie\n",
    "<br>\n",
    "<h4>Door deze opdracht begrijp ik beter hoe machine learning werkt. Ik heb nu duidelijker wanneer je welk type model inzet, zoals classificatie voor categorieën, lineaire regressie voor getallen, en clustering als je geen labels hebt. Het verschil tussen hoe je de data voorbereidt en hoe je de modellen evalueert is me ook veel duidelijker geworden.\n",
    "\n"
   ]
  }
 ],
 "metadata": {
  "kernelspec": {
   "display_name": ".venv",
   "language": "python",
   "name": "python3"
  },
  "language_info": {
   "codemirror_mode": {
    "name": "ipython",
    "version": 3
   },
   "file_extension": ".py",
   "mimetype": "text/x-python",
   "name": "python",
   "nbconvert_exporter": "python",
   "pygments_lexer": "ipython3",
   "version": "3.13.2"
  }
 },
 "nbformat": 4,
 "nbformat_minor": 2
}
