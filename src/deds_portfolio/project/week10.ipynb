{
 "cells": [
  {
   "cell_type": "markdown",
   "metadata": {},
   "source": [
    "<h1> UNSUPERVISED LEARNING"
   ]
  },
  {
   "cell_type": "code",
   "execution_count": 27,
   "metadata": {},
   "outputs": [],
   "source": [
    "import pyodbc\n",
    "import pandas as pd\n",
    "from sklearn.preprocessing import StandardScaler\n",
    "from sklearn.cluster import KMeans\n",
    "import matplotlib.pyplot as plt\n",
    "from sklearn.decomposition import PCA"
   ]
  },
  {
   "cell_type": "markdown",
   "metadata": {},
   "source": [
    "<h3> inlezen data van sql server"
   ]
  },
  {
   "cell_type": "code",
   "execution_count": null,
   "metadata": {},
   "outputs": [
    {
     "name": "stderr",
     "output_type": "stream",
     "text": [
      "/var/folders/8f/wsxf5dvj0d31pnwb5zm1pkjr0000gn/T/ipykernel_65597/318334689.py:23: UserWarning: pandas only supports SQLAlchemy connectable (engine/connection) or database string URI or sqlite3 DBAPI2 connection. Other DBAPI2 objects are not tested. Please consider using SQLAlchemy.\n",
      "  sales_branch = pd.read_sql(\"SELECT * FROM sales_branch\", conn)\n",
      "/var/folders/8f/wsxf5dvj0d31pnwb5zm1pkjr0000gn/T/ipykernel_65597/318334689.py:24: UserWarning: pandas only supports SQLAlchemy connectable (engine/connection) or database string URI or sqlite3 DBAPI2 connection. Other DBAPI2 objects are not tested. Please consider using SQLAlchemy.\n",
      "  country = pd.read_sql(\"SELECT * FROM country\", conn)\n",
      "/var/folders/8f/wsxf5dvj0d31pnwb5zm1pkjr0000gn/T/ipykernel_65597/318334689.py:25: UserWarning: pandas only supports SQLAlchemy connectable (engine/connection) or database string URI or sqlite3 DBAPI2 connection. Other DBAPI2 objects are not tested. Please consider using SQLAlchemy.\n",
      "  sales_territory = pd.read_sql(\"SELECT * FROM sales_territory\", conn)\n",
      "/var/folders/8f/wsxf5dvj0d31pnwb5zm1pkjr0000gn/T/ipykernel_65597/318334689.py:26: UserWarning: pandas only supports SQLAlchemy connectable (engine/connection) or database string URI or sqlite3 DBAPI2 connection. Other DBAPI2 objects are not tested. Please consider using SQLAlchemy.\n",
      "  sales_staff = pd.read_sql(\"SELECT * FROM sales_staff\", conn)\n",
      "/var/folders/8f/wsxf5dvj0d31pnwb5zm1pkjr0000gn/T/ipykernel_65597/318334689.py:27: UserWarning: pandas only supports SQLAlchemy connectable (engine/connection) or database string URI or sqlite3 DBAPI2 connection. Other DBAPI2 objects are not tested. Please consider using SQLAlchemy.\n",
      "  order_header = pd.read_sql(\"SELECT * FROM order_header\", conn)\n",
      "/var/folders/8f/wsxf5dvj0d31pnwb5zm1pkjr0000gn/T/ipykernel_65597/318334689.py:28: UserWarning: pandas only supports SQLAlchemy connectable (engine/connection) or database string URI or sqlite3 DBAPI2 connection. Other DBAPI2 objects are not tested. Please consider using SQLAlchemy.\n",
      "  order_details = pd.read_sql(\"SELECT * FROM order_details\", conn)\n"
     ]
    }
   ],
   "source": [
    "\n",
    "# Verbindingsgegevens\n",
    "server = '127.0.0.1'        \n",
    "port = '1433'               \n",
    "database = 'GreatOutdoorsSDM'         \n",
    "username = 'SA'             \n",
    "password = 'iDTyjZx7dRL4'  \n",
    "\n",
    "# Connection string\n",
    "connection_string = (\n",
    "    f\"DRIVER={{ODBC Driver 17 for SQL Server}};\"\n",
    "    f\"SERVER={server},{port};\"\n",
    "    f\"DATABASE={database};\"\n",
    "    f\"UID={username};\"\n",
    "    f\"PWD={password};\"\n",
    "    \"TrustServerCertificate=yes;\"\n",
    "    \"Timeout=30;\"\n",
    ")\n",
    "\n",
    "# Maak verbinding met de database\n",
    "conn = pyodbc.connect(connection_string)\n",
    "cursor = conn.cursor()\n",
    "\n",
    "sales_branch = pd.read_sql(\"SELECT * FROM sales_branch\", conn)  \n",
    "country = pd.read_sql(\"SELECT * FROM country\", conn)\n",
    "sales_territory = pd.read_sql(\"SELECT * FROM sales_territory\", conn)\n",
    "sales_staff = pd.read_sql(\"SELECT * FROM sales_staff\", conn)\n",
    "order_header = pd.read_sql(\"SELECT * FROM order_header\", conn)\n",
    "order_details = pd.read_sql(\"SELECT * FROM order_details\", conn)    \n",
    "\n",
    "# Aantal medewerkers per sales branch\n",
    "staff_count = sales_staff.groupby(\"SALES_BRANCH_CODE\").agg(NUM_EMPLOYEES=(\"SALES_STAFF_CODE\", \"count\")).reset_index()\n",
    "\n",
    "# Aantal orders per sales branch\n",
    "order_count = order_header.groupby(\"SALES_BRANCH_CODE\").agg(TOTAL_ORDERS=(\"ORDER_NUMBER\", \"count\")).reset_index()\n",
    "\n",
    "\n",
    "sales_branch = sales_branch.merge(staff_count, on=\"SALES_BRANCH_CODE\", how=\"left\")\n",
    "sales_branch = sales_branch.merge(order_count, on=\"SALES_BRANCH_CODE\", how=\"left\")\n",
    "\n",
    "\n",
    "sales_branch = sales_branch.merge(country, on=\"COUNTRY_CODE\", how=\"left\")\n",
    "sales_branch = sales_branch.merge(sales_territory, on=\"SALES_TERRITORY_CODE\", how=\"left\")\n",
    "sales_branch = sales_branch.merge(sales_staff, on=\"SALES_BRANCH_CODE\", how=\"left\")\n",
    "sales_branch = sales_branch.merge(order_header, on=\"SALES_BRANCH_CODE\", how=\"left\")\n",
    "sales_branch = sales_branch.merge(order_details, on=\"ORDER_NUMBER\", how=\"left\")\n",
    "\n"
   ]
  },
  {
   "cell_type": "markdown",
   "metadata": {},
   "source": [
    "<h3> relevante data overhouden"
   ]
  },
  {
   "cell_type": "code",
   "execution_count": 21,
   "metadata": {},
   "outputs": [
    {
     "data": {
      "text/plain": [
       "['NUM_EMPLOYEES',\n",
       " 'TOTAL_ORDERS',\n",
       " 'COUNTRY_EN_Austria',\n",
       " 'COUNTRY_EN_Belgium',\n",
       " 'COUNTRY_EN_Brazil',\n",
       " 'COUNTRY_EN_Canada',\n",
       " 'COUNTRY_EN_China',\n",
       " 'COUNTRY_EN_Finland',\n",
       " 'COUNTRY_EN_France',\n",
       " 'COUNTRY_EN_Germany',\n",
       " 'COUNTRY_EN_Italy',\n",
       " 'COUNTRY_EN_Japan',\n",
       " 'COUNTRY_EN_Korea',\n",
       " 'COUNTRY_EN_Mexico',\n",
       " 'COUNTRY_EN_Netherlands',\n",
       " 'COUNTRY_EN_Spain',\n",
       " 'COUNTRY_EN_Sweden',\n",
       " 'COUNTRY_EN_Switzerland',\n",
       " 'COUNTRY_EN_Taiwan',\n",
       " 'COUNTRY_EN_United Kingdom',\n",
       " 'COUNTRY_EN_United States',\n",
       " 'TERRITORY_NAME_EN_Asia Pacific',\n",
       " 'TERRITORY_NAME_EN_Central Europe',\n",
       " 'TERRITORY_NAME_EN_Northern Europe',\n",
       " 'TERRITORY_NAME_EN_Southern Europe']"
      ]
     },
     "execution_count": 21,
     "metadata": {},
     "output_type": "execute_result"
    }
   ],
   "source": [
    "sales_branch = sales_branch[['SALES_BRANCH_CODE','COUNTRY_EN','TERRITORY_NAME_EN','NUM_EMPLOYEES','TOTAL_ORDERS']]\n",
    "\n",
    "x = sales_branch[['COUNTRY_EN','TERRITORY_NAME_EN','NUM_EMPLOYEES','TOTAL_ORDERS']]\n",
    "\n",
    "x_encoded = pd.get_dummies(x, drop_first=True)\n",
    "\n",
    "x_encoded.columns.to_list()\n"
   ]
  },
  {
   "cell_type": "markdown",
   "metadata": {},
   "source": [
    "<h3> data scalen"
   ]
  },
  {
   "cell_type": "code",
   "execution_count": 23,
   "metadata": {},
   "outputs": [],
   "source": [
    "scaler = StandardScaler()\n",
    "x_scaled = scaler.fit_transform(x_encoded)\n",
    "\n",
    "\n",
    "#Waarom belangrijk?\n",
    "#Stel dat één feature TOTAL_ORDERS heeft waarden tussen 10 en 100, en een andere feature NUM_EMPLOYEES ligt tussen 1 en 10. \n",
    "# Dan zou TOTAL_ORDERS veel meer invloed hebben op de clustering, puur omdat het een grotere schaal heeft. Standaardisatie voorkomt dat."
   ]
  },
  {
   "cell_type": "markdown",
   "metadata": {},
   "source": [
    "<h3> Clustermodel bouwen"
   ]
  },
  {
   "cell_type": "code",
   "execution_count": 61,
   "metadata": {},
   "outputs": [
    {
     "data": {
      "text/plain": [
       "4    43286\n",
       "3    30075\n",
       "6    15952\n",
       "5    14217\n",
       "1    12570\n",
       "2    12310\n",
       "0    11580\n",
       "7     8412\n",
       "Name: count, dtype: int64"
      ]
     },
     "execution_count": 61,
     "metadata": {},
     "output_type": "execute_result"
    }
   ],
   "source": [
    "kmeans = KMeans(n_clusters=8, random_state=42)\n",
    "sales_branch[\"CLUSTER\"] = kmeans.fit_predict(x_scaled)\n",
    "\n",
    "pd.Series(kmeans.labels_).value_counts()\n",
    "\n"
   ]
  },
  {
   "cell_type": "code",
   "execution_count": 62,
   "metadata": {},
   "outputs": [
    {
     "data": {
      "text/plain": [
       "CLUSTER  COUNTRY_EN    \n",
       "0        Canada            11580\n",
       "1        Netherlands       12570\n",
       "2        Italy              6060\n",
       "         Austria            3460\n",
       "         Spain              2790\n",
       "3        United Kingdom    14216\n",
       "         Germany            8045\n",
       "         Belgium            4088\n",
       "         Switzerland        3726\n",
       "4        United States     39737\n",
       "         Mexico             3549\n",
       "5        Australia          5675\n",
       "         Japan              3112\n",
       "         Brazil             1662\n",
       "         China              1370\n",
       "         Taiwan             1200\n",
       "         Korea              1198\n",
       "6        Sweden            13804\n",
       "         Finland            2148\n",
       "7        France             8412\n",
       "Name: count, dtype: int64"
      ]
     },
     "execution_count": 62,
     "metadata": {},
     "output_type": "execute_result"
    }
   ],
   "source": [
    "sales_branch.groupby(\"CLUSTER\").mean(numeric_only=True)\n",
    "sales_branch.groupby(\"CLUSTER\")[\"COUNTRY_EN\"].value_counts()\n"
   ]
  },
  {
   "cell_type": "code",
   "execution_count": 63,
   "metadata": {},
   "outputs": [
    {
     "data": {
      "image/png": "[encoded data removed]",
      "text/plain": [
       "<Figure size 640x480 with 2 Axes>"
      ]
     },
     "metadata": {},
     "output_type": "display_data"
    }
   ],
   "source": [
    "pca = PCA(n_components=2)\n",
    "components = pca.fit_transform(x_scaled)\n",
    "\n",
    "plt.scatter(components[:,0], components[:,1], c=sales_branch[\"CLUSTER\"])\n",
    "plt.title(\"Clustering van Sales Branches (PCA 2D)\")\n",
    "plt.xlabel(\"Component 1\")\n",
    "plt.ylabel(\"Component 2\")\n",
    "plt.colorbar(label=\"Cluster\")\n",
    "plt.show()"
   ]
  },
  {
   "cell_type": "markdown",
   "metadata": {},
   "source": [
    "<h3> conclusie\n",
    "<h5> ik heb uiteindelijk gekozen voor 8 clusters omdat de clusterverdeling dan het minst scheef is (de data is dus niet enorm verdeeld per cluster, maar best netjes onderverdeeld)\n",
    "\n",
    "ik vond 4 clusters ook wel wat hebben qua visuele output, maar in sommige clusters was de data te dominant, wat niet goed is volgens internet"
   ]
  }
 ],
 "metadata": {
  "kernelspec": {
   "display_name": ".venv",
   "language": "python",
   "name": "python3"
  },
  "language_info": {
   "codemirror_mode": {
    "name": "ipython",
    "version": 3
   },
   "file_extension": ".py",
   "mimetype": "text/x-python",
   "name": "python",
   "nbconvert_exporter": "python",
   "pygments_lexer": "ipython3",
   "version": "3.13.2"
  }
 },
 "nbformat": 4,
 "nbformat_minor": 2
}
